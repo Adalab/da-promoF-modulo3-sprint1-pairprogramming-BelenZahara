{
 "cells": [
  {
   "cell_type": "markdown",
   "metadata": {},
   "source": [
    "            Creación y Indexación:"
   ]
  },
  {
   "cell_type": "code",
   "execution_count": 1,
   "metadata": {},
   "outputs": [],
   "source": [
    "import numpy as np"
   ]
  },
  {
   "cell_type": "markdown",
   "metadata": {},
   "source": [
    "1. Crea un array 1D con 50 valores aleatorio del 10 al 99. Accede a los elementos en las posiciones múltiplos de 5."
   ]
  },
  {
   "cell_type": "code",
   "execution_count": null,
   "metadata": {},
   "outputs": [],
   "source": [
    "array1 = np.random.randint(10,100,50)\n",
    "array1\n"
   ]
  },
  {
   "cell_type": "code",
   "execution_count": null,
   "metadata": {},
   "outputs": [],
   "source": [
    "print(array1[::5])"
   ]
  },
  {
   "cell_type": "markdown",
   "metadata": {},
   "source": [
    "2.Crea un array 1D con 30 valores del 1 al 20 (ambos incluidos). Utiliza indexación para obtener los elementos en las posiciones impares."
   ]
  },
  {
   "cell_type": "code",
   "execution_count": null,
   "metadata": {},
   "outputs": [],
   "source": [
    "array2=np.random.randint(1,21,30)\n",
    "array2"
   ]
  },
  {
   "cell_type": "code",
   "execution_count": null,
   "metadata": {},
   "outputs": [],
   "source": [
    "print(array2[1::2])"
   ]
  },
  {
   "cell_type": "markdown",
   "metadata": {},
   "source": [
    "3. Crea un array 2D de forma (4, 6) con números aleatorios decimales (no deben estar comprendidos solo entre 0 y 1). Accede a la última fila de la matriz. Los decimales deben estar redondeados a 2 decimales."
   ]
  },
  {
   "cell_type": "code",
   "execution_count": null,
   "metadata": {},
   "outputs": [],
   "source": [
    "array3 = np.random.rand(4,6).round(2)\n",
    "array3 +1"
   ]
  },
  {
   "cell_type": "markdown",
   "metadata": {},
   "source": [
    "4.Crea un array NumPy 2D de forma (6, 4) con valores decimales entre 0 y 1. Accede a la segunda columna de la matriz. Los números deben estar redondeados a 2 decimales.\n"
   ]
  },
  {
   "cell_type": "code",
   "execution_count": null,
   "metadata": {},
   "outputs": [],
   "source": [
    "array4= np.random.rand(6,4)\n",
    "array4\n"
   ]
  },
  {
   "cell_type": "code",
   "execution_count": null,
   "metadata": {},
   "outputs": [],
   "source": [
    "print(array4[:,1])"
   ]
  },
  {
   "cell_type": "code",
   "execution_count": null,
   "metadata": {},
   "outputs": [],
   "source": [
    "array4.round(2)"
   ]
  },
  {
   "cell_type": "markdown",
   "metadata": {},
   "source": [
    "5. Crea un array 1D con 30 valores enteros aleatorios entre -50 y 50. Extrae los valores negativos."
   ]
  },
  {
   "cell_type": "code",
   "execution_count": null,
   "metadata": {},
   "outputs": [],
   "source": [
    "array5=np.random.randint(-50,50,30)\n",
    "array5"
   ]
  },
  {
   "cell_type": "code",
   "execution_count": null,
   "metadata": {},
   "outputs": [],
   "source": [
    "array5neg= array5[array5<0]\n",
    "array5neg"
   ]
  },
  {
   "cell_type": "code",
   "execution_count": null,
   "metadata": {},
   "outputs": [],
   "source": [
    "array5negindices=np.where(array5<0)\n",
    "array5negindices"
   ]
  },
  {
   "cell_type": "code",
   "execution_count": null,
   "metadata": {},
   "outputs": [],
   "source": [
    "array5b=array5[[array5negindices]]\n",
    "array5b"
   ]
  },
  {
   "cell_type": "markdown",
   "metadata": {},
   "source": [
    "6. Crea un array 1D con 10 valores entre 0 y 1. Redondea los decimales a 2. Obtén los elementos cuyo valor es mayor que 0.5. ¿En que posición/es están esos elementos?"
   ]
  },
  {
   "cell_type": "code",
   "execution_count": 13,
   "metadata": {},
   "outputs": [
    {
     "data": {
      "text/plain": [
       "array([0.42, 0.99, 0.46, 0.05, 0.39, 0.43, 0.28, 0.19, 0.5 , 0.96])"
      ]
     },
     "execution_count": 13,
     "metadata": {},
     "output_type": "execute_result"
    }
   ],
   "source": [
    "array_6 = np.random.rand(10).round(2)\n",
    "array_6\n"
   ]
  },
  {
   "cell_type": "code",
   "execution_count": 14,
   "metadata": {},
   "outputs": [
    {
     "data": {
      "text/plain": [
       "(array([1, 9]),)"
      ]
     },
     "execution_count": 14,
     "metadata": {},
     "output_type": "execute_result"
    }
   ],
   "source": [
    "np.where(array_6 > 0.5) #No sé por qué devuelve una coma antes del último paréntesis\n"
   ]
  },
  {
   "cell_type": "markdown",
   "metadata": {},
   "source": [
    "7. Crea un array 1D con 40 valores del 1 al 100 (ambos incluidos). Obtén los elementos que son divisibles por 3 y por 4."
   ]
  },
  {
   "cell_type": "code",
   "execution_count": null,
   "metadata": {},
   "outputs": [],
   "source": [
    "\n",
    "array_1d = np.arange(1, 101)[:40]\n",
    "\n",
    "resultado = array_1d[(array_1d % 3 == 0) & (array_1d % 4 == 0)]\n",
    "\n",
    "print(f\"Array original: {array_1d}\")\n",
    "print(f\"Elementos divisibles por 3 y por 4: {resultado}\")\n",
    "\n"
   ]
  },
  {
   "cell_type": "markdown",
   "metadata": {},
   "source": [
    "8. BONUS: Crea un array 3D de forma (2, 3, 5) y 50 elementos con números enteros entre 0 y 100 (ambos incluidos). Reemplaza los elementos en posiciones múltiplos de 3 por 0."
   ]
  },
  {
   "cell_type": "code",
   "execution_count": 30,
   "metadata": {},
   "outputs": [
    {
     "data": {
      "text/plain": [
       "array([[[14,  0, 73, 58, 41],\n",
       "        [55, 12, 10, 49, 89],\n",
       "        [ 5, 73, 40, 56, 64]],\n",
       "\n",
       "       [[57, 27, 37, 83, 51],\n",
       "        [70,  9, 63, 22, 91],\n",
       "        [65, 77, 76, 18, 45]]])"
      ]
     },
     "execution_count": 30,
     "metadata": {},
     "output_type": "execute_result"
    }
   ],
   "source": [
    "# No entiendo la parte de los 50 elementos, con esas simensiones solo salen 30 elementos :S\n",
    "\n",
    "array_8 = np.random.randint(0,101, (2,3,5))\n",
    "array_8\n",
    "\n"
   ]
  },
  {
   "cell_type": "code",
   "execution_count": 33,
   "metadata": {},
   "outputs": [
    {
     "data": {
      "text/plain": [
       "array([[[14,  0, 73, 58, 41],\n",
       "        [55,  0, 10, 49, 89],\n",
       "        [ 5, 73, 40, 56, 64]],\n",
       "\n",
       "       [[ 0,  0, 37, 83,  0],\n",
       "        [70,  0,  0, 22, 91],\n",
       "        [65, 77, 76,  0,  0]]])"
      ]
     },
     "execution_count": 33,
     "metadata": {},
     "output_type": "execute_result"
    }
   ],
   "source": [
    "array_8_3en3 = np.where(array_8 % 3 == 0, 0, array_8)\n",
    "array_8_3en3"
   ]
  },
  {
   "cell_type": "markdown",
   "metadata": {},
   "source": [
    "                    Reshape y Transpose:"
   ]
  },
  {
   "cell_type": "markdown",
   "metadata": {},
   "source": [
    "1. Crea un array 3D de forma (2, 3, 4) con valores aleatorios entre 1 y 100 (ambos inclusive). Utiliza reshape para convertirlo en un array 2D. Deberás pensar en la forma que es correcta para hacer este cambio."
   ]
  },
  {
   "cell_type": "code",
   "execution_count": null,
   "metadata": {},
   "outputs": [],
   "source": [
    "\n",
    "\n",
    "array_3d = np.random.randint(1, 101, size=(2, 3, 4))\n",
    "print(array_3d)\n",
    "\n",
    "# Utilizar reshape para convertirlo en un array 2D\n",
    "array_2d = array_3d.reshape((2, -1))\n",
    "\n",
    "print(array_2d)"
   ]
  },
  {
   "cell_type": "markdown",
   "metadata": {},
   "source": [
    "2. Crea un array 3D de forma (3, 4, 5) con valores enteros del 1 al 60 (sin incluir). Utiliza reshape para convertirlo en un array 2D."
   ]
  },
  {
   "cell_type": "code",
   "execution_count": 16,
   "metadata": {},
   "outputs": [
    {
     "data": {
      "text/plain": [
       "array([[[47,  7, 25, 30,  5],\n",
       "        [33,  9, 28, 53, 39],\n",
       "        [49, 50, 18, 24,  4],\n",
       "        [11,  4, 17, 48, 23]],\n",
       "\n",
       "       [[28, 58, 51, 23,  9],\n",
       "        [42, 14, 18, 18, 57],\n",
       "        [20, 58, 14, 11, 57],\n",
       "        [55, 53,  5, 29, 38]],\n",
       "\n",
       "       [[46, 30, 35, 13, 16],\n",
       "        [ 2, 55,  5, 17,  8],\n",
       "        [ 9,  2, 40, 22, 31],\n",
       "        [26, 18, 46,  6, 35]]])"
      ]
     },
     "execution_count": 16,
     "metadata": {},
     "output_type": "execute_result"
    }
   ],
   "source": [
    "array_2 = np.random.randint(1,60, (3,4,5))\n",
    "array_2\n"
   ]
  },
  {
   "cell_type": "code",
   "execution_count": 19,
   "metadata": {},
   "outputs": [
    {
     "data": {
      "text/plain": [
       "array([[47,  7, 25, 30,  5, 33,  9, 28, 53, 39, 49, 50, 18, 24,  4, 11,\n",
       "         4, 17, 48, 23],\n",
       "       [28, 58, 51, 23,  9, 42, 14, 18, 18, 57, 20, 58, 14, 11, 57, 55,\n",
       "        53,  5, 29, 38],\n",
       "       [46, 30, 35, 13, 16,  2, 55,  5, 17,  8,  9,  2, 40, 22, 31, 26,\n",
       "        18, 46,  6, 35]])"
      ]
     },
     "execution_count": 19,
     "metadata": {},
     "output_type": "execute_result"
    }
   ],
   "source": [
    "array_reshape = np.reshape(array_2, (3,20))\n",
    "array_reshape\n"
   ]
  },
  {
   "cell_type": "markdown",
   "metadata": {},
   "source": [
    "3. Crea un array 3D de forma (4, 3, 2) con valores aleatorios entre 0 y 1. Utiliza reshape para convertirlo en un array 2D"
   ]
  },
  {
   "cell_type": "code",
   "execution_count": null,
   "metadata": {},
   "outputs": [],
   "source": [
    "\n",
    "array_3d = np.random.rand(4, 3, 2)\n",
    "print(array_3d)\n",
    "array_2d = array_3d.reshape((4, -1))\n",
    "print(array_2d)\n"
   ]
  },
  {
   "cell_type": "markdown",
   "metadata": {},
   "source": [
    "4. Utiliza el array 3D del ejercicio 2 de reshape. Utiliza transpose para permutar los ejes y obtener un nuevo array con forma (5, 4, 3)."
   ]
  },
  {
   "cell_type": "code",
   "execution_count": 24,
   "metadata": {},
   "outputs": [
    {
     "data": {
      "text/plain": [
       "array([[[11,  6, 36, 38,  5],\n",
       "        [ 7, 16, 41, 46, 50],\n",
       "        [ 1,  8, 13, 14, 27],\n",
       "        [48, 20,  8, 49, 41]],\n",
       "\n",
       "       [[45, 12, 56, 12, 15],\n",
       "        [39,  6, 32, 29, 44],\n",
       "        [55, 36,  8, 50, 52],\n",
       "        [26, 57, 51, 20, 21]],\n",
       "\n",
       "       [[34, 46, 57, 44, 12],\n",
       "        [37, 59, 23, 20, 58],\n",
       "        [51, 17, 38, 31, 16],\n",
       "        [34,  8, 10, 51, 38]]])"
      ]
     },
     "execution_count": 24,
     "metadata": {},
     "output_type": "execute_result"
    }
   ],
   "source": [
    "array_4 = np.random.randint(1,60, (3,4,5))\n",
    "array_4\n",
    "\n"
   ]
  },
  {
   "cell_type": "code",
   "execution_count": 26,
   "metadata": {},
   "outputs": [
    {
     "data": {
      "text/plain": [
       "array([[[11,  6, 36, 38,  5],\n",
       "        [45, 12, 56, 12, 15],\n",
       "        [34, 46, 57, 44, 12]],\n",
       "\n",
       "       [[ 7, 16, 41, 46, 50],\n",
       "        [39,  6, 32, 29, 44],\n",
       "        [37, 59, 23, 20, 58]],\n",
       "\n",
       "       [[ 1,  8, 13, 14, 27],\n",
       "        [55, 36,  8, 50, 52],\n",
       "        [51, 17, 38, 31, 16]],\n",
       "\n",
       "       [[48, 20,  8, 49, 41],\n",
       "        [26, 57, 51, 20, 21],\n",
       "        [34,  8, 10, 51, 38]]])"
      ]
     },
     "execution_count": 26,
     "metadata": {},
     "output_type": "execute_result"
    }
   ],
   "source": [
    "array_transpose4 = np.transpose(array_4,(1,0,2))\n",
    "array_transpose4"
   ]
  },
  {
   "cell_type": "markdown",
   "metadata": {},
   "source": [
    "5. Utiliza el array 3D del ejercicio 3 de reshape. Utiliza transpose para cambiar el orden de los ejes y obtener un nuevo array con forma (3, 2, 4)."
   ]
  },
  {
   "cell_type": "code",
   "execution_count": null,
   "metadata": {},
   "outputs": [],
   "source": [
    "\n",
    "array_3d = np.random.rand(4, 3, 2)\n",
    "print(array_3d)\n",
    "array_transposed = np.transpose(array_3d, (1, 2, 0))\n",
    "print(array_transposed)\n"
   ]
  },
  {
   "cell_type": "markdown",
   "metadata": {},
   "source": [
    "6. ¿Qué diferencia existe entre el reshape y el transpose?"
   ]
  },
  {
   "cell_type": "markdown",
   "metadata": {},
   "source": [
    "Con \"reshape\", siempre y cuando se respete el número de valores, cambia la forma del array. Sin embargo, con \"transpose\" se intercambian las dimensiones. "
   ]
  },
  {
   "cell_type": "markdown",
   "metadata": {},
   "source": [
    "7. ¿Y entre el transpose y el swapaxes?"
   ]
  },
  {
   "cell_type": "markdown",
   "metadata": {},
   "source": [
    "            Funciones Aritméticas y Estadísticas:"
   ]
  },
  {
   "cell_type": "markdown",
   "metadata": {},
   "source": [
    "1. Crea un array de tres 3D con elementos entre el 0 y 1 de forma (2, 3, 5) cuyos valores solo tengan 1 decimal."
   ]
  },
  {
   "cell_type": "code",
   "execution_count": null,
   "metadata": {},
   "outputs": [],
   "source": [
    "\n",
    "array_3d = np.round(np.random.rand(2, 3, 5), 1)\n",
    "print(array_3d)\n"
   ]
  },
  {
   "cell_type": "markdown",
   "metadata": {},
   "source": [
    "\n",
    "2. Crea un array vacío con la misma forma y dimensiones que el array creado anteriormente. Vamos a reemplazar los valores de la matriz vacía que nos acabamos de crear pero basándonos en los valores del primer array bajo las siguientes condiciones:\n",
    "- Si el valor del array es igual que la media, se reemplaza por \"A\".\n",
    "- Si el valor del array es mayor que la media, se reemplaza por \"B\".\n",
    "- Si el valor del array es menor que la media, se reemplaza por \"C\".\n",
    "- Si el valor es igual que el máximo, se reemplaza por \"D\".\n",
    "- Si el valor es igual que el mínimo, se reemplaza por \"E\".\n",
    " a modo de ejemplo. Si tenemos el siguiente array \n",
    "[[[0.4, 0.7, 0.2, 0.9, 0.2],\n",
    "    [0.1, 0.9, 0.6, 0.1, 0.2],\n",
    "    [1. , 0.2, 0.1, 0.8, 0.3]],\n",
    "​\n",
    "[[0. , 0.3, 0.4, 0.5, 0.1],\n",
    "    [0.5, 0.7, 0.9, 0. , 0.8],\n",
    "    [0.5, 0.3, 0.5, 0.8, 0.1]]])\n",
    "​\n",
    "sabiendo que la media es 0.4 y el máximo es 1.0 y el mínimo es 0.0\n",
    "​\n",
    "nuestro array vacío debería quedar como este: \n",
    "[[[\"A\", \"B\", \"C\", \"B\", \"C\"],\n",
    "    [\"C\", \"B\", \"B\", \"C\", \"C\"],\n",
    "    [\"D\" , \"C\", \"C\", \"B\", \"C\"]],\n",
    "​\n",
    "[[\"E\" , \"C\", \"A\", \"B\", \"C\"],\n",
    "    [\"B\", \"B\",\"B\", \"E\" , \"B\"],\n",
    "    [\"B\", \"C\", \"B\", \"B\", \"C\"]]]"
   ]
  },
  {
   "cell_type": "code",
   "execution_count": 34,
   "metadata": {},
   "outputs": [
    {
     "data": {
      "text/plain": [
       "array([[[0.9, 0. , 0.8, 0.5, 0.1],\n",
       "        [0.5, 0.3, 0.4, 0.5, 0.9],\n",
       "        [0.1, 0.4, 0.5, 0.8, 0.6]],\n",
       "\n",
       "       [[0.8, 0.6, 0.3, 1. , 0.3],\n",
       "        [0.3, 0.3, 0. , 1. , 1. ],\n",
       "        [0.3, 0.9, 0.1, 0.9, 0.1]]])"
      ]
     },
     "execution_count": 34,
     "metadata": {},
     "output_type": "execute_result"
    }
   ],
   "source": [
    "array_funcion = np.random.random_sample((2,3,5)).round(1)\n",
    "array_funcion"
   ]
  },
  {
   "cell_type": "code",
   "execution_count": 37,
   "metadata": {},
   "outputs": [
    {
     "name": "stdout",
     "output_type": "stream",
     "text": [
      "La media del array es 0.5066666666666666\n"
     ]
    }
   ],
   "source": [
    "array_media = np.mean(array_funcion)\n",
    "print(f\"La media del array es {array_media}\")\n"
   ]
  },
  {
   "cell_type": "code",
   "execution_count": 38,
   "metadata": {},
   "outputs": [
    {
     "data": {
      "text/plain": [
       "array([[['0.9', '0.0', '0.8', '0.5', '0.1'],\n",
       "        ['0.5', '0.3', '0.4', '0.5', '0.9'],\n",
       "        ['0.1', '0.4', '0.5', '0.8', '0.6']],\n",
       "\n",
       "       [['0.8', '0.6', '0.3', '1.0', '0.3'],\n",
       "        ['0.3', '0.3', '0.0', '1.0', '1.0'],\n",
       "        ['0.3', '0.9', '0.1', '0.9', '0.1']]], dtype='<U32')"
      ]
     },
     "execution_count": 38,
     "metadata": {},
     "output_type": "execute_result"
    }
   ],
   "source": [
    "# - Si el valor del array es igual que la media, se reemplaza por \"A\".\n",
    "\n",
    "np.where(array_funcion == array_media, \"A\", array_funcion)\n"
   ]
  },
  {
   "cell_type": "code",
   "execution_count": 39,
   "metadata": {},
   "outputs": [
    {
     "data": {
      "text/plain": [
       "array([[['0.9', 'B', '0.8', 'B', 'B'],\n",
       "        ['B', 'B', 'B', 'B', '0.9'],\n",
       "        ['B', 'B', 'B', '0.8', '0.6']],\n",
       "\n",
       "       [['0.8', '0.6', 'B', '1.0', 'B'],\n",
       "        ['B', 'B', 'B', '1.0', '1.0'],\n",
       "        ['B', '0.9', 'B', '0.9', 'B']]], dtype='<U32')"
      ]
     },
     "execution_count": 39,
     "metadata": {},
     "output_type": "execute_result"
    }
   ],
   "source": [
    "# - Si el valor del array es mayor que la media, se reemplaza por \"B\"\n",
    "np.where(array_funcion <  array_media, \"B\", array_funcion)"
   ]
  },
  {
   "cell_type": "code",
   "execution_count": 42,
   "metadata": {},
   "outputs": [
    {
     "data": {
      "text/plain": [
       "array([[['C', '0.0', 'C', '0.5', '0.1'],\n",
       "        ['0.5', '0.3', '0.4', '0.5', 'C'],\n",
       "        ['0.1', '0.4', '0.5', 'C', 'C']],\n",
       "\n",
       "       [['C', 'C', '0.3', 'C', '0.3'],\n",
       "        ['0.3', '0.3', '0.0', 'C', 'C'],\n",
       "        ['0.3', 'C', '0.1', 'C', '0.1']]], dtype='<U32')"
      ]
     },
     "execution_count": 42,
     "metadata": {},
     "output_type": "execute_result"
    }
   ],
   "source": [
    "# - Si el valor del array es menor que la media, se reemplaza por \"C\"\n",
    "np.where(array_funcion > array_media, \"C\", array_funcion)"
   ]
  },
  {
   "cell_type": "code",
   "execution_count": 45,
   "metadata": {},
   "outputs": [
    {
     "data": {
      "text/plain": [
       "array([[['0.9', '0.0', '0.8', '0.5', '0.1'],\n",
       "        ['0.5', '0.3', '0.4', '0.5', '0.9'],\n",
       "        ['0.1', '0.4', '0.5', '0.8', '0.6']],\n",
       "\n",
       "       [['0.8', '0.6', '0.3', 'D', '0.3'],\n",
       "        ['0.3', '0.3', '0.0', 'D', 'D'],\n",
       "        ['0.3', '0.9', '0.1', '0.9', '0.1']]], dtype='<U32')"
      ]
     },
     "execution_count": 45,
     "metadata": {},
     "output_type": "execute_result"
    }
   ],
   "source": [
    "# - Si el valor es igual que el máximo, se reemplaza por \"D\"\n",
    "array_maximo = np.max(array_funcion)\n",
    "np.where(array_funcion == array_maximo, \"D\", array_funcion)\n"
   ]
  },
  {
   "cell_type": "code",
   "execution_count": 47,
   "metadata": {},
   "outputs": [
    {
     "data": {
      "text/plain": [
       "array([[['0.9', 'E', '0.8', '0.5', '0.1'],\n",
       "        ['0.5', '0.3', '0.4', '0.5', '0.9'],\n",
       "        ['0.1', '0.4', '0.5', '0.8', '0.6']],\n",
       "\n",
       "       [['0.8', '0.6', '0.3', '1.0', '0.3'],\n",
       "        ['0.3', '0.3', 'E', '1.0', '1.0'],\n",
       "        ['0.3', '0.9', '0.1', '0.9', '0.1']]], dtype='<U32')"
      ]
     },
     "execution_count": 47,
     "metadata": {},
     "output_type": "execute_result"
    }
   ],
   "source": [
    "#Si el valor es igual que el mínimo, se reemplaza por \"E\"\n",
    "\n",
    "array_minimo= np.min(array_funcion)\n",
    "np.where(array_funcion == array_minimo, \"E\", array_funcion)\n"
   ]
  }
 ],
 "metadata": {
  "kernelspec": {
   "display_name": "base",
   "language": "python",
   "name": "python3"
  },
  "language_info": {
   "codemirror_mode": {
    "name": "ipython",
    "version": 3
   },
   "file_extension": ".py",
   "mimetype": "text/x-python",
   "name": "python",
   "nbconvert_exporter": "python",
   "pygments_lexer": "ipython3",
   "version": "3.9.7"
  }
 },
 "nbformat": 4,
 "nbformat_minor": 2
}
