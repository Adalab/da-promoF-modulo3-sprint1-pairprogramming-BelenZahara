{
 "cells": [
  {
   "cell_type": "code",
   "execution_count": 1,
   "metadata": {},
   "outputs": [],
   "source": [
    "import pandas as pd\n",
    "import numpy as np\n",
    "\n",
    "from sklearn.impute import SimpleImputer\n",
    "from sklearn.experimental import enable_iterative_imputer\n",
    "from sklearn.impute import IterativeImputer\n",
    "from sklearn.impute import KNNImputer\n",
    "\n",
    "\n",
    "import seaborn as sns\n",
    "import matplotlib.pyplot as plt\n",
    "\n",
    "pd.set_option('display.max_columns', None) # para poder visualizar todas las columnas de los DataFrames"
   ]
  },
  {
   "cell_type": "code",
   "execution_count": 3,
   "metadata": {},
   "outputs": [],
   "source": [
    "df= pd.read_csv('pair_nulos.csv', index_col=0)"
   ]
  },
  {
   "cell_type": "markdown",
   "metadata": {},
   "source": [
    "Gestion de Nulos\n",
    "\n",
    "En este pair programming usaremos el csv que generamos en el pair programming de ayer. El objetivo del ejercicio es identificar las columnas que contienen valores nulos y aplicar un proceso de imputación para manejarlos de manera adecuada.\n",
    "\n",
    "Instrucciones:\n",
    "\n",
    "Identificación de Valores Nulos: Identifica todas las columnas que contengan valores nulos en el DataFrame.\n",
    "\n",
    "Selección de Método de Imputación: Discute en tu compañera cuál sería la mejor estrategia para manejar los valores nulos en cada una de las columnas identificadas en el paso anterior.\n",
    "\n",
    "Imputación de Valores Nulos: Implementa el método de imputación seleccionado en el paso 2 para llenar los valores nulos en las columnas.\n",
    "\n",
    "Informe: Añade al final de un jupyter una explicación breve que describa las columnas que tenían valores nulos, cómo decidiste imputarlos y cualquier observación adicional que consideres importante sobre el proceso de limpieza de datos.\n",
    "\n",
    "Nota: Puedes utilizar cualquier método o estrategia de imputación que consideres adecuado para los datos y discutir las ventajas y desventajas de tu elección en el informe."
   ]
  },
  {
   "cell_type": "code",
   "execution_count": 5,
   "metadata": {},
   "outputs": [
    {
     "data": {
      "text/plain": [
       "Index(['country', 'density', 'abbreviation', 'agriculturalland', 'landarea',\n",
       "       'armedforcessize', 'birthrate', 'callingcode', 'capital/majorcity',\n",
       "       'co2-emissions', 'cpi', 'cpichange', 'currency-code', 'fertilityrate',\n",
       "       'forestedarea', 'gasolineprice', 'gdp',\n",
       "       'grossprimaryeducationenrollment', 'grosstertiaryeducationenrollment',\n",
       "       'infantmortality', 'largestcity', 'lifeexpectancy',\n",
       "       'maternalmortalityratio', 'minimumwage', 'officiallanguage',\n",
       "       'outofpockethealthexpenditure', 'physiciansperthousand', 'population',\n",
       "       'populationlaborforceparticipation', 'taxrevenue', 'totaltaxrate',\n",
       "       'unemploymentrate', 'urban_population', 'lattitude', 'longitude',\n",
       "       'continente'],\n",
       "      dtype='object')"
      ]
     },
     "execution_count": 5,
     "metadata": {},
     "output_type": "execute_result"
    }
   ],
   "source": [
    "df.columns"
   ]
  },
  {
   "cell_type": "code",
   "execution_count": 4,
   "metadata": {},
   "outputs": [
    {
     "data": {
      "text/html": [
       "<div>\n",
       "<style scoped>\n",
       "    .dataframe tbody tr th:only-of-type {\n",
       "        vertical-align: middle;\n",
       "    }\n",
       "\n",
       "    .dataframe tbody tr th {\n",
       "        vertical-align: top;\n",
       "    }\n",
       "\n",
       "    .dataframe thead th {\n",
       "        text-align: right;\n",
       "    }\n",
       "</style>\n",
       "<table border=\"1\" class=\"dataframe\">\n",
       "  <thead>\n",
       "    <tr style=\"text-align: right;\">\n",
       "      <th></th>\n",
       "      <th>country</th>\n",
       "      <th>density</th>\n",
       "      <th>abbreviation</th>\n",
       "      <th>agriculturalland</th>\n",
       "      <th>landarea</th>\n",
       "      <th>armedforcessize</th>\n",
       "      <th>birthrate</th>\n",
       "      <th>callingcode</th>\n",
       "      <th>capital/majorcity</th>\n",
       "      <th>co2-emissions</th>\n",
       "      <th>cpi</th>\n",
       "      <th>cpichange</th>\n",
       "      <th>currency-code</th>\n",
       "      <th>fertilityrate</th>\n",
       "      <th>forestedarea</th>\n",
       "      <th>gasolineprice</th>\n",
       "      <th>gdp</th>\n",
       "      <th>grossprimaryeducationenrollment</th>\n",
       "      <th>grosstertiaryeducationenrollment</th>\n",
       "      <th>infantmortality</th>\n",
       "      <th>largestcity</th>\n",
       "      <th>lifeexpectancy</th>\n",
       "      <th>maternalmortalityratio</th>\n",
       "      <th>minimumwage</th>\n",
       "      <th>officiallanguage</th>\n",
       "      <th>outofpockethealthexpenditure</th>\n",
       "      <th>physiciansperthousand</th>\n",
       "      <th>population</th>\n",
       "      <th>populationlaborforceparticipation</th>\n",
       "      <th>taxrevenue</th>\n",
       "      <th>totaltaxrate</th>\n",
       "      <th>unemploymentrate</th>\n",
       "      <th>urban_population</th>\n",
       "      <th>lattitude</th>\n",
       "      <th>longitude</th>\n",
       "      <th>continente</th>\n",
       "    </tr>\n",
       "  </thead>\n",
       "  <tbody>\n",
       "    <tr>\n",
       "      <th>0</th>\n",
       "      <td>Afghanistan</td>\n",
       "      <td>60.0</td>\n",
       "      <td>AF</td>\n",
       "      <td>58.1</td>\n",
       "      <td>652230.0</td>\n",
       "      <td>323000.0</td>\n",
       "      <td>32.49</td>\n",
       "      <td>93.0</td>\n",
       "      <td>Kabul</td>\n",
       "      <td>8672.0</td>\n",
       "      <td>149.90</td>\n",
       "      <td>2.3</td>\n",
       "      <td>AFN</td>\n",
       "      <td>4.47</td>\n",
       "      <td>2.1</td>\n",
       "      <td>0.70</td>\n",
       "      <td>1.910135e+10</td>\n",
       "      <td>104.0</td>\n",
       "      <td>9.7</td>\n",
       "      <td>47.9</td>\n",
       "      <td>Kabul</td>\n",
       "      <td>64.5</td>\n",
       "      <td>638.0</td>\n",
       "      <td>0.43</td>\n",
       "      <td>Pashto</td>\n",
       "      <td>78.4</td>\n",
       "      <td>0.28</td>\n",
       "      <td>38041754.0</td>\n",
       "      <td>48.9</td>\n",
       "      <td>9.3</td>\n",
       "      <td>71.4</td>\n",
       "      <td>11.12</td>\n",
       "      <td>9797273.0</td>\n",
       "      <td>33.939110</td>\n",
       "      <td>67.709953</td>\n",
       "      <td>Asia</td>\n",
       "    </tr>\n",
       "    <tr>\n",
       "      <th>1</th>\n",
       "      <td>Albania</td>\n",
       "      <td>105.0</td>\n",
       "      <td>AL</td>\n",
       "      <td>43.1</td>\n",
       "      <td>28748.0</td>\n",
       "      <td>9000.0</td>\n",
       "      <td>11.78</td>\n",
       "      <td>355.0</td>\n",
       "      <td>Tirana</td>\n",
       "      <td>4536.0</td>\n",
       "      <td>119.05</td>\n",
       "      <td>1.4</td>\n",
       "      <td>ALL</td>\n",
       "      <td>1.62</td>\n",
       "      <td>28.1</td>\n",
       "      <td>1.36</td>\n",
       "      <td>1.527808e+10</td>\n",
       "      <td>107.0</td>\n",
       "      <td>55.0</td>\n",
       "      <td>7.8</td>\n",
       "      <td>Tirana</td>\n",
       "      <td>78.5</td>\n",
       "      <td>15.0</td>\n",
       "      <td>1.12</td>\n",
       "      <td>Albanian</td>\n",
       "      <td>56.9</td>\n",
       "      <td>1.20</td>\n",
       "      <td>2854191.0</td>\n",
       "      <td>55.7</td>\n",
       "      <td>18.6</td>\n",
       "      <td>36.6</td>\n",
       "      <td>12.33</td>\n",
       "      <td>1747593.0</td>\n",
       "      <td>41.153332</td>\n",
       "      <td>20.168331</td>\n",
       "      <td>Europa</td>\n",
       "    </tr>\n",
       "    <tr>\n",
       "      <th>2</th>\n",
       "      <td>Algeria</td>\n",
       "      <td>18.0</td>\n",
       "      <td>DZ</td>\n",
       "      <td>17.4</td>\n",
       "      <td>2381741.0</td>\n",
       "      <td>317000.0</td>\n",
       "      <td>24.28</td>\n",
       "      <td>213.0</td>\n",
       "      <td>Algiers</td>\n",
       "      <td>150006.0</td>\n",
       "      <td>151.36</td>\n",
       "      <td>2.0</td>\n",
       "      <td>DZD</td>\n",
       "      <td>3.02</td>\n",
       "      <td>0.8</td>\n",
       "      <td>0.28</td>\n",
       "      <td>1.699882e+11</td>\n",
       "      <td>109.9</td>\n",
       "      <td>51.4</td>\n",
       "      <td>20.1</td>\n",
       "      <td>Algiers</td>\n",
       "      <td>76.7</td>\n",
       "      <td>112.0</td>\n",
       "      <td>0.95</td>\n",
       "      <td>Arabic</td>\n",
       "      <td>28.1</td>\n",
       "      <td>1.72</td>\n",
       "      <td>43053054.0</td>\n",
       "      <td>41.2</td>\n",
       "      <td>37.2</td>\n",
       "      <td>66.1</td>\n",
       "      <td>11.70</td>\n",
       "      <td>31510100.0</td>\n",
       "      <td>28.033886</td>\n",
       "      <td>1.659626</td>\n",
       "      <td>África</td>\n",
       "    </tr>\n",
       "  </tbody>\n",
       "</table>\n",
       "</div>"
      ],
      "text/plain": [
       "       country  density abbreviation  agriculturalland   landarea  \\\n",
       "0  Afghanistan     60.0           AF              58.1   652230.0   \n",
       "1      Albania    105.0           AL              43.1    28748.0   \n",
       "2      Algeria     18.0           DZ              17.4  2381741.0   \n",
       "\n",
       "   armedforcessize  birthrate  callingcode capital/majorcity  co2-emissions  \\\n",
       "0         323000.0      32.49         93.0             Kabul         8672.0   \n",
       "1           9000.0      11.78        355.0            Tirana         4536.0   \n",
       "2         317000.0      24.28        213.0           Algiers       150006.0   \n",
       "\n",
       "      cpi  cpichange currency-code  fertilityrate  forestedarea  \\\n",
       "0  149.90        2.3           AFN           4.47           2.1   \n",
       "1  119.05        1.4           ALL           1.62          28.1   \n",
       "2  151.36        2.0           DZD           3.02           0.8   \n",
       "\n",
       "   gasolineprice           gdp  grossprimaryeducationenrollment  \\\n",
       "0           0.70  1.910135e+10                            104.0   \n",
       "1           1.36  1.527808e+10                            107.0   \n",
       "2           0.28  1.699882e+11                            109.9   \n",
       "\n",
       "   grosstertiaryeducationenrollment  infantmortality largestcity  \\\n",
       "0                               9.7             47.9       Kabul   \n",
       "1                              55.0              7.8      Tirana   \n",
       "2                              51.4             20.1     Algiers   \n",
       "\n",
       "   lifeexpectancy  maternalmortalityratio  minimumwage officiallanguage  \\\n",
       "0            64.5                   638.0         0.43           Pashto   \n",
       "1            78.5                    15.0         1.12         Albanian   \n",
       "2            76.7                   112.0         0.95           Arabic   \n",
       "\n",
       "   outofpockethealthexpenditure  physiciansperthousand  population  \\\n",
       "0                          78.4                   0.28  38041754.0   \n",
       "1                          56.9                   1.20   2854191.0   \n",
       "2                          28.1                   1.72  43053054.0   \n",
       "\n",
       "   populationlaborforceparticipation  taxrevenue  totaltaxrate  \\\n",
       "0                               48.9         9.3          71.4   \n",
       "1                               55.7        18.6          36.6   \n",
       "2                               41.2        37.2          66.1   \n",
       "\n",
       "   unemploymentrate  urban_population  lattitude  longitude continente  \n",
       "0             11.12         9797273.0  33.939110  67.709953       Asia  \n",
       "1             12.33         1747593.0  41.153332  20.168331     Europa  \n",
       "2             11.70        31510100.0  28.033886   1.659626     África  "
      ]
     },
     "execution_count": 4,
     "metadata": {},
     "output_type": "execute_result"
    }
   ],
   "source": [
    "df.head(3)"
   ]
  },
  {
   "cell_type": "code",
   "execution_count": 6,
   "metadata": {},
   "outputs": [
    {
     "name": "stdout",
     "output_type": "stream",
     "text": [
      "<class 'pandas.core.frame.DataFrame'>\n",
      "Int64Index: 195 entries, 0 to 194\n",
      "Data columns (total 36 columns):\n",
      " #   Column                             Non-Null Count  Dtype  \n",
      "---  ------                             --------------  -----  \n",
      " 0   country                            195 non-null    object \n",
      " 1   density                            195 non-null    float64\n",
      " 2   abbreviation                       188 non-null    object \n",
      " 3   agriculturalland                   188 non-null    float64\n",
      " 4   landarea                           194 non-null    float64\n",
      " 5   armedforcessize                    171 non-null    float64\n",
      " 6   birthrate                          189 non-null    float64\n",
      " 7   callingcode                        194 non-null    float64\n",
      " 8   capital/majorcity                  192 non-null    object \n",
      " 9   co2-emissions                      188 non-null    float64\n",
      " 10  cpi                                178 non-null    float64\n",
      " 11  cpichange                          179 non-null    float64\n",
      " 12  currency-code                      180 non-null    object \n",
      " 13  fertilityrate                      188 non-null    float64\n",
      " 14  forestedarea                       188 non-null    float64\n",
      " 15  gasolineprice                      175 non-null    float64\n",
      " 16  gdp                                193 non-null    float64\n",
      " 17  grossprimaryeducationenrollment    188 non-null    float64\n",
      " 18  grosstertiaryeducationenrollment   183 non-null    float64\n",
      " 19  infantmortality                    189 non-null    float64\n",
      " 20  largestcity                        189 non-null    object \n",
      " 21  lifeexpectancy                     187 non-null    float64\n",
      " 22  maternalmortalityratio             181 non-null    float64\n",
      " 23  minimumwage                        150 non-null    float64\n",
      " 24  officiallanguage                   190 non-null    object \n",
      " 25  outofpockethealthexpenditure       188 non-null    float64\n",
      " 26  physiciansperthousand              188 non-null    float64\n",
      " 27  population                         194 non-null    float64\n",
      " 28  populationlaborforceparticipation  176 non-null    float64\n",
      " 29  taxrevenue                         169 non-null    float64\n",
      " 30  totaltaxrate                       183 non-null    float64\n",
      " 31  unemploymentrate                   176 non-null    float64\n",
      " 32  urban_population                   190 non-null    float64\n",
      " 33  lattitude                          194 non-null    float64\n",
      " 34  longitude                          194 non-null    float64\n",
      " 35  continente                         195 non-null    object \n",
      "dtypes: float64(29), object(7)\n",
      "memory usage: 56.4+ KB\n"
     ]
    }
   ],
   "source": [
    "df.info()"
   ]
  },
  {
   "cell_type": "code",
   "execution_count": 7,
   "metadata": {},
   "outputs": [
    {
     "data": {
      "text/plain": [
       "country                               0.000000\n",
       "density                               0.000000\n",
       "abbreviation                          3.589744\n",
       "agriculturalland                      3.589744\n",
       "landarea                              0.512821\n",
       "armedforcessize                      12.307692\n",
       "birthrate                             3.076923\n",
       "callingcode                           0.512821\n",
       "capital/majorcity                     1.538462\n",
       "co2-emissions                         3.589744\n",
       "cpi                                   8.717949\n",
       "cpichange                             8.205128\n",
       "currency-code                         7.692308\n",
       "fertilityrate                         3.589744\n",
       "forestedarea                          3.589744\n",
       "gasolineprice                        10.256410\n",
       "gdp                                   1.025641\n",
       "grossprimaryeducationenrollment       3.589744\n",
       "grosstertiaryeducationenrollment      6.153846\n",
       "infantmortality                       3.076923\n",
       "largestcity                           3.076923\n",
       "lifeexpectancy                        4.102564\n",
       "maternalmortalityratio                7.179487\n",
       "minimumwage                          23.076923\n",
       "officiallanguage                      2.564103\n",
       "outofpockethealthexpenditure          3.589744\n",
       "physiciansperthousand                 3.589744\n",
       "population                            0.512821\n",
       "populationlaborforceparticipation     9.743590\n",
       "taxrevenue                           13.333333\n",
       "totaltaxrate                          6.153846\n",
       "unemploymentrate                      9.743590\n",
       "urban_population                      2.564103\n",
       "lattitude                             0.512821\n",
       "longitude                             0.512821\n",
       "continente                            0.000000\n",
       "dtype: float64"
      ]
     },
     "execution_count": 7,
     "metadata": {},
     "output_type": "execute_result"
    }
   ],
   "source": [
    "(df.isnull().sum() / df.shape[0]) * 100"
   ]
  },
  {
   "cell_type": "code",
   "execution_count": 8,
   "metadata": {},
   "outputs": [
    {
     "data": {
      "text/html": [
       "<div>\n",
       "<style scoped>\n",
       "    .dataframe tbody tr th:only-of-type {\n",
       "        vertical-align: middle;\n",
       "    }\n",
       "\n",
       "    .dataframe tbody tr th {\n",
       "        vertical-align: top;\n",
       "    }\n",
       "\n",
       "    .dataframe thead th {\n",
       "        text-align: right;\n",
       "    }\n",
       "</style>\n",
       "<table border=\"1\" class=\"dataframe\">\n",
       "  <thead>\n",
       "    <tr style=\"text-align: right;\">\n",
       "      <th></th>\n",
       "      <th>%_nulos</th>\n",
       "    </tr>\n",
       "  </thead>\n",
       "  <tbody>\n",
       "    <tr>\n",
       "      <th>abbreviation</th>\n",
       "      <td>3.589744</td>\n",
       "    </tr>\n",
       "    <tr>\n",
       "      <th>agriculturalland</th>\n",
       "      <td>3.589744</td>\n",
       "    </tr>\n",
       "    <tr>\n",
       "      <th>landarea</th>\n",
       "      <td>0.512821</td>\n",
       "    </tr>\n",
       "    <tr>\n",
       "      <th>armedforcessize</th>\n",
       "      <td>12.307692</td>\n",
       "    </tr>\n",
       "    <tr>\n",
       "      <th>birthrate</th>\n",
       "      <td>3.076923</td>\n",
       "    </tr>\n",
       "    <tr>\n",
       "      <th>callingcode</th>\n",
       "      <td>0.512821</td>\n",
       "    </tr>\n",
       "    <tr>\n",
       "      <th>capital/majorcity</th>\n",
       "      <td>1.538462</td>\n",
       "    </tr>\n",
       "    <tr>\n",
       "      <th>co2-emissions</th>\n",
       "      <td>3.589744</td>\n",
       "    </tr>\n",
       "    <tr>\n",
       "      <th>cpi</th>\n",
       "      <td>8.717949</td>\n",
       "    </tr>\n",
       "    <tr>\n",
       "      <th>cpichange</th>\n",
       "      <td>8.205128</td>\n",
       "    </tr>\n",
       "    <tr>\n",
       "      <th>currency-code</th>\n",
       "      <td>7.692308</td>\n",
       "    </tr>\n",
       "    <tr>\n",
       "      <th>fertilityrate</th>\n",
       "      <td>3.589744</td>\n",
       "    </tr>\n",
       "    <tr>\n",
       "      <th>forestedarea</th>\n",
       "      <td>3.589744</td>\n",
       "    </tr>\n",
       "    <tr>\n",
       "      <th>gasolineprice</th>\n",
       "      <td>10.256410</td>\n",
       "    </tr>\n",
       "    <tr>\n",
       "      <th>gdp</th>\n",
       "      <td>1.025641</td>\n",
       "    </tr>\n",
       "    <tr>\n",
       "      <th>grossprimaryeducationenrollment</th>\n",
       "      <td>3.589744</td>\n",
       "    </tr>\n",
       "    <tr>\n",
       "      <th>grosstertiaryeducationenrollment</th>\n",
       "      <td>6.153846</td>\n",
       "    </tr>\n",
       "    <tr>\n",
       "      <th>infantmortality</th>\n",
       "      <td>3.076923</td>\n",
       "    </tr>\n",
       "    <tr>\n",
       "      <th>largestcity</th>\n",
       "      <td>3.076923</td>\n",
       "    </tr>\n",
       "    <tr>\n",
       "      <th>lifeexpectancy</th>\n",
       "      <td>4.102564</td>\n",
       "    </tr>\n",
       "    <tr>\n",
       "      <th>maternalmortalityratio</th>\n",
       "      <td>7.179487</td>\n",
       "    </tr>\n",
       "    <tr>\n",
       "      <th>minimumwage</th>\n",
       "      <td>23.076923</td>\n",
       "    </tr>\n",
       "    <tr>\n",
       "      <th>officiallanguage</th>\n",
       "      <td>2.564103</td>\n",
       "    </tr>\n",
       "    <tr>\n",
       "      <th>outofpockethealthexpenditure</th>\n",
       "      <td>3.589744</td>\n",
       "    </tr>\n",
       "    <tr>\n",
       "      <th>physiciansperthousand</th>\n",
       "      <td>3.589744</td>\n",
       "    </tr>\n",
       "    <tr>\n",
       "      <th>population</th>\n",
       "      <td>0.512821</td>\n",
       "    </tr>\n",
       "    <tr>\n",
       "      <th>populationlaborforceparticipation</th>\n",
       "      <td>9.743590</td>\n",
       "    </tr>\n",
       "    <tr>\n",
       "      <th>taxrevenue</th>\n",
       "      <td>13.333333</td>\n",
       "    </tr>\n",
       "    <tr>\n",
       "      <th>totaltaxrate</th>\n",
       "      <td>6.153846</td>\n",
       "    </tr>\n",
       "    <tr>\n",
       "      <th>unemploymentrate</th>\n",
       "      <td>9.743590</td>\n",
       "    </tr>\n",
       "    <tr>\n",
       "      <th>urban_population</th>\n",
       "      <td>2.564103</td>\n",
       "    </tr>\n",
       "    <tr>\n",
       "      <th>lattitude</th>\n",
       "      <td>0.512821</td>\n",
       "    </tr>\n",
       "    <tr>\n",
       "      <th>longitude</th>\n",
       "      <td>0.512821</td>\n",
       "    </tr>\n",
       "  </tbody>\n",
       "</table>\n",
       "</div>"
      ],
      "text/plain": [
       "                                     %_nulos\n",
       "abbreviation                        3.589744\n",
       "agriculturalland                    3.589744\n",
       "landarea                            0.512821\n",
       "armedforcessize                    12.307692\n",
       "birthrate                           3.076923\n",
       "callingcode                         0.512821\n",
       "capital/majorcity                   1.538462\n",
       "co2-emissions                       3.589744\n",
       "cpi                                 8.717949\n",
       "cpichange                           8.205128\n",
       "currency-code                       7.692308\n",
       "fertilityrate                       3.589744\n",
       "forestedarea                        3.589744\n",
       "gasolineprice                      10.256410\n",
       "gdp                                 1.025641\n",
       "grossprimaryeducationenrollment     3.589744\n",
       "grosstertiaryeducationenrollment    6.153846\n",
       "infantmortality                     3.076923\n",
       "largestcity                         3.076923\n",
       "lifeexpectancy                      4.102564\n",
       "maternalmortalityratio              7.179487\n",
       "minimumwage                        23.076923\n",
       "officiallanguage                    2.564103\n",
       "outofpockethealthexpenditure        3.589744\n",
       "physiciansperthousand               3.589744\n",
       "population                          0.512821\n",
       "populationlaborforceparticipation   9.743590\n",
       "taxrevenue                         13.333333\n",
       "totaltaxrate                        6.153846\n",
       "unemploymentrate                    9.743590\n",
       "urban_population                    2.564103\n",
       "lattitude                           0.512821\n",
       "longitude                           0.512821"
      ]
     },
     "execution_count": 8,
     "metadata": {},
     "output_type": "execute_result"
    }
   ],
   "source": [
    "#Filtramos el dataframe solo para quedarnos con los que son nulos\n",
    "df_nulos = pd.DataFrame((df.isnull().sum() / df.shape[0]) * 100, columns = [\"%_nulos\"])\n",
    "\n",
    "# filtramos el DataFrame para quedarnos solo con aquellas columnas que tengan nulos\n",
    "df_nulos[df_nulos[\"%_nulos\"] > 0]\n"
   ]
  },
  {
   "cell_type": "code",
   "execution_count": 9,
   "metadata": {},
   "outputs": [
    {
     "data": {
      "text/plain": [
       "Index(['abbreviation', 'capital/majorcity', 'currency-code', 'largestcity',\n",
       "       'officiallanguage'],\n",
       "      dtype='object')"
      ]
     },
     "execution_count": 9,
     "metadata": {},
     "output_type": "execute_result"
    }
   ],
   "source": [
    "#Inspeccionamos las columnas que tienen nulos y  son categoricas y los nulos en las numericas\n",
    "nulos_categoricas = df[df.columns[df.isnull().any()]].select_dtypes(include = \"O\").columns\n",
    "nulos_categoricas"
   ]
  },
  {
   "cell_type": "code",
   "execution_count": 10,
   "metadata": {},
   "outputs": [
    {
     "name": "stdout",
     "output_type": "stream",
     "text": [
      "La distribución de las categorías para la columna ABBREVIATION\n"
     ]
    },
    {
     "data": {
      "text/plain": [
       "AF    0.005128\n",
       "PY    0.005128\n",
       "NE    0.005128\n",
       "NG    0.005128\n",
       "KP    0.005128\n",
       "        ...   \n",
       "GR    0.005128\n",
       "GD    0.005128\n",
       "GT    0.005128\n",
       "GN    0.005128\n",
       "ZW    0.005128\n",
       "Name: abbreviation, Length: 188, dtype: float64"
      ]
     },
     "metadata": {},
     "output_type": "display_data"
    },
    {
     "name": "stdout",
     "output_type": "stream",
     "text": [
      "........................\n",
      "La distribución de las categorías para la columna CAPITAL/MAJORCITY\n"
     ]
    },
    {
     "data": {
      "text/plain": [
       "Kabul                    0.005128\n",
       "Tirana                   0.005128\n",
       "Wellington               0.005128\n",
       "Managua                  0.005128\n",
       "Niamey                   0.005128\n",
       "                           ...   \n",
       "Athens                   0.005128\n",
       "St. George's, Grenada    0.005128\n",
       "Guatemala City           0.005128\n",
       "Conakry                  0.005128\n",
       "Harare                   0.005128\n",
       "Name: capital/majorcity, Length: 192, dtype: float64"
      ]
     },
     "metadata": {},
     "output_type": "display_data"
    },
    {
     "name": "stdout",
     "output_type": "stream",
     "text": [
      "........................\n",
      "La distribución de las categorías para la columna CURRENCY-CODE\n"
     ]
    },
    {
     "data": {
      "text/plain": [
       "EUR    0.117949\n",
       "XOF    0.041026\n",
       "XCD    0.030769\n",
       "USD    0.030769\n",
       "XAF    0.025641\n",
       "         ...   \n",
       "GMD    0.005128\n",
       "FJD    0.005128\n",
       "ETB    0.005128\n",
       "ERN    0.005128\n",
       "ZMW    0.005128\n",
       "Name: currency-code, Length: 133, dtype: float64"
      ]
     },
     "metadata": {},
     "output_type": "display_data"
    },
    {
     "name": "stdout",
     "output_type": "stream",
     "text": [
      "........................\n",
      "La distribución de las categorías para la columna LARGESTCITY\n"
     ]
    },
    {
     "data": {
      "text/plain": [
       "S����                    0.010256\n",
       "Panama City              0.005128\n",
       "Managua                  0.005128\n",
       "Niamey                   0.005128\n",
       "Lagos                    0.005128\n",
       "                           ...   \n",
       "Macedonia                0.005128\n",
       "St. George's, Grenada    0.005128\n",
       "Guatemala City           0.005128\n",
       "Kankan                   0.005128\n",
       "Harare                   0.005128\n",
       "Name: largestcity, Length: 188, dtype: float64"
      ]
     },
     "metadata": {},
     "output_type": "display_data"
    },
    {
     "name": "stdout",
     "output_type": "stream",
     "text": [
      "........................\n",
      "La distribución de las categorías para la columna OFFICIALLANGUAGE\n"
     ]
    },
    {
     "data": {
      "text/plain": [
       "English             0.158974\n",
       "French              0.128205\n",
       "Spanish             0.097436\n",
       "Arabic              0.092308\n",
       "Portuguese          0.035897\n",
       "                      ...   \n",
       "Albanian            0.005128\n",
       "Jamaican English    0.005128\n",
       "Lao                 0.005128\n",
       "Latvian             0.005128\n",
       "Shona               0.005128\n",
       "Name: officiallanguage, Length: 76, dtype: float64"
      ]
     },
     "metadata": {},
     "output_type": "display_data"
    },
    {
     "name": "stdout",
     "output_type": "stream",
     "text": [
      "........................\n"
     ]
    }
   ],
   "source": [
    "for col in nulos_categoricas:\n",
    "    print(f\"La distribución de las categorías para la columna {col.upper()}\")\n",
    "    display(df[col].value_counts() / df.shape[0])\n",
    "    print(\"........................\")"
   ]
  },
  {
   "cell_type": "code",
   "execution_count": 13,
   "metadata": {},
   "outputs": [],
   "source": [
    "#Ponemos la moda en los nulos de la columna officiallanguage\n",
    "#Ponemos unknown en los nulos de las columnas de la lista columnas_desconocido\n",
    "columnas_moda = [\"officiallanguage\"]\n",
    "columnas_desconocido = [\"largestcity\", \"currency-code\", \"capital/majorcity\", \"abbreviation\"]"
   ]
  },
  {
   "cell_type": "code",
   "execution_count": 12,
   "metadata": {},
   "outputs": [
    {
     "name": "stdout",
     "output_type": "stream",
     "text": [
      "Después del reemplazo usando 'fillna' quedan los siguientes nulos\n"
     ]
    },
    {
     "data": {
      "text/plain": [
       "officiallanguage    0\n",
       "dtype: int64"
      ]
     },
     "execution_count": 12,
     "metadata": {},
     "output_type": "execute_result"
    }
   ],
   "source": [
    "for col in columnas_moda:\n",
    "    moda = df[col].mode()[0]    \n",
    "    df[col] = df[col].fillna(moda)\n",
    "\n",
    "print(\"Después del reemplazo usando 'fillna' quedan los siguientes nulos\")\n",
    "\n",
    "df[columnas_moda].isnull().sum()"
   ]
  },
  {
   "cell_type": "code",
   "execution_count": 14,
   "metadata": {},
   "outputs": [
    {
     "name": "stdout",
     "output_type": "stream",
     "text": [
      "Después del reemplazo usando 'fillna' quedan los siguientes nulos\n"
     ]
    },
    {
     "data": {
      "text/plain": [
       "largestcity          0\n",
       "currency-code        0\n",
       "capital/majorcity    0\n",
       "abbreviation         0\n",
       "dtype: int64"
      ]
     },
     "execution_count": 14,
     "metadata": {},
     "output_type": "execute_result"
    }
   ],
   "source": [
    "for col in columnas_desconocido:\n",
    "\n",
    "    df[col] = df[col].fillna(\"unknown\")\n",
    "\n",
    "print(\"Después del reemplazo usando 'fillna' quedan los siguientes nulos\")\n",
    "df[columnas_desconocido].isnull().sum()"
   ]
  },
  {
   "cell_type": "markdown",
   "metadata": {},
   "source": [
    "### Tratamiento de los nulos en las columnas numericas"
   ]
  },
  {
   "cell_type": "code",
   "execution_count": 15,
   "metadata": {},
   "outputs": [
    {
     "data": {
      "text/plain": [
       "Index(['agriculturalland', 'landarea', 'armedforcessize', 'birthrate',\n",
       "       'callingcode', 'co2-emissions', 'cpi', 'cpichange', 'fertilityrate',\n",
       "       'forestedarea', 'gasolineprice', 'gdp',\n",
       "       'grossprimaryeducationenrollment', 'grosstertiaryeducationenrollment',\n",
       "       'infantmortality', 'lifeexpectancy', 'maternalmortalityratio',\n",
       "       'minimumwage', 'outofpockethealthexpenditure', 'physiciansperthousand',\n",
       "       'population', 'populationlaborforceparticipation', 'taxrevenue',\n",
       "       'totaltaxrate', 'unemploymentrate', 'urban_population', 'lattitude',\n",
       "       'longitude'],\n",
       "      dtype='object')"
      ]
     },
     "execution_count": 15,
     "metadata": {},
     "output_type": "execute_result"
    }
   ],
   "source": [
    "nulos_numericos = df[df.columns[df.isnull().any()]].select_dtypes(include = np.number).columns\n",
    "nulos_numericos"
   ]
  }
 ],
 "metadata": {
  "kernelspec": {
   "display_name": "base",
   "language": "python",
   "name": "python3"
  },
  "language_info": {
   "codemirror_mode": {
    "name": "ipython",
    "version": 3
   },
   "file_extension": ".py",
   "mimetype": "text/x-python",
   "name": "python",
   "nbconvert_exporter": "python",
   "pygments_lexer": "ipython3",
   "version": "3.9.7"
  }
 },
 "nbformat": 4,
 "nbformat_minor": 2
}
