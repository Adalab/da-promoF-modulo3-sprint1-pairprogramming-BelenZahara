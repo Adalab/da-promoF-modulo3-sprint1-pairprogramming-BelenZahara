{
 "cells": [
  {
   "cell_type": "code",
   "execution_count": 1,
   "metadata": {},
   "outputs": [],
   "source": [
    "import pandas as pd\n",
    "import numpy as np\n",
    "\n",
    "from sklearn.impute import SimpleImputer\n",
    "from sklearn.experimental import enable_iterative_imputer\n",
    "from sklearn.impute import IterativeImputer\n",
    "from sklearn.impute import KNNImputer\n",
    "\n",
    "\n",
    "import seaborn as sns\n",
    "import matplotlib.pyplot as plt\n",
    "\n",
    "pd.set_option('display.max_columns', None) # para poder visualizar todas las columnas de los DataFrames"
   ]
  },
  {
   "cell_type": "code",
   "execution_count": 2,
   "metadata": {},
   "outputs": [],
   "source": [
    "df= pd.read_csv('pair_nulos.csv', index_col=0)"
   ]
  },
  {
   "cell_type": "markdown",
   "metadata": {},
   "source": [
    "Gestion de Nulos\n",
    "\n",
    "En este pair programming usaremos el csv que generamos en el pair programming de ayer. El objetivo del ejercicio es identificar las columnas que contienen valores nulos y aplicar un proceso de imputación para manejarlos de manera adecuada.\n",
    "\n",
    "Instrucciones:\n",
    "\n",
    "Identificación de Valores Nulos: Identifica todas las columnas que contengan valores nulos en el DataFrame.\n",
    "\n",
    "Selección de Método de Imputación: Discute en tu compañera cuál sería la mejor estrategia para manejar los valores nulos en cada una de las columnas identificadas en el paso anterior.\n",
    "\n",
    "Imputación de Valores Nulos: Implementa el método de imputación seleccionado en el paso 2 para llenar los valores nulos en las columnas.\n",
    "\n",
    "Informe: Añade al final de un jupyter una explicación breve que describa las columnas que tenían valores nulos, cómo decidiste imputarlos y cualquier observación adicional que consideres importante sobre el proceso de limpieza de datos.\n",
    "\n",
    "Nota: Puedes utilizar cualquier método o estrategia de imputación que consideres adecuado para los datos y discutir las ventajas y desventajas de tu elección en el informe."
   ]
  },
  {
   "cell_type": "code",
   "execution_count": 3,
   "metadata": {},
   "outputs": [
    {
     "data": {
      "text/plain": [
       "Index(['country', 'density', 'abbreviation', 'agriculturalland', 'landarea',\n",
       "       'armedforcessize', 'birthrate', 'callingcode', 'capital/majorcity',\n",
       "       'co2-emissions', 'cpi', 'cpichange', 'currency-code', 'fertilityrate',\n",
       "       'forestedarea', 'gasolineprice', 'gdp',\n",
       "       'grossprimaryeducationenrollment', 'grosstertiaryeducationenrollment',\n",
       "       'infantmortality', 'largestcity', 'lifeexpectancy',\n",
       "       'maternalmortalityratio', 'minimumwage', 'officiallanguage',\n",
       "       'outofpockethealthexpenditure', 'physiciansperthousand', 'population',\n",
       "       'populationlaborforceparticipation', 'taxrevenue', 'totaltaxrate',\n",
       "       'unemploymentrate', 'urban_population', 'lattitude', 'longitude',\n",
       "       'continente'],\n",
       "      dtype='object')"
      ]
     },
     "execution_count": 3,
     "metadata": {},
     "output_type": "execute_result"
    }
   ],
   "source": [
    "df.columns"
   ]
  },
  {
   "cell_type": "code",
   "execution_count": 4,
   "metadata": {},
   "outputs": [
    {
     "data": {
      "text/html": [
       "<div>\n",
       "<style scoped>\n",
       "    .dataframe tbody tr th:only-of-type {\n",
       "        vertical-align: middle;\n",
       "    }\n",
       "\n",
       "    .dataframe tbody tr th {\n",
       "        vertical-align: top;\n",
       "    }\n",
       "\n",
       "    .dataframe thead th {\n",
       "        text-align: right;\n",
       "    }\n",
       "</style>\n",
       "<table border=\"1\" class=\"dataframe\">\n",
       "  <thead>\n",
       "    <tr style=\"text-align: right;\">\n",
       "      <th></th>\n",
       "      <th>country</th>\n",
       "      <th>density</th>\n",
       "      <th>abbreviation</th>\n",
       "      <th>agriculturalland</th>\n",
       "      <th>landarea</th>\n",
       "      <th>armedforcessize</th>\n",
       "      <th>birthrate</th>\n",
       "      <th>callingcode</th>\n",
       "      <th>capital/majorcity</th>\n",
       "      <th>co2-emissions</th>\n",
       "      <th>cpi</th>\n",
       "      <th>cpichange</th>\n",
       "      <th>currency-code</th>\n",
       "      <th>fertilityrate</th>\n",
       "      <th>forestedarea</th>\n",
       "      <th>gasolineprice</th>\n",
       "      <th>gdp</th>\n",
       "      <th>grossprimaryeducationenrollment</th>\n",
       "      <th>grosstertiaryeducationenrollment</th>\n",
       "      <th>infantmortality</th>\n",
       "      <th>largestcity</th>\n",
       "      <th>lifeexpectancy</th>\n",
       "      <th>maternalmortalityratio</th>\n",
       "      <th>minimumwage</th>\n",
       "      <th>officiallanguage</th>\n",
       "      <th>outofpockethealthexpenditure</th>\n",
       "      <th>physiciansperthousand</th>\n",
       "      <th>population</th>\n",
       "      <th>populationlaborforceparticipation</th>\n",
       "      <th>taxrevenue</th>\n",
       "      <th>totaltaxrate</th>\n",
       "      <th>unemploymentrate</th>\n",
       "      <th>urban_population</th>\n",
       "      <th>lattitude</th>\n",
       "      <th>longitude</th>\n",
       "      <th>continente</th>\n",
       "    </tr>\n",
       "  </thead>\n",
       "  <tbody>\n",
       "    <tr>\n",
       "      <th>0</th>\n",
       "      <td>Afghanistan</td>\n",
       "      <td>60.0</td>\n",
       "      <td>AF</td>\n",
       "      <td>58.1</td>\n",
       "      <td>652230.0</td>\n",
       "      <td>323000.0</td>\n",
       "      <td>32.49</td>\n",
       "      <td>93.0</td>\n",
       "      <td>Kabul</td>\n",
       "      <td>8672.0</td>\n",
       "      <td>149.90</td>\n",
       "      <td>2.3</td>\n",
       "      <td>AFN</td>\n",
       "      <td>4.47</td>\n",
       "      <td>2.1</td>\n",
       "      <td>0.70</td>\n",
       "      <td>1.910135e+10</td>\n",
       "      <td>104.0</td>\n",
       "      <td>9.7</td>\n",
       "      <td>47.9</td>\n",
       "      <td>Kabul</td>\n",
       "      <td>64.5</td>\n",
       "      <td>638.0</td>\n",
       "      <td>0.43</td>\n",
       "      <td>Pashto</td>\n",
       "      <td>78.4</td>\n",
       "      <td>0.28</td>\n",
       "      <td>38041754.0</td>\n",
       "      <td>48.9</td>\n",
       "      <td>9.3</td>\n",
       "      <td>71.4</td>\n",
       "      <td>11.12</td>\n",
       "      <td>9797273.0</td>\n",
       "      <td>33.939110</td>\n",
       "      <td>67.709953</td>\n",
       "      <td>Asia</td>\n",
       "    </tr>\n",
       "    <tr>\n",
       "      <th>1</th>\n",
       "      <td>Albania</td>\n",
       "      <td>105.0</td>\n",
       "      <td>AL</td>\n",
       "      <td>43.1</td>\n",
       "      <td>28748.0</td>\n",
       "      <td>9000.0</td>\n",
       "      <td>11.78</td>\n",
       "      <td>355.0</td>\n",
       "      <td>Tirana</td>\n",
       "      <td>4536.0</td>\n",
       "      <td>119.05</td>\n",
       "      <td>1.4</td>\n",
       "      <td>ALL</td>\n",
       "      <td>1.62</td>\n",
       "      <td>28.1</td>\n",
       "      <td>1.36</td>\n",
       "      <td>1.527808e+10</td>\n",
       "      <td>107.0</td>\n",
       "      <td>55.0</td>\n",
       "      <td>7.8</td>\n",
       "      <td>Tirana</td>\n",
       "      <td>78.5</td>\n",
       "      <td>15.0</td>\n",
       "      <td>1.12</td>\n",
       "      <td>Albanian</td>\n",
       "      <td>56.9</td>\n",
       "      <td>1.20</td>\n",
       "      <td>2854191.0</td>\n",
       "      <td>55.7</td>\n",
       "      <td>18.6</td>\n",
       "      <td>36.6</td>\n",
       "      <td>12.33</td>\n",
       "      <td>1747593.0</td>\n",
       "      <td>41.153332</td>\n",
       "      <td>20.168331</td>\n",
       "      <td>Europa</td>\n",
       "    </tr>\n",
       "    <tr>\n",
       "      <th>2</th>\n",
       "      <td>Algeria</td>\n",
       "      <td>18.0</td>\n",
       "      <td>DZ</td>\n",
       "      <td>17.4</td>\n",
       "      <td>2381741.0</td>\n",
       "      <td>317000.0</td>\n",
       "      <td>24.28</td>\n",
       "      <td>213.0</td>\n",
       "      <td>Algiers</td>\n",
       "      <td>150006.0</td>\n",
       "      <td>151.36</td>\n",
       "      <td>2.0</td>\n",
       "      <td>DZD</td>\n",
       "      <td>3.02</td>\n",
       "      <td>0.8</td>\n",
       "      <td>0.28</td>\n",
       "      <td>1.699882e+11</td>\n",
       "      <td>109.9</td>\n",
       "      <td>51.4</td>\n",
       "      <td>20.1</td>\n",
       "      <td>Algiers</td>\n",
       "      <td>76.7</td>\n",
       "      <td>112.0</td>\n",
       "      <td>0.95</td>\n",
       "      <td>Arabic</td>\n",
       "      <td>28.1</td>\n",
       "      <td>1.72</td>\n",
       "      <td>43053054.0</td>\n",
       "      <td>41.2</td>\n",
       "      <td>37.2</td>\n",
       "      <td>66.1</td>\n",
       "      <td>11.70</td>\n",
       "      <td>31510100.0</td>\n",
       "      <td>28.033886</td>\n",
       "      <td>1.659626</td>\n",
       "      <td>África</td>\n",
       "    </tr>\n",
       "  </tbody>\n",
       "</table>\n",
       "</div>"
      ],
      "text/plain": [
       "       country  density abbreviation  agriculturalland   landarea  \\\n",
       "0  Afghanistan     60.0           AF              58.1   652230.0   \n",
       "1      Albania    105.0           AL              43.1    28748.0   \n",
       "2      Algeria     18.0           DZ              17.4  2381741.0   \n",
       "\n",
       "   armedforcessize  birthrate  callingcode capital/majorcity  co2-emissions  \\\n",
       "0         323000.0      32.49         93.0             Kabul         8672.0   \n",
       "1           9000.0      11.78        355.0            Tirana         4536.0   \n",
       "2         317000.0      24.28        213.0           Algiers       150006.0   \n",
       "\n",
       "      cpi  cpichange currency-code  fertilityrate  forestedarea  \\\n",
       "0  149.90        2.3           AFN           4.47           2.1   \n",
       "1  119.05        1.4           ALL           1.62          28.1   \n",
       "2  151.36        2.0           DZD           3.02           0.8   \n",
       "\n",
       "   gasolineprice           gdp  grossprimaryeducationenrollment  \\\n",
       "0           0.70  1.910135e+10                            104.0   \n",
       "1           1.36  1.527808e+10                            107.0   \n",
       "2           0.28  1.699882e+11                            109.9   \n",
       "\n",
       "   grosstertiaryeducationenrollment  infantmortality largestcity  \\\n",
       "0                               9.7             47.9       Kabul   \n",
       "1                              55.0              7.8      Tirana   \n",
       "2                              51.4             20.1     Algiers   \n",
       "\n",
       "   lifeexpectancy  maternalmortalityratio  minimumwage officiallanguage  \\\n",
       "0            64.5                   638.0         0.43           Pashto   \n",
       "1            78.5                    15.0         1.12         Albanian   \n",
       "2            76.7                   112.0         0.95           Arabic   \n",
       "\n",
       "   outofpockethealthexpenditure  physiciansperthousand  population  \\\n",
       "0                          78.4                   0.28  38041754.0   \n",
       "1                          56.9                   1.20   2854191.0   \n",
       "2                          28.1                   1.72  43053054.0   \n",
       "\n",
       "   populationlaborforceparticipation  taxrevenue  totaltaxrate  \\\n",
       "0                               48.9         9.3          71.4   \n",
       "1                               55.7        18.6          36.6   \n",
       "2                               41.2        37.2          66.1   \n",
       "\n",
       "   unemploymentrate  urban_population  lattitude  longitude continente  \n",
       "0             11.12         9797273.0  33.939110  67.709953       Asia  \n",
       "1             12.33         1747593.0  41.153332  20.168331     Europa  \n",
       "2             11.70        31510100.0  28.033886   1.659626     África  "
      ]
     },
     "execution_count": 4,
     "metadata": {},
     "output_type": "execute_result"
    }
   ],
   "source": [
    "df.head(3)"
   ]
  },
  {
   "cell_type": "code",
   "execution_count": 5,
   "metadata": {},
   "outputs": [
    {
     "name": "stdout",
     "output_type": "stream",
     "text": [
      "<class 'pandas.core.frame.DataFrame'>\n",
      "Int64Index: 195 entries, 0 to 194\n",
      "Data columns (total 36 columns):\n",
      " #   Column                             Non-Null Count  Dtype  \n",
      "---  ------                             --------------  -----  \n",
      " 0   country                            195 non-null    object \n",
      " 1   density                            195 non-null    float64\n",
      " 2   abbreviation                       188 non-null    object \n",
      " 3   agriculturalland                   188 non-null    float64\n",
      " 4   landarea                           194 non-null    float64\n",
      " 5   armedforcessize                    171 non-null    float64\n",
      " 6   birthrate                          189 non-null    float64\n",
      " 7   callingcode                        194 non-null    float64\n",
      " 8   capital/majorcity                  192 non-null    object \n",
      " 9   co2-emissions                      188 non-null    float64\n",
      " 10  cpi                                178 non-null    float64\n",
      " 11  cpichange                          179 non-null    float64\n",
      " 12  currency-code                      180 non-null    object \n",
      " 13  fertilityrate                      188 non-null    float64\n",
      " 14  forestedarea                       188 non-null    float64\n",
      " 15  gasolineprice                      175 non-null    float64\n",
      " 16  gdp                                193 non-null    float64\n",
      " 17  grossprimaryeducationenrollment    188 non-null    float64\n",
      " 18  grosstertiaryeducationenrollment   183 non-null    float64\n",
      " 19  infantmortality                    189 non-null    float64\n",
      " 20  largestcity                        189 non-null    object \n",
      " 21  lifeexpectancy                     187 non-null    float64\n",
      " 22  maternalmortalityratio             181 non-null    float64\n",
      " 23  minimumwage                        150 non-null    float64\n",
      " 24  officiallanguage                   190 non-null    object \n",
      " 25  outofpockethealthexpenditure       188 non-null    float64\n",
      " 26  physiciansperthousand              188 non-null    float64\n",
      " 27  population                         194 non-null    float64\n",
      " 28  populationlaborforceparticipation  176 non-null    float64\n",
      " 29  taxrevenue                         169 non-null    float64\n",
      " 30  totaltaxrate                       183 non-null    float64\n",
      " 31  unemploymentrate                   176 non-null    float64\n",
      " 32  urban_population                   190 non-null    float64\n",
      " 33  lattitude                          194 non-null    float64\n",
      " 34  longitude                          194 non-null    float64\n",
      " 35  continente                         195 non-null    object \n",
      "dtypes: float64(29), object(7)\n",
      "memory usage: 56.4+ KB\n"
     ]
    }
   ],
   "source": [
    "df.info()"
   ]
  },
  {
   "cell_type": "code",
   "execution_count": 6,
   "metadata": {},
   "outputs": [
    {
     "data": {
      "text/plain": [
       "country                               0.000000\n",
       "density                               0.000000\n",
       "abbreviation                          3.589744\n",
       "agriculturalland                      3.589744\n",
       "landarea                              0.512821\n",
       "armedforcessize                      12.307692\n",
       "birthrate                             3.076923\n",
       "callingcode                           0.512821\n",
       "capital/majorcity                     1.538462\n",
       "co2-emissions                         3.589744\n",
       "cpi                                   8.717949\n",
       "cpichange                             8.205128\n",
       "currency-code                         7.692308\n",
       "fertilityrate                         3.589744\n",
       "forestedarea                          3.589744\n",
       "gasolineprice                        10.256410\n",
       "gdp                                   1.025641\n",
       "grossprimaryeducationenrollment       3.589744\n",
       "grosstertiaryeducationenrollment      6.153846\n",
       "infantmortality                       3.076923\n",
       "largestcity                           3.076923\n",
       "lifeexpectancy                        4.102564\n",
       "maternalmortalityratio                7.179487\n",
       "minimumwage                          23.076923\n",
       "officiallanguage                      2.564103\n",
       "outofpockethealthexpenditure          3.589744\n",
       "physiciansperthousand                 3.589744\n",
       "population                            0.512821\n",
       "populationlaborforceparticipation     9.743590\n",
       "taxrevenue                           13.333333\n",
       "totaltaxrate                          6.153846\n",
       "unemploymentrate                      9.743590\n",
       "urban_population                      2.564103\n",
       "lattitude                             0.512821\n",
       "longitude                             0.512821\n",
       "continente                            0.000000\n",
       "dtype: float64"
      ]
     },
     "execution_count": 6,
     "metadata": {},
     "output_type": "execute_result"
    }
   ],
   "source": [
    "(df.isnull().sum() / df.shape[0]) * 100"
   ]
  },
  {
   "cell_type": "code",
   "execution_count": 7,
   "metadata": {},
   "outputs": [
    {
     "data": {
      "text/html": [
       "<div>\n",
       "<style scoped>\n",
       "    .dataframe tbody tr th:only-of-type {\n",
       "        vertical-align: middle;\n",
       "    }\n",
       "\n",
       "    .dataframe tbody tr th {\n",
       "        vertical-align: top;\n",
       "    }\n",
       "\n",
       "    .dataframe thead th {\n",
       "        text-align: right;\n",
       "    }\n",
       "</style>\n",
       "<table border=\"1\" class=\"dataframe\">\n",
       "  <thead>\n",
       "    <tr style=\"text-align: right;\">\n",
       "      <th></th>\n",
       "      <th>%_nulos</th>\n",
       "    </tr>\n",
       "  </thead>\n",
       "  <tbody>\n",
       "    <tr>\n",
       "      <th>abbreviation</th>\n",
       "      <td>3.589744</td>\n",
       "    </tr>\n",
       "    <tr>\n",
       "      <th>agriculturalland</th>\n",
       "      <td>3.589744</td>\n",
       "    </tr>\n",
       "    <tr>\n",
       "      <th>landarea</th>\n",
       "      <td>0.512821</td>\n",
       "    </tr>\n",
       "    <tr>\n",
       "      <th>armedforcessize</th>\n",
       "      <td>12.307692</td>\n",
       "    </tr>\n",
       "    <tr>\n",
       "      <th>birthrate</th>\n",
       "      <td>3.076923</td>\n",
       "    </tr>\n",
       "    <tr>\n",
       "      <th>callingcode</th>\n",
       "      <td>0.512821</td>\n",
       "    </tr>\n",
       "    <tr>\n",
       "      <th>capital/majorcity</th>\n",
       "      <td>1.538462</td>\n",
       "    </tr>\n",
       "    <tr>\n",
       "      <th>co2-emissions</th>\n",
       "      <td>3.589744</td>\n",
       "    </tr>\n",
       "    <tr>\n",
       "      <th>cpi</th>\n",
       "      <td>8.717949</td>\n",
       "    </tr>\n",
       "    <tr>\n",
       "      <th>cpichange</th>\n",
       "      <td>8.205128</td>\n",
       "    </tr>\n",
       "    <tr>\n",
       "      <th>currency-code</th>\n",
       "      <td>7.692308</td>\n",
       "    </tr>\n",
       "    <tr>\n",
       "      <th>fertilityrate</th>\n",
       "      <td>3.589744</td>\n",
       "    </tr>\n",
       "    <tr>\n",
       "      <th>forestedarea</th>\n",
       "      <td>3.589744</td>\n",
       "    </tr>\n",
       "    <tr>\n",
       "      <th>gasolineprice</th>\n",
       "      <td>10.256410</td>\n",
       "    </tr>\n",
       "    <tr>\n",
       "      <th>gdp</th>\n",
       "      <td>1.025641</td>\n",
       "    </tr>\n",
       "    <tr>\n",
       "      <th>grossprimaryeducationenrollment</th>\n",
       "      <td>3.589744</td>\n",
       "    </tr>\n",
       "    <tr>\n",
       "      <th>grosstertiaryeducationenrollment</th>\n",
       "      <td>6.153846</td>\n",
       "    </tr>\n",
       "    <tr>\n",
       "      <th>infantmortality</th>\n",
       "      <td>3.076923</td>\n",
       "    </tr>\n",
       "    <tr>\n",
       "      <th>largestcity</th>\n",
       "      <td>3.076923</td>\n",
       "    </tr>\n",
       "    <tr>\n",
       "      <th>lifeexpectancy</th>\n",
       "      <td>4.102564</td>\n",
       "    </tr>\n",
       "    <tr>\n",
       "      <th>maternalmortalityratio</th>\n",
       "      <td>7.179487</td>\n",
       "    </tr>\n",
       "    <tr>\n",
       "      <th>minimumwage</th>\n",
       "      <td>23.076923</td>\n",
       "    </tr>\n",
       "    <tr>\n",
       "      <th>officiallanguage</th>\n",
       "      <td>2.564103</td>\n",
       "    </tr>\n",
       "    <tr>\n",
       "      <th>outofpockethealthexpenditure</th>\n",
       "      <td>3.589744</td>\n",
       "    </tr>\n",
       "    <tr>\n",
       "      <th>physiciansperthousand</th>\n",
       "      <td>3.589744</td>\n",
       "    </tr>\n",
       "    <tr>\n",
       "      <th>population</th>\n",
       "      <td>0.512821</td>\n",
       "    </tr>\n",
       "    <tr>\n",
       "      <th>populationlaborforceparticipation</th>\n",
       "      <td>9.743590</td>\n",
       "    </tr>\n",
       "    <tr>\n",
       "      <th>taxrevenue</th>\n",
       "      <td>13.333333</td>\n",
       "    </tr>\n",
       "    <tr>\n",
       "      <th>totaltaxrate</th>\n",
       "      <td>6.153846</td>\n",
       "    </tr>\n",
       "    <tr>\n",
       "      <th>unemploymentrate</th>\n",
       "      <td>9.743590</td>\n",
       "    </tr>\n",
       "    <tr>\n",
       "      <th>urban_population</th>\n",
       "      <td>2.564103</td>\n",
       "    </tr>\n",
       "    <tr>\n",
       "      <th>lattitude</th>\n",
       "      <td>0.512821</td>\n",
       "    </tr>\n",
       "    <tr>\n",
       "      <th>longitude</th>\n",
       "      <td>0.512821</td>\n",
       "    </tr>\n",
       "  </tbody>\n",
       "</table>\n",
       "</div>"
      ],
      "text/plain": [
       "                                     %_nulos\n",
       "abbreviation                        3.589744\n",
       "agriculturalland                    3.589744\n",
       "landarea                            0.512821\n",
       "armedforcessize                    12.307692\n",
       "birthrate                           3.076923\n",
       "callingcode                         0.512821\n",
       "capital/majorcity                   1.538462\n",
       "co2-emissions                       3.589744\n",
       "cpi                                 8.717949\n",
       "cpichange                           8.205128\n",
       "currency-code                       7.692308\n",
       "fertilityrate                       3.589744\n",
       "forestedarea                        3.589744\n",
       "gasolineprice                      10.256410\n",
       "gdp                                 1.025641\n",
       "grossprimaryeducationenrollment     3.589744\n",
       "grosstertiaryeducationenrollment    6.153846\n",
       "infantmortality                     3.076923\n",
       "largestcity                         3.076923\n",
       "lifeexpectancy                      4.102564\n",
       "maternalmortalityratio              7.179487\n",
       "minimumwage                        23.076923\n",
       "officiallanguage                    2.564103\n",
       "outofpockethealthexpenditure        3.589744\n",
       "physiciansperthousand               3.589744\n",
       "population                          0.512821\n",
       "populationlaborforceparticipation   9.743590\n",
       "taxrevenue                         13.333333\n",
       "totaltaxrate                        6.153846\n",
       "unemploymentrate                    9.743590\n",
       "urban_population                    2.564103\n",
       "lattitude                           0.512821\n",
       "longitude                           0.512821"
      ]
     },
     "execution_count": 7,
     "metadata": {},
     "output_type": "execute_result"
    }
   ],
   "source": [
    "#Filtramos el dataframe solo para quedarnos con los que son nulos\n",
    "df_nulos = pd.DataFrame((df.isnull().sum() / df.shape[0]) * 100, columns = [\"%_nulos\"])\n",
    "\n",
    "# filtramos el DataFrame para quedarnos solo con aquellas columnas que tengan nulos\n",
    "df_nulos[df_nulos[\"%_nulos\"] > 0]\n"
   ]
  },
  {
   "cell_type": "code",
   "execution_count": 8,
   "metadata": {},
   "outputs": [
    {
     "data": {
      "text/plain": [
       "Index(['abbreviation', 'capital/majorcity', 'currency-code', 'largestcity',\n",
       "       'officiallanguage'],\n",
       "      dtype='object')"
      ]
     },
     "execution_count": 8,
     "metadata": {},
     "output_type": "execute_result"
    }
   ],
   "source": [
    "#Inspeccionamos las columnas que tienen nulos y  son categoricas y los nulos en las numericas\n",
    "nulos_categoricas = df[df.columns[df.isnull().any()]].select_dtypes(include = \"O\").columns\n",
    "nulos_categoricas"
   ]
  },
  {
   "cell_type": "code",
   "execution_count": 9,
   "metadata": {},
   "outputs": [
    {
     "name": "stdout",
     "output_type": "stream",
     "text": [
      "La distribución de las categorías para la columna ABBREVIATION\n"
     ]
    },
    {
     "data": {
      "text/plain": [
       "AF    0.005128\n",
       "PY    0.005128\n",
       "NE    0.005128\n",
       "NG    0.005128\n",
       "KP    0.005128\n",
       "        ...   \n",
       "GR    0.005128\n",
       "GD    0.005128\n",
       "GT    0.005128\n",
       "GN    0.005128\n",
       "ZW    0.005128\n",
       "Name: abbreviation, Length: 188, dtype: float64"
      ]
     },
     "metadata": {},
     "output_type": "display_data"
    },
    {
     "name": "stdout",
     "output_type": "stream",
     "text": [
      "........................\n",
      "La distribución de las categorías para la columna CAPITAL/MAJORCITY\n"
     ]
    },
    {
     "data": {
      "text/plain": [
       "Kabul                    0.005128\n",
       "Tirana                   0.005128\n",
       "Wellington               0.005128\n",
       "Managua                  0.005128\n",
       "Niamey                   0.005128\n",
       "                           ...   \n",
       "Athens                   0.005128\n",
       "St. George's, Grenada    0.005128\n",
       "Guatemala City           0.005128\n",
       "Conakry                  0.005128\n",
       "Harare                   0.005128\n",
       "Name: capital/majorcity, Length: 192, dtype: float64"
      ]
     },
     "metadata": {},
     "output_type": "display_data"
    },
    {
     "name": "stdout",
     "output_type": "stream",
     "text": [
      "........................\n",
      "La distribución de las categorías para la columna CURRENCY-CODE\n"
     ]
    },
    {
     "data": {
      "text/plain": [
       "EUR    0.117949\n",
       "XOF    0.041026\n",
       "XCD    0.030769\n",
       "USD    0.030769\n",
       "XAF    0.025641\n",
       "         ...   \n",
       "GMD    0.005128\n",
       "FJD    0.005128\n",
       "ETB    0.005128\n",
       "ERN    0.005128\n",
       "ZMW    0.005128\n",
       "Name: currency-code, Length: 133, dtype: float64"
      ]
     },
     "metadata": {},
     "output_type": "display_data"
    },
    {
     "name": "stdout",
     "output_type": "stream",
     "text": [
      "........................\n",
      "La distribución de las categorías para la columna LARGESTCITY\n"
     ]
    },
    {
     "data": {
      "text/plain": [
       "S����                    0.010256\n",
       "Panama City              0.005128\n",
       "Managua                  0.005128\n",
       "Niamey                   0.005128\n",
       "Lagos                    0.005128\n",
       "                           ...   \n",
       "Macedonia                0.005128\n",
       "St. George's, Grenada    0.005128\n",
       "Guatemala City           0.005128\n",
       "Kankan                   0.005128\n",
       "Harare                   0.005128\n",
       "Name: largestcity, Length: 188, dtype: float64"
      ]
     },
     "metadata": {},
     "output_type": "display_data"
    },
    {
     "name": "stdout",
     "output_type": "stream",
     "text": [
      "........................\n",
      "La distribución de las categorías para la columna OFFICIALLANGUAGE\n"
     ]
    },
    {
     "data": {
      "text/plain": [
       "English             0.158974\n",
       "French              0.128205\n",
       "Spanish             0.097436\n",
       "Arabic              0.092308\n",
       "Portuguese          0.035897\n",
       "                      ...   \n",
       "Albanian            0.005128\n",
       "Jamaican English    0.005128\n",
       "Lao                 0.005128\n",
       "Latvian             0.005128\n",
       "Shona               0.005128\n",
       "Name: officiallanguage, Length: 76, dtype: float64"
      ]
     },
     "metadata": {},
     "output_type": "display_data"
    },
    {
     "name": "stdout",
     "output_type": "stream",
     "text": [
      "........................\n"
     ]
    }
   ],
   "source": [
    "for col in nulos_categoricas:\n",
    "    print(f\"La distribución de las categorías para la columna {col.upper()}\")\n",
    "    display(df[col].value_counts() / df.shape[0])\n",
    "    print(\"........................\")"
   ]
  },
  {
   "cell_type": "code",
   "execution_count": 10,
   "metadata": {},
   "outputs": [],
   "source": [
    "#Ponemos la moda en los nulos de la columna officiallanguage\n",
    "#Ponemos unknown en los nulos de las columnas de la lista columnas_desconocido\n",
    "columnas_moda = [\"officiallanguage\"]\n",
    "columnas_desconocido = [\"largestcity\", \"currency-code\", \"capital/majorcity\", \"abbreviation\"]"
   ]
  },
  {
   "cell_type": "code",
   "execution_count": 11,
   "metadata": {},
   "outputs": [
    {
     "name": "stdout",
     "output_type": "stream",
     "text": [
      "Después del reemplazo usando 'fillna' quedan los siguientes nulos\n"
     ]
    },
    {
     "data": {
      "text/plain": [
       "officiallanguage    0\n",
       "dtype: int64"
      ]
     },
     "execution_count": 11,
     "metadata": {},
     "output_type": "execute_result"
    }
   ],
   "source": [
    "for col in columnas_moda:\n",
    "    moda = df[col].mode()[0]    \n",
    "    df[col] = df[col].fillna(moda)\n",
    "\n",
    "print(\"Después del reemplazo usando 'fillna' quedan los siguientes nulos\")\n",
    "\n",
    "df[columnas_moda].isnull().sum()"
   ]
  },
  {
   "cell_type": "code",
   "execution_count": 12,
   "metadata": {},
   "outputs": [
    {
     "name": "stdout",
     "output_type": "stream",
     "text": [
      "Después del reemplazo usando 'fillna' quedan los siguientes nulos\n"
     ]
    },
    {
     "data": {
      "text/plain": [
       "largestcity          0\n",
       "currency-code        0\n",
       "capital/majorcity    0\n",
       "abbreviation         0\n",
       "dtype: int64"
      ]
     },
     "execution_count": 12,
     "metadata": {},
     "output_type": "execute_result"
    }
   ],
   "source": [
    "for col in columnas_desconocido:\n",
    "\n",
    "    df[col] = df[col].fillna(\"unknown\")\n",
    "\n",
    "print(\"Después del reemplazo usando 'fillna' quedan los siguientes nulos\")\n",
    "df[columnas_desconocido].isnull().sum()"
   ]
  },
  {
   "cell_type": "markdown",
   "metadata": {},
   "source": [
    "### Tratamiento de los nulos en las columnas numericas"
   ]
  },
  {
   "cell_type": "code",
   "execution_count": 13,
   "metadata": {},
   "outputs": [
    {
     "data": {
      "text/plain": [
       "Index(['agriculturalland', 'landarea', 'armedforcessize', 'birthrate',\n",
       "       'callingcode', 'co2-emissions', 'cpi', 'cpichange', 'fertilityrate',\n",
       "       'forestedarea', 'gasolineprice', 'gdp',\n",
       "       'grossprimaryeducationenrollment', 'grosstertiaryeducationenrollment',\n",
       "       'infantmortality', 'lifeexpectancy', 'maternalmortalityratio',\n",
       "       'minimumwage', 'outofpockethealthexpenditure', 'physiciansperthousand',\n",
       "       'population', 'populationlaborforceparticipation', 'taxrevenue',\n",
       "       'totaltaxrate', 'unemploymentrate', 'urban_population', 'lattitude',\n",
       "       'longitude'],\n",
       "      dtype='object')"
      ]
     },
     "execution_count": 13,
     "metadata": {},
     "output_type": "execute_result"
    }
   ],
   "source": [
    "nulos_numericos = df[df.columns[df.isnull().any()]].select_dtypes(include = np.number).columns\n",
    "nulos_numericos"
   ]
  },
  {
   "cell_type": "code",
   "execution_count": 14,
   "metadata": {},
   "outputs": [
    {
     "data": {
      "text/plain": [
       "agriculturalland                     0.035897\n",
       "landarea                             0.005128\n",
       "armedforcessize                      0.123077\n",
       "birthrate                            0.030769\n",
       "callingcode                          0.005128\n",
       "co2-emissions                        0.035897\n",
       "cpi                                  0.087179\n",
       "cpichange                            0.082051\n",
       "fertilityrate                        0.035897\n",
       "forestedarea                         0.035897\n",
       "gasolineprice                        0.102564\n",
       "gdp                                  0.010256\n",
       "grossprimaryeducationenrollment      0.035897\n",
       "grosstertiaryeducationenrollment     0.061538\n",
       "infantmortality                      0.030769\n",
       "lifeexpectancy                       0.041026\n",
       "maternalmortalityratio               0.071795\n",
       "minimumwage                          0.230769\n",
       "outofpockethealthexpenditure         0.035897\n",
       "physiciansperthousand                0.035897\n",
       "population                           0.005128\n",
       "populationlaborforceparticipation    0.097436\n",
       "taxrevenue                           0.133333\n",
       "totaltaxrate                         0.061538\n",
       "unemploymentrate                     0.097436\n",
       "urban_population                     0.025641\n",
       "lattitude                            0.005128\n",
       "longitude                            0.005128\n",
       "dtype: float64"
      ]
     },
     "execution_count": 14,
     "metadata": {},
     "output_type": "execute_result"
    }
   ],
   "source": [
    "dfnulosnum = df[nulos_numericos].isnull().sum() / df.shape[0]\n",
    "dfnulosnum"
   ]
  },
  {
   "cell_type": "code",
   "execution_count": 15,
   "metadata": {},
   "outputs": [
    {
     "data": {
      "text/plain": [
       "armedforcessize                      0.123077\n",
       "cpi                                  0.087179\n",
       "cpichange                            0.082051\n",
       "gasolineprice                        0.102564\n",
       "grosstertiaryeducationenrollment     0.061538\n",
       "maternalmortalityratio               0.071795\n",
       "minimumwage                          0.230769\n",
       "populationlaborforceparticipation    0.097436\n",
       "taxrevenue                           0.133333\n",
       "totaltaxrate                         0.061538\n",
       "unemploymentrate                     0.097436\n",
       "dtype: float64"
      ]
     },
     "execution_count": 15,
     "metadata": {},
     "output_type": "execute_result"
    }
   ],
   "source": [
    "#Los que estan por encima o igual de 5% de nulos les aplicamos los metodos iterative y KNN\n",
    "dfnulosnum[dfnulosnum >= 0.05]"
   ]
  },
  {
   "cell_type": "code",
   "execution_count": 16,
   "metadata": {},
   "outputs": [
    {
     "data": {
      "text/html": [
       "<div>\n",
       "<style scoped>\n",
       "    .dataframe tbody tr th:only-of-type {\n",
       "        vertical-align: middle;\n",
       "    }\n",
       "\n",
       "    .dataframe tbody tr th {\n",
       "        vertical-align: top;\n",
       "    }\n",
       "\n",
       "    .dataframe thead th {\n",
       "        text-align: right;\n",
       "    }\n",
       "</style>\n",
       "<table border=\"1\" class=\"dataframe\">\n",
       "  <thead>\n",
       "    <tr style=\"text-align: right;\">\n",
       "      <th></th>\n",
       "      <th>country</th>\n",
       "      <th>density</th>\n",
       "      <th>abbreviation</th>\n",
       "      <th>agriculturalland</th>\n",
       "      <th>landarea</th>\n",
       "      <th>armedforcessize</th>\n",
       "      <th>birthrate</th>\n",
       "      <th>callingcode</th>\n",
       "      <th>capital/majorcity</th>\n",
       "      <th>co2-emissions</th>\n",
       "      <th>cpi</th>\n",
       "      <th>cpichange</th>\n",
       "      <th>currency-code</th>\n",
       "      <th>fertilityrate</th>\n",
       "      <th>forestedarea</th>\n",
       "      <th>gasolineprice</th>\n",
       "      <th>gdp</th>\n",
       "      <th>grossprimaryeducationenrollment</th>\n",
       "      <th>grosstertiaryeducationenrollment</th>\n",
       "      <th>infantmortality</th>\n",
       "      <th>largestcity</th>\n",
       "      <th>lifeexpectancy</th>\n",
       "      <th>maternalmortalityratio</th>\n",
       "      <th>minimumwage</th>\n",
       "      <th>officiallanguage</th>\n",
       "      <th>outofpockethealthexpenditure</th>\n",
       "      <th>physiciansperthousand</th>\n",
       "      <th>population</th>\n",
       "      <th>populationlaborforceparticipation</th>\n",
       "      <th>taxrevenue</th>\n",
       "      <th>totaltaxrate</th>\n",
       "      <th>unemploymentrate</th>\n",
       "      <th>urban_population</th>\n",
       "      <th>lattitude</th>\n",
       "      <th>longitude</th>\n",
       "      <th>continente</th>\n",
       "    </tr>\n",
       "  </thead>\n",
       "  <tbody>\n",
       "    <tr>\n",
       "      <th>18</th>\n",
       "      <td>Benin</td>\n",
       "      <td>108.0</td>\n",
       "      <td>BJ</td>\n",
       "      <td>33.3</td>\n",
       "      <td>112622.0</td>\n",
       "      <td>12000.0</td>\n",
       "      <td>36.22</td>\n",
       "      <td>229.0</td>\n",
       "      <td>Porto-Novo</td>\n",
       "      <td>6476.0</td>\n",
       "      <td>110.71</td>\n",
       "      <td>-0.9</td>\n",
       "      <td>XOF</td>\n",
       "      <td>4.84</td>\n",
       "      <td>37.8</td>\n",
       "      <td>0.72</td>\n",
       "      <td>1.439071e+10</td>\n",
       "      <td>122.0</td>\n",
       "      <td>12.3</td>\n",
       "      <td>60.5</td>\n",
       "      <td>Cotonou</td>\n",
       "      <td>61.5</td>\n",
       "      <td>397.0</td>\n",
       "      <td>0.39</td>\n",
       "      <td>French</td>\n",
       "      <td>40.5</td>\n",
       "      <td>0.08</td>\n",
       "      <td>11801151.0</td>\n",
       "      <td>70.9</td>\n",
       "      <td>10.8</td>\n",
       "      <td>48.9</td>\n",
       "      <td>2.23</td>\n",
       "      <td>5648149.0</td>\n",
       "      <td>9.307690</td>\n",
       "      <td>2.315834</td>\n",
       "      <td>África</td>\n",
       "    </tr>\n",
       "    <tr>\n",
       "      <th>171</th>\n",
       "      <td>Tajikistan</td>\n",
       "      <td>68.0</td>\n",
       "      <td>TJ</td>\n",
       "      <td>34.1</td>\n",
       "      <td>144100.0</td>\n",
       "      <td>17000.0</td>\n",
       "      <td>30.76</td>\n",
       "      <td>992.0</td>\n",
       "      <td>Dushanbe</td>\n",
       "      <td>5310.0</td>\n",
       "      <td>148.57</td>\n",
       "      <td>6.0</td>\n",
       "      <td>TJS</td>\n",
       "      <td>3.59</td>\n",
       "      <td>3.0</td>\n",
       "      <td>0.71</td>\n",
       "      <td>8.116627e+09</td>\n",
       "      <td>100.9</td>\n",
       "      <td>31.3</td>\n",
       "      <td>30.4</td>\n",
       "      <td>Dushanbe</td>\n",
       "      <td>70.9</td>\n",
       "      <td>17.0</td>\n",
       "      <td>0.23</td>\n",
       "      <td>Persian</td>\n",
       "      <td>63.1</td>\n",
       "      <td>1.70</td>\n",
       "      <td>9321018.0</td>\n",
       "      <td>42.0</td>\n",
       "      <td>9.8</td>\n",
       "      <td>67.3</td>\n",
       "      <td>11.02</td>\n",
       "      <td>2545477.0</td>\n",
       "      <td>38.861034</td>\n",
       "      <td>71.276093</td>\n",
       "      <td>Asia</td>\n",
       "    </tr>\n",
       "  </tbody>\n",
       "</table>\n",
       "</div>"
      ],
      "text/plain": [
       "        country  density abbreviation  agriculturalland  landarea  \\\n",
       "18        Benin    108.0           BJ              33.3  112622.0   \n",
       "171  Tajikistan     68.0           TJ              34.1  144100.0   \n",
       "\n",
       "     armedforcessize  birthrate  callingcode capital/majorcity  co2-emissions  \\\n",
       "18           12000.0      36.22        229.0        Porto-Novo         6476.0   \n",
       "171          17000.0      30.76        992.0          Dushanbe         5310.0   \n",
       "\n",
       "        cpi  cpichange currency-code  fertilityrate  forestedarea  \\\n",
       "18   110.71       -0.9           XOF           4.84          37.8   \n",
       "171  148.57        6.0           TJS           3.59           3.0   \n",
       "\n",
       "     gasolineprice           gdp  grossprimaryeducationenrollment  \\\n",
       "18            0.72  1.439071e+10                            122.0   \n",
       "171           0.71  8.116627e+09                            100.9   \n",
       "\n",
       "     grosstertiaryeducationenrollment  infantmortality largestcity  \\\n",
       "18                               12.3             60.5     Cotonou   \n",
       "171                              31.3             30.4    Dushanbe   \n",
       "\n",
       "     lifeexpectancy  maternalmortalityratio  minimumwage officiallanguage  \\\n",
       "18             61.5                   397.0         0.39           French   \n",
       "171            70.9                    17.0         0.23          Persian   \n",
       "\n",
       "     outofpockethealthexpenditure  physiciansperthousand  population  \\\n",
       "18                           40.5                   0.08  11801151.0   \n",
       "171                          63.1                   1.70   9321018.0   \n",
       "\n",
       "     populationlaborforceparticipation  taxrevenue  totaltaxrate  \\\n",
       "18                                70.9        10.8          48.9   \n",
       "171                               42.0         9.8          67.3   \n",
       "\n",
       "     unemploymentrate  urban_population  lattitude  longitude continente  \n",
       "18               2.23         5648149.0   9.307690   2.315834     África  \n",
       "171             11.02         2545477.0  38.861034  71.276093       Asia  "
      ]
     },
     "execution_count": 16,
     "metadata": {},
     "output_type": "execute_result"
    }
   ],
   "source": [
    "dfcopia = df.copy()\n",
    "dfcopia.sample(2)"
   ]
  },
  {
   "cell_type": "code",
   "execution_count": 17,
   "metadata": {},
   "outputs": [
    {
     "data": {
      "text/plain": [
       "array([[3.23000000e+05, 1.49900000e+02, 2.30000000e+00, ...,\n",
       "        9.30000000e+00, 7.14000000e+01, 1.11200000e+01],\n",
       "       [9.00000000e+03, 1.19050000e+02, 1.40000000e+00, ...,\n",
       "        1.86000000e+01, 3.66000000e+01, 1.23300000e+01],\n",
       "       [3.17000000e+05, 1.51360000e+02, 2.00000000e+00, ...,\n",
       "        3.72000000e+01, 6.61000000e+01, 1.17000000e+01],\n",
       "       ...,\n",
       "       [4.00000000e+04, 1.57580000e+02, 8.10000000e+00, ...,\n",
       "        1.67562804e+01, 2.66000000e+01, 1.29100000e+01],\n",
       "       [1.60000000e+04, 2.12310000e+02, 9.20000000e+00, ...,\n",
       "        1.62000000e+01, 1.56000000e+01, 1.14300000e+01],\n",
       "       [5.10000000e+04, 1.05510000e+02, 9.00000000e-01, ...,\n",
       "        2.07000000e+01, 3.16000000e+01, 4.95000000e+00]])"
      ]
     },
     "execution_count": 17,
     "metadata": {},
     "output_type": "execute_result"
    }
   ],
   "source": [
    "iterative = IterativeImputer(max_iter = 20, random_state = 42)\n",
    "\n",
    "# ajustamos y tranformamos los datos\n",
    "iterative_hecho = iterative.fit_transform(df[[\n",
    "    'armedforcessize', \n",
    "    'cpi', \n",
    "    'cpichange', \n",
    "    'gasolineprice', \n",
    "    'grosstertiaryeducationenrollment', \n",
    "    'maternalmortalityratio', \n",
    "    'minimumwage', \n",
    "    'populationlaborforceparticipation', \n",
    "    'taxrevenue', \n",
    "    'totaltaxrate', \n",
    "    'unemploymentrate'\n",
    "]])\n",
    "\n",
    "iterative_hecho"
   ]
  },
  {
   "cell_type": "code",
   "execution_count": 18,
   "metadata": {},
   "outputs": [],
   "source": [
    "dfcopia[['armedforcessize_Ite', 'cpi_Ite', 'cpichange_Ite', 'gasolineprice_Ite', 'grosstertiaryeducationenrollment_Ite','maternalmortalityratio_Ite', \n",
    "          'minimumwage_Ite', 'populationlaborforceparticipation_Ite', 'taxrevenue_Ite','totaltaxrate_Ite', 'unemploymentrate_Ite']] = iterative_hecho\n"
   ]
  },
  {
   "cell_type": "code",
   "execution_count": 19,
   "metadata": {},
   "outputs": [
    {
     "data": {
      "text/html": [
       "<div>\n",
       "<style scoped>\n",
       "    .dataframe tbody tr th:only-of-type {\n",
       "        vertical-align: middle;\n",
       "    }\n",
       "\n",
       "    .dataframe tbody tr th {\n",
       "        vertical-align: top;\n",
       "    }\n",
       "\n",
       "    .dataframe thead th {\n",
       "        text-align: right;\n",
       "    }\n",
       "</style>\n",
       "<table border=\"1\" class=\"dataframe\">\n",
       "  <thead>\n",
       "    <tr style=\"text-align: right;\">\n",
       "      <th></th>\n",
       "      <th>country</th>\n",
       "      <th>density</th>\n",
       "      <th>abbreviation</th>\n",
       "      <th>agriculturalland</th>\n",
       "      <th>landarea</th>\n",
       "      <th>armedforcessize</th>\n",
       "      <th>birthrate</th>\n",
       "      <th>callingcode</th>\n",
       "      <th>capital/majorcity</th>\n",
       "      <th>co2-emissions</th>\n",
       "      <th>cpi</th>\n",
       "      <th>cpichange</th>\n",
       "      <th>currency-code</th>\n",
       "      <th>fertilityrate</th>\n",
       "      <th>forestedarea</th>\n",
       "      <th>gasolineprice</th>\n",
       "      <th>gdp</th>\n",
       "      <th>grossprimaryeducationenrollment</th>\n",
       "      <th>grosstertiaryeducationenrollment</th>\n",
       "      <th>infantmortality</th>\n",
       "      <th>largestcity</th>\n",
       "      <th>lifeexpectancy</th>\n",
       "      <th>maternalmortalityratio</th>\n",
       "      <th>minimumwage</th>\n",
       "      <th>officiallanguage</th>\n",
       "      <th>outofpockethealthexpenditure</th>\n",
       "      <th>physiciansperthousand</th>\n",
       "      <th>population</th>\n",
       "      <th>populationlaborforceparticipation</th>\n",
       "      <th>taxrevenue</th>\n",
       "      <th>totaltaxrate</th>\n",
       "      <th>unemploymentrate</th>\n",
       "      <th>urban_population</th>\n",
       "      <th>lattitude</th>\n",
       "      <th>longitude</th>\n",
       "      <th>continente</th>\n",
       "      <th>armedforcessize_Ite</th>\n",
       "      <th>cpi_Ite</th>\n",
       "      <th>cpichange_Ite</th>\n",
       "      <th>gasolineprice_Ite</th>\n",
       "      <th>grosstertiaryeducationenrollment_Ite</th>\n",
       "      <th>maternalmortalityratio_Ite</th>\n",
       "      <th>minimumwage_Ite</th>\n",
       "      <th>populationlaborforceparticipation_Ite</th>\n",
       "      <th>taxrevenue_Ite</th>\n",
       "      <th>totaltaxrate_Ite</th>\n",
       "      <th>unemploymentrate_Ite</th>\n",
       "    </tr>\n",
       "  </thead>\n",
       "  <tbody>\n",
       "    <tr>\n",
       "      <th>131</th>\n",
       "      <td>Pakistan</td>\n",
       "      <td>287.0</td>\n",
       "      <td>PK</td>\n",
       "      <td>47.8</td>\n",
       "      <td>796095.0</td>\n",
       "      <td>936000.0</td>\n",
       "      <td>28.25</td>\n",
       "      <td>92.0</td>\n",
       "      <td>Islamabad</td>\n",
       "      <td>201150.0</td>\n",
       "      <td>182.32</td>\n",
       "      <td>10.6</td>\n",
       "      <td>PKR</td>\n",
       "      <td>3.51</td>\n",
       "      <td>1.9</td>\n",
       "      <td>0.79</td>\n",
       "      <td>3.044000e+11</td>\n",
       "      <td>94.3</td>\n",
       "      <td>9.0</td>\n",
       "      <td>57.2</td>\n",
       "      <td>Karachi</td>\n",
       "      <td>67.1</td>\n",
       "      <td>140.0</td>\n",
       "      <td>0.69</td>\n",
       "      <td>Urdu</td>\n",
       "      <td>66.5</td>\n",
       "      <td>0.98</td>\n",
       "      <td>216565318.0</td>\n",
       "      <td>52.6</td>\n",
       "      <td>9.2</td>\n",
       "      <td>33.9</td>\n",
       "      <td>4.45</td>\n",
       "      <td>79927762.0</td>\n",
       "      <td>30.375321</td>\n",
       "      <td>69.345116</td>\n",
       "      <td>Asia</td>\n",
       "      <td>936000.00000</td>\n",
       "      <td>182.32</td>\n",
       "      <td>10.6</td>\n",
       "      <td>0.79000</td>\n",
       "      <td>9.0</td>\n",
       "      <td>140.000000</td>\n",
       "      <td>0.69</td>\n",
       "      <td>52.600000</td>\n",
       "      <td>9.2</td>\n",
       "      <td>33.9</td>\n",
       "      <td>4.450000</td>\n",
       "    </tr>\n",
       "    <tr>\n",
       "      <th>22</th>\n",
       "      <td>Botswana</td>\n",
       "      <td>4.0</td>\n",
       "      <td>BW</td>\n",
       "      <td>45.6</td>\n",
       "      <td>581730.0</td>\n",
       "      <td>9000.0</td>\n",
       "      <td>24.82</td>\n",
       "      <td>267.0</td>\n",
       "      <td>Gaborone</td>\n",
       "      <td>6340.0</td>\n",
       "      <td>149.75</td>\n",
       "      <td>2.8</td>\n",
       "      <td>BWP</td>\n",
       "      <td>2.87</td>\n",
       "      <td>18.9</td>\n",
       "      <td>0.71</td>\n",
       "      <td>1.834051e+10</td>\n",
       "      <td>103.2</td>\n",
       "      <td>24.9</td>\n",
       "      <td>30.0</td>\n",
       "      <td>Gaborone</td>\n",
       "      <td>69.3</td>\n",
       "      <td>144.0</td>\n",
       "      <td>0.29</td>\n",
       "      <td>English</td>\n",
       "      <td>5.3</td>\n",
       "      <td>0.37</td>\n",
       "      <td>2346179.0</td>\n",
       "      <td>70.8</td>\n",
       "      <td>19.5</td>\n",
       "      <td>25.1</td>\n",
       "      <td>18.19</td>\n",
       "      <td>1616550.0</td>\n",
       "      <td>-22.328474</td>\n",
       "      <td>24.684866</td>\n",
       "      <td>África</td>\n",
       "      <td>9000.00000</td>\n",
       "      <td>149.75</td>\n",
       "      <td>2.8</td>\n",
       "      <td>0.71000</td>\n",
       "      <td>24.9</td>\n",
       "      <td>144.000000</td>\n",
       "      <td>0.29</td>\n",
       "      <td>70.800000</td>\n",
       "      <td>19.5</td>\n",
       "      <td>25.1</td>\n",
       "      <td>18.190000</td>\n",
       "    </tr>\n",
       "    <tr>\n",
       "      <th>103</th>\n",
       "      <td>Malaysia</td>\n",
       "      <td>99.0</td>\n",
       "      <td>MY</td>\n",
       "      <td>26.3</td>\n",
       "      <td>329847.0</td>\n",
       "      <td>136000.0</td>\n",
       "      <td>16.75</td>\n",
       "      <td>60.0</td>\n",
       "      <td>Kuala Lumpur</td>\n",
       "      <td>248289.0</td>\n",
       "      <td>121.46</td>\n",
       "      <td>0.7</td>\n",
       "      <td>MYR</td>\n",
       "      <td>2.00</td>\n",
       "      <td>67.6</td>\n",
       "      <td>0.45</td>\n",
       "      <td>3.647015e+11</td>\n",
       "      <td>105.3</td>\n",
       "      <td>45.1</td>\n",
       "      <td>6.7</td>\n",
       "      <td>Johor Bahru</td>\n",
       "      <td>76.0</td>\n",
       "      <td>29.0</td>\n",
       "      <td>0.93</td>\n",
       "      <td>Malaysian language</td>\n",
       "      <td>36.7</td>\n",
       "      <td>1.51</td>\n",
       "      <td>32447385.0</td>\n",
       "      <td>64.3</td>\n",
       "      <td>12.0</td>\n",
       "      <td>38.7</td>\n",
       "      <td>3.32</td>\n",
       "      <td>24475766.0</td>\n",
       "      <td>4.210484</td>\n",
       "      <td>101.975766</td>\n",
       "      <td>Asia</td>\n",
       "      <td>136000.00000</td>\n",
       "      <td>121.46</td>\n",
       "      <td>0.7</td>\n",
       "      <td>0.45000</td>\n",
       "      <td>45.1</td>\n",
       "      <td>29.000000</td>\n",
       "      <td>0.93</td>\n",
       "      <td>64.300000</td>\n",
       "      <td>12.0</td>\n",
       "      <td>38.7</td>\n",
       "      <td>3.320000</td>\n",
       "    </tr>\n",
       "    <tr>\n",
       "      <th>145</th>\n",
       "      <td>Saint Kitts and Nevis</td>\n",
       "      <td>205.0</td>\n",
       "      <td>KN</td>\n",
       "      <td>23.1</td>\n",
       "      <td>261.0</td>\n",
       "      <td>NaN</td>\n",
       "      <td>12.60</td>\n",
       "      <td>1.0</td>\n",
       "      <td>Basseterre</td>\n",
       "      <td>238.0</td>\n",
       "      <td>104.57</td>\n",
       "      <td>-1.0</td>\n",
       "      <td>XCD</td>\n",
       "      <td>2.11</td>\n",
       "      <td>42.3</td>\n",
       "      <td>NaN</td>\n",
       "      <td>1.050993e+09</td>\n",
       "      <td>108.7</td>\n",
       "      <td>86.7</td>\n",
       "      <td>9.8</td>\n",
       "      <td>Basseterre</td>\n",
       "      <td>71.3</td>\n",
       "      <td>NaN</td>\n",
       "      <td>3.33</td>\n",
       "      <td>English</td>\n",
       "      <td>56.6</td>\n",
       "      <td>2.52</td>\n",
       "      <td>52823.0</td>\n",
       "      <td>NaN</td>\n",
       "      <td>18.5</td>\n",
       "      <td>49.7</td>\n",
       "      <td>NaN</td>\n",
       "      <td>16269.0</td>\n",
       "      <td>17.357822</td>\n",
       "      <td>-62.782998</td>\n",
       "      <td>América del Norte</td>\n",
       "      <td>159275.11318</td>\n",
       "      <td>104.57</td>\n",
       "      <td>-1.0</td>\n",
       "      <td>1.14504</td>\n",
       "      <td>86.7</td>\n",
       "      <td>-32.186029</td>\n",
       "      <td>3.33</td>\n",
       "      <td>59.315013</td>\n",
       "      <td>18.5</td>\n",
       "      <td>49.7</td>\n",
       "      <td>6.875463</td>\n",
       "    </tr>\n",
       "    <tr>\n",
       "      <th>82</th>\n",
       "      <td>Israel</td>\n",
       "      <td>400.0</td>\n",
       "      <td>IL</td>\n",
       "      <td>24.6</td>\n",
       "      <td>20770.0</td>\n",
       "      <td>178000.0</td>\n",
       "      <td>20.80</td>\n",
       "      <td>972.0</td>\n",
       "      <td>Jerusalem</td>\n",
       "      <td>65166.0</td>\n",
       "      <td>108.15</td>\n",
       "      <td>0.8</td>\n",
       "      <td>ILS</td>\n",
       "      <td>3.09</td>\n",
       "      <td>7.7</td>\n",
       "      <td>1.57</td>\n",
       "      <td>3.950987e+11</td>\n",
       "      <td>104.9</td>\n",
       "      <td>63.4</td>\n",
       "      <td>3.0</td>\n",
       "      <td>Jerusalem</td>\n",
       "      <td>82.8</td>\n",
       "      <td>3.0</td>\n",
       "      <td>7.58</td>\n",
       "      <td>Hebrew</td>\n",
       "      <td>24.4</td>\n",
       "      <td>4.62</td>\n",
       "      <td>9053300.0</td>\n",
       "      <td>64.0</td>\n",
       "      <td>23.1</td>\n",
       "      <td>25.3</td>\n",
       "      <td>3.86</td>\n",
       "      <td>8374393.0</td>\n",
       "      <td>31.046051</td>\n",
       "      <td>34.851612</td>\n",
       "      <td>Asia</td>\n",
       "      <td>178000.00000</td>\n",
       "      <td>108.15</td>\n",
       "      <td>0.8</td>\n",
       "      <td>1.57000</td>\n",
       "      <td>63.4</td>\n",
       "      <td>3.000000</td>\n",
       "      <td>7.58</td>\n",
       "      <td>64.000000</td>\n",
       "      <td>23.1</td>\n",
       "      <td>25.3</td>\n",
       "      <td>3.860000</td>\n",
       "    </tr>\n",
       "  </tbody>\n",
       "</table>\n",
       "</div>"
      ],
      "text/plain": [
       "                   country  density abbreviation  agriculturalland  landarea  \\\n",
       "131               Pakistan    287.0           PK              47.8  796095.0   \n",
       "22                Botswana      4.0           BW              45.6  581730.0   \n",
       "103               Malaysia     99.0           MY              26.3  329847.0   \n",
       "145  Saint Kitts and Nevis    205.0           KN              23.1     261.0   \n",
       "82                  Israel    400.0           IL              24.6   20770.0   \n",
       "\n",
       "     armedforcessize  birthrate  callingcode capital/majorcity  co2-emissions  \\\n",
       "131         936000.0      28.25         92.0         Islamabad       201150.0   \n",
       "22            9000.0      24.82        267.0          Gaborone         6340.0   \n",
       "103         136000.0      16.75         60.0      Kuala Lumpur       248289.0   \n",
       "145              NaN      12.60          1.0        Basseterre          238.0   \n",
       "82          178000.0      20.80        972.0         Jerusalem        65166.0   \n",
       "\n",
       "        cpi  cpichange currency-code  fertilityrate  forestedarea  \\\n",
       "131  182.32       10.6           PKR           3.51           1.9   \n",
       "22   149.75        2.8           BWP           2.87          18.9   \n",
       "103  121.46        0.7           MYR           2.00          67.6   \n",
       "145  104.57       -1.0           XCD           2.11          42.3   \n",
       "82   108.15        0.8           ILS           3.09           7.7   \n",
       "\n",
       "     gasolineprice           gdp  grossprimaryeducationenrollment  \\\n",
       "131           0.79  3.044000e+11                             94.3   \n",
       "22            0.71  1.834051e+10                            103.2   \n",
       "103           0.45  3.647015e+11                            105.3   \n",
       "145            NaN  1.050993e+09                            108.7   \n",
       "82            1.57  3.950987e+11                            104.9   \n",
       "\n",
       "     grosstertiaryeducationenrollment  infantmortality  largestcity  \\\n",
       "131                               9.0             57.2      Karachi   \n",
       "22                               24.9             30.0     Gaborone   \n",
       "103                              45.1              6.7  Johor Bahru   \n",
       "145                              86.7              9.8   Basseterre   \n",
       "82                               63.4              3.0    Jerusalem   \n",
       "\n",
       "     lifeexpectancy  maternalmortalityratio  minimumwage    officiallanguage  \\\n",
       "131            67.1                   140.0         0.69                Urdu   \n",
       "22             69.3                   144.0         0.29             English   \n",
       "103            76.0                    29.0         0.93  Malaysian language   \n",
       "145            71.3                     NaN         3.33             English   \n",
       "82             82.8                     3.0         7.58              Hebrew   \n",
       "\n",
       "     outofpockethealthexpenditure  physiciansperthousand   population  \\\n",
       "131                          66.5                   0.98  216565318.0   \n",
       "22                            5.3                   0.37    2346179.0   \n",
       "103                          36.7                   1.51   32447385.0   \n",
       "145                          56.6                   2.52      52823.0   \n",
       "82                           24.4                   4.62    9053300.0   \n",
       "\n",
       "     populationlaborforceparticipation  taxrevenue  totaltaxrate  \\\n",
       "131                               52.6         9.2          33.9   \n",
       "22                                70.8        19.5          25.1   \n",
       "103                               64.3        12.0          38.7   \n",
       "145                                NaN        18.5          49.7   \n",
       "82                                64.0        23.1          25.3   \n",
       "\n",
       "     unemploymentrate  urban_population  lattitude   longitude  \\\n",
       "131              4.45        79927762.0  30.375321   69.345116   \n",
       "22              18.19         1616550.0 -22.328474   24.684866   \n",
       "103              3.32        24475766.0   4.210484  101.975766   \n",
       "145               NaN           16269.0  17.357822  -62.782998   \n",
       "82               3.86         8374393.0  31.046051   34.851612   \n",
       "\n",
       "            continente  armedforcessize_Ite  cpi_Ite  cpichange_Ite  \\\n",
       "131               Asia         936000.00000   182.32           10.6   \n",
       "22              África           9000.00000   149.75            2.8   \n",
       "103               Asia         136000.00000   121.46            0.7   \n",
       "145  América del Norte         159275.11318   104.57           -1.0   \n",
       "82                Asia         178000.00000   108.15            0.8   \n",
       "\n",
       "     gasolineprice_Ite  grosstertiaryeducationenrollment_Ite  \\\n",
       "131            0.79000                                   9.0   \n",
       "22             0.71000                                  24.9   \n",
       "103            0.45000                                  45.1   \n",
       "145            1.14504                                  86.7   \n",
       "82             1.57000                                  63.4   \n",
       "\n",
       "     maternalmortalityratio_Ite  minimumwage_Ite  \\\n",
       "131                  140.000000             0.69   \n",
       "22                   144.000000             0.29   \n",
       "103                   29.000000             0.93   \n",
       "145                  -32.186029             3.33   \n",
       "82                     3.000000             7.58   \n",
       "\n",
       "     populationlaborforceparticipation_Ite  taxrevenue_Ite  totaltaxrate_Ite  \\\n",
       "131                              52.600000             9.2              33.9   \n",
       "22                               70.800000            19.5              25.1   \n",
       "103                              64.300000            12.0              38.7   \n",
       "145                              59.315013            18.5              49.7   \n",
       "82                               64.000000            23.1              25.3   \n",
       "\n",
       "     unemploymentrate_Ite  \n",
       "131              4.450000  \n",
       "22              18.190000  \n",
       "103              3.320000  \n",
       "145              6.875463  \n",
       "82               3.860000  "
      ]
     },
     "execution_count": 19,
     "metadata": {},
     "output_type": "execute_result"
    }
   ],
   "source": [
    "#comprobamos \n",
    "dfcopia.sample(5)"
   ]
  },
  {
   "cell_type": "code",
   "execution_count": 20,
   "metadata": {},
   "outputs": [
    {
     "data": {
      "text/plain": [
       "array([[3.2300e+05, 1.4990e+02, 2.3000e+00, ..., 9.3000e+00, 7.1400e+01,\n",
       "        1.1120e+01],\n",
       "       [9.0000e+03, 1.1905e+02, 1.4000e+00, ..., 1.8600e+01, 3.6600e+01,\n",
       "        1.2330e+01],\n",
       "       [3.1700e+05, 1.5136e+02, 2.0000e+00, ..., 3.7200e+01, 6.6100e+01,\n",
       "        1.1700e+01],\n",
       "       ...,\n",
       "       [4.0000e+04, 1.5758e+02, 8.1000e+00, ..., 2.1140e+01, 2.6600e+01,\n",
       "        1.2910e+01],\n",
       "       [1.6000e+04, 2.1231e+02, 9.2000e+00, ..., 1.6200e+01, 1.5600e+01,\n",
       "        1.1430e+01],\n",
       "       [5.1000e+04, 1.0551e+02, 9.0000e-01, ..., 2.0700e+01, 3.1600e+01,\n",
       "        4.9500e+00]])"
      ]
     },
     "execution_count": 20,
     "metadata": {},
     "output_type": "execute_result"
    }
   ],
   "source": [
    "#Le hacemos el KNN\n",
    "knn = KNNImputer(n_neighbors = 5)\n",
    "\n",
    "\n",
    "knn_hecho = knn.fit_transform(dfcopia[[\n",
    "    'armedforcessize', \n",
    "    'cpi', \n",
    "    'cpichange', \n",
    "    'gasolineprice', \n",
    "    'grosstertiaryeducationenrollment', \n",
    "    'maternalmortalityratio', \n",
    "    'minimumwage', \n",
    "    'populationlaborforceparticipation', \n",
    "    'taxrevenue', \n",
    "    'totaltaxrate', \n",
    "    'unemploymentrate'\n",
    "]])\n",
    "\n",
    "\n",
    "knn_hecho"
   ]
  },
  {
   "cell_type": "code",
   "execution_count": 21,
   "metadata": {},
   "outputs": [],
   "source": [
    "dfcopia[['armedforcessize_kN', 'cpi_kN', 'cpichange_kN', 'gasolineprice_kN', 'grosstertiaryeducationenrollment_kN','maternalmortalityratio_kN', \n",
    "          'minimumwage_kN', 'populationlaborforceparticipation_kN', 'taxrevenue_kN','totaltaxrate_kN', 'unemploymentrate_kN']] = knn_hecho\n"
   ]
  },
  {
   "cell_type": "code",
   "execution_count": 22,
   "metadata": {},
   "outputs": [
    {
     "data": {
      "text/html": [
       "<div>\n",
       "<style scoped>\n",
       "    .dataframe tbody tr th:only-of-type {\n",
       "        vertical-align: middle;\n",
       "    }\n",
       "\n",
       "    .dataframe tbody tr th {\n",
       "        vertical-align: top;\n",
       "    }\n",
       "\n",
       "    .dataframe thead th {\n",
       "        text-align: right;\n",
       "    }\n",
       "</style>\n",
       "<table border=\"1\" class=\"dataframe\">\n",
       "  <thead>\n",
       "    <tr style=\"text-align: right;\">\n",
       "      <th></th>\n",
       "      <th>country</th>\n",
       "      <th>density</th>\n",
       "      <th>abbreviation</th>\n",
       "      <th>agriculturalland</th>\n",
       "      <th>landarea</th>\n",
       "      <th>armedforcessize</th>\n",
       "      <th>birthrate</th>\n",
       "      <th>callingcode</th>\n",
       "      <th>capital/majorcity</th>\n",
       "      <th>co2-emissions</th>\n",
       "      <th>cpi</th>\n",
       "      <th>cpichange</th>\n",
       "      <th>currency-code</th>\n",
       "      <th>fertilityrate</th>\n",
       "      <th>forestedarea</th>\n",
       "      <th>gasolineprice</th>\n",
       "      <th>gdp</th>\n",
       "      <th>grossprimaryeducationenrollment</th>\n",
       "      <th>grosstertiaryeducationenrollment</th>\n",
       "      <th>infantmortality</th>\n",
       "      <th>largestcity</th>\n",
       "      <th>lifeexpectancy</th>\n",
       "      <th>maternalmortalityratio</th>\n",
       "      <th>minimumwage</th>\n",
       "      <th>officiallanguage</th>\n",
       "      <th>outofpockethealthexpenditure</th>\n",
       "      <th>physiciansperthousand</th>\n",
       "      <th>population</th>\n",
       "      <th>populationlaborforceparticipation</th>\n",
       "      <th>taxrevenue</th>\n",
       "      <th>totaltaxrate</th>\n",
       "      <th>unemploymentrate</th>\n",
       "      <th>urban_population</th>\n",
       "      <th>lattitude</th>\n",
       "      <th>longitude</th>\n",
       "      <th>continente</th>\n",
       "      <th>armedforcessize_Ite</th>\n",
       "      <th>cpi_Ite</th>\n",
       "      <th>cpichange_Ite</th>\n",
       "      <th>gasolineprice_Ite</th>\n",
       "      <th>grosstertiaryeducationenrollment_Ite</th>\n",
       "      <th>maternalmortalityratio_Ite</th>\n",
       "      <th>minimumwage_Ite</th>\n",
       "      <th>populationlaborforceparticipation_Ite</th>\n",
       "      <th>taxrevenue_Ite</th>\n",
       "      <th>totaltaxrate_Ite</th>\n",
       "      <th>unemploymentrate_Ite</th>\n",
       "      <th>armedforcessize_kN</th>\n",
       "      <th>cpi_kN</th>\n",
       "      <th>cpichange_kN</th>\n",
       "      <th>gasolineprice_kN</th>\n",
       "      <th>grosstertiaryeducationenrollment_kN</th>\n",
       "      <th>maternalmortalityratio_kN</th>\n",
       "      <th>minimumwage_kN</th>\n",
       "      <th>populationlaborforceparticipation_kN</th>\n",
       "      <th>taxrevenue_kN</th>\n",
       "      <th>totaltaxrate_kN</th>\n",
       "      <th>unemploymentrate_kN</th>\n",
       "    </tr>\n",
       "  </thead>\n",
       "  <tbody>\n",
       "    <tr>\n",
       "      <th>58</th>\n",
       "      <td>Fiji</td>\n",
       "      <td>49.0</td>\n",
       "      <td>FJ</td>\n",
       "      <td>23.3</td>\n",
       "      <td>18274.0</td>\n",
       "      <td>4000.0</td>\n",
       "      <td>21.28</td>\n",
       "      <td>679.0</td>\n",
       "      <td>Suva</td>\n",
       "      <td>2046.0</td>\n",
       "      <td>132.30</td>\n",
       "      <td>1.8</td>\n",
       "      <td>FJD</td>\n",
       "      <td>2.77</td>\n",
       "      <td>55.9</td>\n",
       "      <td>0.82</td>\n",
       "      <td>5.535549e+09</td>\n",
       "      <td>106.4</td>\n",
       "      <td>16.1</td>\n",
       "      <td>21.6</td>\n",
       "      <td>Suva</td>\n",
       "      <td>67.3</td>\n",
       "      <td>34.0</td>\n",
       "      <td>1.28</td>\n",
       "      <td>Fiji Hindi</td>\n",
       "      <td>21.4</td>\n",
       "      <td>0.84</td>\n",
       "      <td>889953.0</td>\n",
       "      <td>57.6</td>\n",
       "      <td>24.2</td>\n",
       "      <td>32.1</td>\n",
       "      <td>4.10</td>\n",
       "      <td>505048.0</td>\n",
       "      <td>-17.713371</td>\n",
       "      <td>178.065032</td>\n",
       "      <td>Oceanía</td>\n",
       "      <td>4000.0</td>\n",
       "      <td>132.30</td>\n",
       "      <td>1.8</td>\n",
       "      <td>0.82</td>\n",
       "      <td>16.1</td>\n",
       "      <td>34.0</td>\n",
       "      <td>1.280000</td>\n",
       "      <td>57.6</td>\n",
       "      <td>24.200000</td>\n",
       "      <td>32.1</td>\n",
       "      <td>4.10</td>\n",
       "      <td>4000.0</td>\n",
       "      <td>132.30</td>\n",
       "      <td>1.8</td>\n",
       "      <td>0.82</td>\n",
       "      <td>16.1</td>\n",
       "      <td>34.0</td>\n",
       "      <td>1.280</td>\n",
       "      <td>57.6</td>\n",
       "      <td>24.20</td>\n",
       "      <td>32.1</td>\n",
       "      <td>4.10</td>\n",
       "    </tr>\n",
       "    <tr>\n",
       "      <th>115</th>\n",
       "      <td>Montenegro</td>\n",
       "      <td>47.0</td>\n",
       "      <td>ME</td>\n",
       "      <td>19.0</td>\n",
       "      <td>13812.0</td>\n",
       "      <td>12000.0</td>\n",
       "      <td>11.73</td>\n",
       "      <td>382.0</td>\n",
       "      <td>Podgorica</td>\n",
       "      <td>2017.0</td>\n",
       "      <td>116.32</td>\n",
       "      <td>2.6</td>\n",
       "      <td>EUR</td>\n",
       "      <td>1.75</td>\n",
       "      <td>61.5</td>\n",
       "      <td>1.16</td>\n",
       "      <td>5.494737e+09</td>\n",
       "      <td>100.0</td>\n",
       "      <td>56.1</td>\n",
       "      <td>2.3</td>\n",
       "      <td>Podgorica</td>\n",
       "      <td>76.8</td>\n",
       "      <td>6.0</td>\n",
       "      <td>1.23</td>\n",
       "      <td>Montenegrin language</td>\n",
       "      <td>31.8</td>\n",
       "      <td>2.76</td>\n",
       "      <td>622137.0</td>\n",
       "      <td>54.4</td>\n",
       "      <td>NaN</td>\n",
       "      <td>22.2</td>\n",
       "      <td>14.88</td>\n",
       "      <td>417765.0</td>\n",
       "      <td>42.708678</td>\n",
       "      <td>19.374390</td>\n",
       "      <td>Europa</td>\n",
       "      <td>12000.0</td>\n",
       "      <td>116.32</td>\n",
       "      <td>2.6</td>\n",
       "      <td>1.16</td>\n",
       "      <td>56.1</td>\n",
       "      <td>6.0</td>\n",
       "      <td>1.230000</td>\n",
       "      <td>54.4</td>\n",
       "      <td>19.114884</td>\n",
       "      <td>22.2</td>\n",
       "      <td>14.88</td>\n",
       "      <td>12000.0</td>\n",
       "      <td>116.32</td>\n",
       "      <td>2.6</td>\n",
       "      <td>1.16</td>\n",
       "      <td>56.1</td>\n",
       "      <td>6.0</td>\n",
       "      <td>1.230</td>\n",
       "      <td>54.4</td>\n",
       "      <td>20.72</td>\n",
       "      <td>22.2</td>\n",
       "      <td>14.88</td>\n",
       "    </tr>\n",
       "    <tr>\n",
       "      <th>184</th>\n",
       "      <td>United Arab Emirates</td>\n",
       "      <td>118.0</td>\n",
       "      <td>AE</td>\n",
       "      <td>5.5</td>\n",
       "      <td>83600.0</td>\n",
       "      <td>63000.0</td>\n",
       "      <td>10.33</td>\n",
       "      <td>971.0</td>\n",
       "      <td>Abu Dhabi</td>\n",
       "      <td>206324.0</td>\n",
       "      <td>114.52</td>\n",
       "      <td>-1.9</td>\n",
       "      <td>AED</td>\n",
       "      <td>1.41</td>\n",
       "      <td>4.6</td>\n",
       "      <td>0.49</td>\n",
       "      <td>4.211423e+11</td>\n",
       "      <td>108.4</td>\n",
       "      <td>36.8</td>\n",
       "      <td>6.5</td>\n",
       "      <td>Dubai</td>\n",
       "      <td>77.8</td>\n",
       "      <td>3.0</td>\n",
       "      <td>NaN</td>\n",
       "      <td>Arabic</td>\n",
       "      <td>17.8</td>\n",
       "      <td>2.53</td>\n",
       "      <td>9770529.0</td>\n",
       "      <td>82.1</td>\n",
       "      <td>0.1</td>\n",
       "      <td>15.9</td>\n",
       "      <td>2.35</td>\n",
       "      <td>8479744.0</td>\n",
       "      <td>23.424076</td>\n",
       "      <td>53.847818</td>\n",
       "      <td>Asia</td>\n",
       "      <td>63000.0</td>\n",
       "      <td>114.52</td>\n",
       "      <td>-1.9</td>\n",
       "      <td>0.49</td>\n",
       "      <td>36.8</td>\n",
       "      <td>3.0</td>\n",
       "      <td>2.346871</td>\n",
       "      <td>82.1</td>\n",
       "      <td>0.100000</td>\n",
       "      <td>15.9</td>\n",
       "      <td>2.35</td>\n",
       "      <td>63000.0</td>\n",
       "      <td>114.52</td>\n",
       "      <td>-1.9</td>\n",
       "      <td>0.49</td>\n",
       "      <td>36.8</td>\n",
       "      <td>3.0</td>\n",
       "      <td>4.434</td>\n",
       "      <td>82.1</td>\n",
       "      <td>0.10</td>\n",
       "      <td>15.9</td>\n",
       "      <td>2.35</td>\n",
       "    </tr>\n",
       "    <tr>\n",
       "      <th>118</th>\n",
       "      <td>Myanmar</td>\n",
       "      <td>83.0</td>\n",
       "      <td>MM</td>\n",
       "      <td>19.5</td>\n",
       "      <td>676578.0</td>\n",
       "      <td>513000.0</td>\n",
       "      <td>17.55</td>\n",
       "      <td>95.0</td>\n",
       "      <td>Naypyidaw</td>\n",
       "      <td>25280.0</td>\n",
       "      <td>168.18</td>\n",
       "      <td>8.8</td>\n",
       "      <td>MMK</td>\n",
       "      <td>2.15</td>\n",
       "      <td>43.6</td>\n",
       "      <td>0.54</td>\n",
       "      <td>7.608585e+10</td>\n",
       "      <td>112.3</td>\n",
       "      <td>18.8</td>\n",
       "      <td>36.8</td>\n",
       "      <td>Yangon</td>\n",
       "      <td>66.9</td>\n",
       "      <td>250.0</td>\n",
       "      <td>0.39</td>\n",
       "      <td>Burmese</td>\n",
       "      <td>73.9</td>\n",
       "      <td>0.68</td>\n",
       "      <td>54045420.0</td>\n",
       "      <td>61.7</td>\n",
       "      <td>5.4</td>\n",
       "      <td>31.2</td>\n",
       "      <td>1.58</td>\n",
       "      <td>16674093.0</td>\n",
       "      <td>21.916221</td>\n",
       "      <td>95.955974</td>\n",
       "      <td>Asia</td>\n",
       "      <td>513000.0</td>\n",
       "      <td>168.18</td>\n",
       "      <td>8.8</td>\n",
       "      <td>0.54</td>\n",
       "      <td>18.8</td>\n",
       "      <td>250.0</td>\n",
       "      <td>0.390000</td>\n",
       "      <td>61.7</td>\n",
       "      <td>5.400000</td>\n",
       "      <td>31.2</td>\n",
       "      <td>1.58</td>\n",
       "      <td>513000.0</td>\n",
       "      <td>168.18</td>\n",
       "      <td>8.8</td>\n",
       "      <td>0.54</td>\n",
       "      <td>18.8</td>\n",
       "      <td>250.0</td>\n",
       "      <td>0.390</td>\n",
       "      <td>61.7</td>\n",
       "      <td>5.40</td>\n",
       "      <td>31.2</td>\n",
       "      <td>1.58</td>\n",
       "    </tr>\n",
       "    <tr>\n",
       "      <th>66</th>\n",
       "      <td>Greece</td>\n",
       "      <td>81.0</td>\n",
       "      <td>GR</td>\n",
       "      <td>47.6</td>\n",
       "      <td>131957.0</td>\n",
       "      <td>146000.0</td>\n",
       "      <td>8.10</td>\n",
       "      <td>30.0</td>\n",
       "      <td>Athens</td>\n",
       "      <td>62434.0</td>\n",
       "      <td>101.87</td>\n",
       "      <td>0.2</td>\n",
       "      <td>EUR</td>\n",
       "      <td>1.35</td>\n",
       "      <td>31.7</td>\n",
       "      <td>1.54</td>\n",
       "      <td>2.098528e+11</td>\n",
       "      <td>99.6</td>\n",
       "      <td>136.6</td>\n",
       "      <td>3.6</td>\n",
       "      <td>Macedonia</td>\n",
       "      <td>81.3</td>\n",
       "      <td>3.0</td>\n",
       "      <td>4.46</td>\n",
       "      <td>Greek</td>\n",
       "      <td>35.5</td>\n",
       "      <td>5.48</td>\n",
       "      <td>10716322.0</td>\n",
       "      <td>51.8</td>\n",
       "      <td>26.2</td>\n",
       "      <td>51.9</td>\n",
       "      <td>17.24</td>\n",
       "      <td>8507474.0</td>\n",
       "      <td>39.074208</td>\n",
       "      <td>21.824312</td>\n",
       "      <td>Europa</td>\n",
       "      <td>146000.0</td>\n",
       "      <td>101.87</td>\n",
       "      <td>0.2</td>\n",
       "      <td>1.54</td>\n",
       "      <td>136.6</td>\n",
       "      <td>3.0</td>\n",
       "      <td>4.460000</td>\n",
       "      <td>51.8</td>\n",
       "      <td>26.200000</td>\n",
       "      <td>51.9</td>\n",
       "      <td>17.24</td>\n",
       "      <td>146000.0</td>\n",
       "      <td>101.87</td>\n",
       "      <td>0.2</td>\n",
       "      <td>1.54</td>\n",
       "      <td>136.6</td>\n",
       "      <td>3.0</td>\n",
       "      <td>4.460</td>\n",
       "      <td>51.8</td>\n",
       "      <td>26.20</td>\n",
       "      <td>51.9</td>\n",
       "      <td>17.24</td>\n",
       "    </tr>\n",
       "  </tbody>\n",
       "</table>\n",
       "</div>"
      ],
      "text/plain": [
       "                  country  density abbreviation  agriculturalland  landarea  \\\n",
       "58                   Fiji     49.0           FJ              23.3   18274.0   \n",
       "115            Montenegro     47.0           ME              19.0   13812.0   \n",
       "184  United Arab Emirates    118.0           AE               5.5   83600.0   \n",
       "118               Myanmar     83.0           MM              19.5  676578.0   \n",
       "66                 Greece     81.0           GR              47.6  131957.0   \n",
       "\n",
       "     armedforcessize  birthrate  callingcode capital/majorcity  co2-emissions  \\\n",
       "58            4000.0      21.28        679.0              Suva         2046.0   \n",
       "115          12000.0      11.73        382.0         Podgorica         2017.0   \n",
       "184          63000.0      10.33        971.0         Abu Dhabi       206324.0   \n",
       "118         513000.0      17.55         95.0         Naypyidaw        25280.0   \n",
       "66          146000.0       8.10         30.0            Athens        62434.0   \n",
       "\n",
       "        cpi  cpichange currency-code  fertilityrate  forestedarea  \\\n",
       "58   132.30        1.8           FJD           2.77          55.9   \n",
       "115  116.32        2.6           EUR           1.75          61.5   \n",
       "184  114.52       -1.9           AED           1.41           4.6   \n",
       "118  168.18        8.8           MMK           2.15          43.6   \n",
       "66   101.87        0.2           EUR           1.35          31.7   \n",
       "\n",
       "     gasolineprice           gdp  grossprimaryeducationenrollment  \\\n",
       "58            0.82  5.535549e+09                            106.4   \n",
       "115           1.16  5.494737e+09                            100.0   \n",
       "184           0.49  4.211423e+11                            108.4   \n",
       "118           0.54  7.608585e+10                            112.3   \n",
       "66            1.54  2.098528e+11                             99.6   \n",
       "\n",
       "     grosstertiaryeducationenrollment  infantmortality largestcity  \\\n",
       "58                               16.1             21.6        Suva   \n",
       "115                              56.1              2.3   Podgorica   \n",
       "184                              36.8              6.5       Dubai   \n",
       "118                              18.8             36.8      Yangon   \n",
       "66                              136.6              3.6   Macedonia   \n",
       "\n",
       "     lifeexpectancy  maternalmortalityratio  minimumwage  \\\n",
       "58             67.3                    34.0         1.28   \n",
       "115            76.8                     6.0         1.23   \n",
       "184            77.8                     3.0          NaN   \n",
       "118            66.9                   250.0         0.39   \n",
       "66             81.3                     3.0         4.46   \n",
       "\n",
       "         officiallanguage  outofpockethealthexpenditure  \\\n",
       "58             Fiji Hindi                          21.4   \n",
       "115  Montenegrin language                          31.8   \n",
       "184                Arabic                          17.8   \n",
       "118               Burmese                          73.9   \n",
       "66                  Greek                          35.5   \n",
       "\n",
       "     physiciansperthousand  population  populationlaborforceparticipation  \\\n",
       "58                    0.84    889953.0                               57.6   \n",
       "115                   2.76    622137.0                               54.4   \n",
       "184                   2.53   9770529.0                               82.1   \n",
       "118                   0.68  54045420.0                               61.7   \n",
       "66                    5.48  10716322.0                               51.8   \n",
       "\n",
       "     taxrevenue  totaltaxrate  unemploymentrate  urban_population  lattitude  \\\n",
       "58         24.2          32.1              4.10          505048.0 -17.713371   \n",
       "115         NaN          22.2             14.88          417765.0  42.708678   \n",
       "184         0.1          15.9              2.35         8479744.0  23.424076   \n",
       "118         5.4          31.2              1.58        16674093.0  21.916221   \n",
       "66         26.2          51.9             17.24         8507474.0  39.074208   \n",
       "\n",
       "      longitude continente  armedforcessize_Ite  cpi_Ite  cpichange_Ite  \\\n",
       "58   178.065032    Oceanía               4000.0   132.30            1.8   \n",
       "115   19.374390     Europa              12000.0   116.32            2.6   \n",
       "184   53.847818       Asia              63000.0   114.52           -1.9   \n",
       "118   95.955974       Asia             513000.0   168.18            8.8   \n",
       "66    21.824312     Europa             146000.0   101.87            0.2   \n",
       "\n",
       "     gasolineprice_Ite  grosstertiaryeducationenrollment_Ite  \\\n",
       "58                0.82                                  16.1   \n",
       "115               1.16                                  56.1   \n",
       "184               0.49                                  36.8   \n",
       "118               0.54                                  18.8   \n",
       "66                1.54                                 136.6   \n",
       "\n",
       "     maternalmortalityratio_Ite  minimumwage_Ite  \\\n",
       "58                         34.0         1.280000   \n",
       "115                         6.0         1.230000   \n",
       "184                         3.0         2.346871   \n",
       "118                       250.0         0.390000   \n",
       "66                          3.0         4.460000   \n",
       "\n",
       "     populationlaborforceparticipation_Ite  taxrevenue_Ite  totaltaxrate_Ite  \\\n",
       "58                                    57.6       24.200000              32.1   \n",
       "115                                   54.4       19.114884              22.2   \n",
       "184                                   82.1        0.100000              15.9   \n",
       "118                                   61.7        5.400000              31.2   \n",
       "66                                    51.8       26.200000              51.9   \n",
       "\n",
       "     unemploymentrate_Ite  armedforcessize_kN  cpi_kN  cpichange_kN  \\\n",
       "58                   4.10              4000.0  132.30           1.8   \n",
       "115                 14.88             12000.0  116.32           2.6   \n",
       "184                  2.35             63000.0  114.52          -1.9   \n",
       "118                  1.58            513000.0  168.18           8.8   \n",
       "66                  17.24            146000.0  101.87           0.2   \n",
       "\n",
       "     gasolineprice_kN  grosstertiaryeducationenrollment_kN  \\\n",
       "58               0.82                                 16.1   \n",
       "115              1.16                                 56.1   \n",
       "184              0.49                                 36.8   \n",
       "118              0.54                                 18.8   \n",
       "66               1.54                                136.6   \n",
       "\n",
       "     maternalmortalityratio_kN  minimumwage_kN  \\\n",
       "58                        34.0           1.280   \n",
       "115                        6.0           1.230   \n",
       "184                        3.0           4.434   \n",
       "118                      250.0           0.390   \n",
       "66                         3.0           4.460   \n",
       "\n",
       "     populationlaborforceparticipation_kN  taxrevenue_kN  totaltaxrate_kN  \\\n",
       "58                                   57.6          24.20             32.1   \n",
       "115                                  54.4          20.72             22.2   \n",
       "184                                  82.1           0.10             15.9   \n",
       "118                                  61.7           5.40             31.2   \n",
       "66                                   51.8          26.20             51.9   \n",
       "\n",
       "     unemploymentrate_kN  \n",
       "58                  4.10  \n",
       "115                14.88  \n",
       "184                 2.35  \n",
       "118                 1.58  \n",
       "66                 17.24  "
      ]
     },
     "execution_count": 22,
     "metadata": {},
     "output_type": "execute_result"
    }
   ],
   "source": [
    "dfcopia.sample(5)"
   ]
  },
  {
   "cell_type": "code",
   "execution_count": 23,
   "metadata": {},
   "outputs": [
    {
     "data": {
      "text/plain": [
       "Index(['country', 'density', 'abbreviation', 'agriculturalland', 'landarea',\n",
       "       'armedforcessize', 'birthrate', 'callingcode', 'capital/majorcity',\n",
       "       'co2-emissions', 'cpi', 'cpichange', 'currency-code', 'fertilityrate',\n",
       "       'forestedarea', 'gasolineprice', 'gdp',\n",
       "       'grossprimaryeducationenrollment', 'grosstertiaryeducationenrollment',\n",
       "       'infantmortality', 'largestcity', 'lifeexpectancy',\n",
       "       'maternalmortalityratio', 'minimumwage', 'officiallanguage',\n",
       "       'outofpockethealthexpenditure', 'physiciansperthousand', 'population',\n",
       "       'populationlaborforceparticipation', 'taxrevenue', 'totaltaxrate',\n",
       "       'unemploymentrate', 'urban_population', 'lattitude', 'longitude',\n",
       "       'continente', 'armedforcessize_Ite', 'cpi_Ite', 'cpichange_Ite',\n",
       "       'gasolineprice_Ite', 'grosstertiaryeducationenrollment_Ite',\n",
       "       'maternalmortalityratio_Ite', 'minimumwage_Ite',\n",
       "       'populationlaborforceparticipation_Ite', 'taxrevenue_Ite',\n",
       "       'totaltaxrate_Ite', 'unemploymentrate_Ite', 'armedforcessize_kN',\n",
       "       'cpi_kN', 'cpichange_kN', 'gasolineprice_kN',\n",
       "       'grosstertiaryeducationenrollment_kN', 'maternalmortalityratio_kN',\n",
       "       'minimumwage_kN', 'populationlaborforceparticipation_kN',\n",
       "       'taxrevenue_kN', 'totaltaxrate_kN', 'unemploymentrate_kN'],\n",
       "      dtype='object')"
      ]
     },
     "execution_count": 23,
     "metadata": {},
     "output_type": "execute_result"
    }
   ],
   "source": [
    "dfcopia.columns"
   ]
  },
  {
   "cell_type": "code",
   "execution_count": 25,
   "metadata": {},
   "outputs": [],
   "source": [
    "#eliminamos las columnas\n",
    "dfcopia.drop(['armedforcessize', 'cpi','cpichange', \n",
    "              'gasolineprice', 'grosstertiaryeducationenrollment',  'maternalmortalityratio', 'minimumwage', 'populationlaborforceparticipation',  'taxrevenue', 'totaltaxrate', 'unemploymentrate', 'armedforcessize',  \n",
    "        'armedforcessize_Ite',\n",
    "       'cpi_Ite', 'cpichange_Ite', 'gasolineprice_Ite',\n",
    "       'grosstertiaryeducationenrollment_Ite', 'maternalmortalityratio_Ite',\n",
    "       'minimumwage_Ite', 'populationlaborforceparticipation_Ite',\n",
    "       'taxrevenue_Ite', 'totaltaxrate_Ite', 'unemploymentrate_Ite',\n",
    "       'armedforcessize_kN', 'cpi_kN', 'cpichange_kN', 'gasolineprice_kN',\n",
    "       'grosstertiaryeducationenrollment_kN', 'maternalmortalityratio_kN',\n",
    "       'minimumwage_kN', 'populationlaborforceparticipation_kN',\n",
    "       'taxrevenue_kN', 'totaltaxrate_kN', 'unemploymentrate_kN'], axis=1, inplace=True)"
   ]
  },
  {
   "cell_type": "code",
   "execution_count": 26,
   "metadata": {},
   "outputs": [],
   "source": [
    "#remmplazamos por las columnas que hemos decidido.\n",
    "nuevas_columnas = {'armedforcessize_kN': 'armedforcessize', 'cpi_kN': 'cpi', 'cpichange_kN':'cpichange', 'gasolineprice_kN': 'gasolineprice', 'grosstertiaryeducationenrollment_kN': 'grosstertiaryeducationenrollment','maternalmortalityratio_kN': 'maternalmortalityratio', \n",
    "          'minimumwage_kN':'minimumwage' , 'populationlaborforceparticipation_kN':'populationlaborforceparticipation','taxrevenue_kN':'totaltaxrate', 'unemploymentrate_kN':'unemploymentrate', 'taxrevenue_kN': 'taxrevenue'}\n",
    "dfcopia.rename(columns = nuevas_columnas, inplace = True)\n"
   ]
  },
  {
   "cell_type": "code",
   "execution_count": 27,
   "metadata": {},
   "outputs": [
    {
     "data": {
      "text/plain": [
       "Index(['country', 'density', 'abbreviation', 'agriculturalland', 'landarea',\n",
       "       'birthrate', 'callingcode', 'capital/majorcity', 'co2-emissions',\n",
       "       'currency-code', 'fertilityrate', 'forestedarea', 'gdp',\n",
       "       'grossprimaryeducationenrollment', 'infantmortality', 'largestcity',\n",
       "       'lifeexpectancy', 'officiallanguage', 'outofpockethealthexpenditure',\n",
       "       'physiciansperthousand', 'population', 'urban_population', 'lattitude',\n",
       "       'longitude', 'continente'],\n",
       "      dtype='object')"
      ]
     },
     "execution_count": 27,
     "metadata": {},
     "output_type": "execute_result"
    }
   ],
   "source": [
    "dfcopia.columns"
   ]
  },
  {
   "cell_type": "code",
   "execution_count": 28,
   "metadata": {},
   "outputs": [
    {
     "data": {
      "text/plain": [
       "agriculturalland                   0.035897\n",
       "landarea                           0.005128\n",
       "birthrate                          0.030769\n",
       "callingcode                        0.005128\n",
       "co2-emissions                      0.035897\n",
       "fertilityrate                      0.035897\n",
       "forestedarea                       0.035897\n",
       "gdp                                0.010256\n",
       "grossprimaryeducationenrollment    0.035897\n",
       "infantmortality                    0.030769\n",
       "lifeexpectancy                     0.041026\n",
       "outofpockethealthexpenditure       0.035897\n",
       "physiciansperthousand              0.035897\n",
       "population                         0.005128\n",
       "urban_population                   0.025641\n",
       "lattitude                          0.005128\n",
       "longitude                          0.005128\n",
       "dtype: float64"
      ]
     },
     "execution_count": 28,
     "metadata": {},
     "output_type": "execute_result"
    }
   ],
   "source": [
    "#sacamos los que estan por debajo de 5% de nulos y les ponemos la moda o mediana\n",
    "dfnulosnum[dfnulosnum < 0.05] "
   ]
  },
  {
   "cell_type": "code",
   "execution_count": 29,
   "metadata": {},
   "outputs": [],
   "source": [
    "columnas_a_tratar = ['agriculturalland', 'landarea', 'armedforcessize', 'birthrate',\n",
    "       'callingcode', 'co2-emissions', 'cpi', 'cpichange', 'fertilityrate',\n",
    "       'forestedarea', 'gasolineprice', 'gdp',\n",
    "       'grossprimaryeducationenrollment', 'grosstertiaryeducationenrollment',\n",
    "       'infantmortality', 'lifeexpectancy', 'maternalmortalityratio',\n",
    "       'minimumwage', 'outofpockethealthexpenditure', 'physiciansperthousand',\n",
    "       'population', 'populationlaborforceparticipation', 'taxrevenue',\n",
    "       'totaltaxrate', 'unemploymentrate', 'urban_population', 'lattitude',\n",
    "       'longitude']"
   ]
  },
  {
   "cell_type": "code",
   "execution_count": 30,
   "metadata": {},
   "outputs": [
    {
     "data": {
      "text/plain": [
       "'agriculturalland'"
      ]
     },
     "metadata": {},
     "output_type": "display_data"
    },
    {
     "data": {
      "text/plain": [
       "mean    39.117553\n",
       "50%     39.600000\n",
       "Name: agriculturalland, dtype: float64"
      ]
     },
     "metadata": {},
     "output_type": "display_data"
    },
    {
     "data": {
      "text/plain": [
       "'landarea'"
      ]
     },
     "metadata": {},
     "output_type": "display_data"
    },
    {
     "data": {
      "text/plain": [
       "mean    689624.365979\n",
       "50%     119511.000000\n",
       "Name: landarea, dtype: float64"
      ]
     },
     "metadata": {},
     "output_type": "display_data"
    },
    {
     "data": {
      "text/plain": [
       "'armedforcessize'"
      ]
     },
     "metadata": {},
     "output_type": "display_data"
    },
    {
     "data": {
      "text/plain": [
       "mean    159274.853801\n",
       "50%      31000.000000\n",
       "Name: armedforcessize, dtype: float64"
      ]
     },
     "metadata": {},
     "output_type": "display_data"
    },
    {
     "data": {
      "text/plain": [
       "'birthrate'"
      ]
     },
     "metadata": {},
     "output_type": "display_data"
    },
    {
     "data": {
      "text/plain": [
       "mean    20.214974\n",
       "50%     17.950000\n",
       "Name: birthrate, dtype: float64"
      ]
     },
     "metadata": {},
     "output_type": "display_data"
    },
    {
     "data": {
      "text/plain": [
       "'callingcode'"
      ]
     },
     "metadata": {},
     "output_type": "display_data"
    },
    {
     "data": {
      "text/plain": [
       "mean    360.546392\n",
       "50%     255.500000\n",
       "Name: callingcode, dtype: float64"
      ]
     },
     "metadata": {},
     "output_type": "display_data"
    },
    {
     "data": {
      "text/plain": [
       "'co2-emissions'"
      ]
     },
     "metadata": {},
     "output_type": "display_data"
    },
    {
     "data": {
      "text/plain": [
       "mean    177799.239362\n",
       "50%      12303.000000\n",
       "Name: co2-emissions, dtype: float64"
      ]
     },
     "metadata": {},
     "output_type": "display_data"
    },
    {
     "data": {
      "text/plain": [
       "'cpi'"
      ]
     },
     "metadata": {},
     "output_type": "display_data"
    },
    {
     "data": {
      "text/plain": [
       "mean    190.460955\n",
       "50%     125.340000\n",
       "Name: cpi, dtype: float64"
      ]
     },
     "metadata": {},
     "output_type": "display_data"
    },
    {
     "data": {
      "text/plain": [
       "'cpichange'"
      ]
     },
     "metadata": {},
     "output_type": "display_data"
    },
    {
     "data": {
      "text/plain": [
       "mean    6.722346\n",
       "50%     2.300000\n",
       "Name: cpichange, dtype: float64"
      ]
     },
     "metadata": {},
     "output_type": "display_data"
    },
    {
     "data": {
      "text/plain": [
       "'fertilityrate'"
      ]
     },
     "metadata": {},
     "output_type": "display_data"
    },
    {
     "data": {
      "text/plain": [
       "mean    2.698138\n",
       "50%     2.245000\n",
       "Name: fertilityrate, dtype: float64"
      ]
     },
     "metadata": {},
     "output_type": "display_data"
    },
    {
     "data": {
      "text/plain": [
       "'forestedarea'"
      ]
     },
     "metadata": {},
     "output_type": "display_data"
    },
    {
     "data": {
      "text/plain": [
       "mean    32.015426\n",
       "50%     32.000000\n",
       "Name: forestedarea, dtype: float64"
      ]
     },
     "metadata": {},
     "output_type": "display_data"
    },
    {
     "data": {
      "text/plain": [
       "'gasolineprice'"
      ]
     },
     "metadata": {},
     "output_type": "display_data"
    },
    {
     "data": {
      "text/plain": [
       "mean    1.002457\n",
       "50%     0.980000\n",
       "Name: gasolineprice, dtype: float64"
      ]
     },
     "metadata": {},
     "output_type": "display_data"
    },
    {
     "data": {
      "text/plain": [
       "'gdp'"
      ]
     },
     "metadata": {},
     "output_type": "display_data"
    },
    {
     "data": {
      "text/plain": [
       "mean    4.772959e+11\n",
       "50%     3.438723e+10\n",
       "Name: gdp, dtype: float64"
      ]
     },
     "metadata": {},
     "output_type": "display_data"
    },
    {
     "data": {
      "text/plain": [
       "'grossprimaryeducationenrollment'"
      ]
     },
     "metadata": {},
     "output_type": "display_data"
    },
    {
     "data": {
      "text/plain": [
       "mean    102.470213\n",
       "50%     102.550000\n",
       "Name: grossprimaryeducationenrollment, dtype: float64"
      ]
     },
     "metadata": {},
     "output_type": "display_data"
    },
    {
     "data": {
      "text/plain": [
       "'grosstertiaryeducationenrollment'"
      ]
     },
     "metadata": {},
     "output_type": "display_data"
    },
    {
     "data": {
      "text/plain": [
       "mean    37.963388\n",
       "50%     31.200000\n",
       "Name: grosstertiaryeducationenrollment, dtype: float64"
      ]
     },
     "metadata": {},
     "output_type": "display_data"
    },
    {
     "data": {
      "text/plain": [
       "'infantmortality'"
      ]
     },
     "metadata": {},
     "output_type": "display_data"
    },
    {
     "data": {
      "text/plain": [
       "mean    21.332804\n",
       "50%     14.000000\n",
       "Name: infantmortality, dtype: float64"
      ]
     },
     "metadata": {},
     "output_type": "display_data"
    },
    {
     "data": {
      "text/plain": [
       "'lifeexpectancy'"
      ]
     },
     "metadata": {},
     "output_type": "display_data"
    },
    {
     "data": {
      "text/plain": [
       "mean    72.279679\n",
       "50%     73.200000\n",
       "Name: lifeexpectancy, dtype: float64"
      ]
     },
     "metadata": {},
     "output_type": "display_data"
    },
    {
     "data": {
      "text/plain": [
       "'maternalmortalityratio'"
      ]
     },
     "metadata": {},
     "output_type": "display_data"
    },
    {
     "data": {
      "text/plain": [
       "mean    160.392265\n",
       "50%      53.000000\n",
       "Name: maternalmortalityratio, dtype: float64"
      ]
     },
     "metadata": {},
     "output_type": "display_data"
    },
    {
     "data": {
      "text/plain": [
       "'minimumwage'"
      ]
     },
     "metadata": {},
     "output_type": "display_data"
    },
    {
     "data": {
      "text/plain": [
       "mean    2.194133\n",
       "50%     1.045000\n",
       "Name: minimumwage, dtype: float64"
      ]
     },
     "metadata": {},
     "output_type": "display_data"
    },
    {
     "data": {
      "text/plain": [
       "'outofpockethealthexpenditure'"
      ]
     },
     "metadata": {},
     "output_type": "display_data"
    },
    {
     "data": {
      "text/plain": [
       "mean    32.637234\n",
       "50%     30.700000\n",
       "Name: outofpockethealthexpenditure, dtype: float64"
      ]
     },
     "metadata": {},
     "output_type": "display_data"
    },
    {
     "data": {
      "text/plain": [
       "'physiciansperthousand'"
      ]
     },
     "metadata": {},
     "output_type": "display_data"
    },
    {
     "data": {
      "text/plain": [
       "mean    1.83984\n",
       "50%     1.46000\n",
       "Name: physiciansperthousand, dtype: float64"
      ]
     },
     "metadata": {},
     "output_type": "display_data"
    },
    {
     "data": {
      "text/plain": [
       "'population'"
      ]
     },
     "metadata": {},
     "output_type": "display_data"
    },
    {
     "data": {
      "text/plain": [
       "mean    3.938116e+07\n",
       "50%     8.826588e+06\n",
       "Name: population, dtype: float64"
      ]
     },
     "metadata": {},
     "output_type": "display_data"
    },
    {
     "data": {
      "text/plain": [
       "'populationlaborforceparticipation'"
      ]
     },
     "metadata": {},
     "output_type": "display_data"
    },
    {
     "data": {
      "text/plain": [
       "mean    62.738068\n",
       "50%     62.450000\n",
       "Name: populationlaborforceparticipation, dtype: float64"
      ]
     },
     "metadata": {},
     "output_type": "display_data"
    },
    {
     "data": {
      "text/plain": [
       "'taxrevenue'"
      ]
     },
     "metadata": {},
     "output_type": "display_data"
    },
    {
     "data": {
      "text/plain": [
       "mean    16.573964\n",
       "50%     16.300000\n",
       "Name: taxrevenue, dtype: float64"
      ]
     },
     "metadata": {},
     "output_type": "display_data"
    },
    {
     "data": {
      "text/plain": [
       "'totaltaxrate'"
      ]
     },
     "metadata": {},
     "output_type": "display_data"
    },
    {
     "data": {
      "text/plain": [
       "mean    40.822404\n",
       "50%     37.200000\n",
       "Name: totaltaxrate, dtype: float64"
      ]
     },
     "metadata": {},
     "output_type": "display_data"
    },
    {
     "data": {
      "text/plain": [
       "'unemploymentrate'"
      ]
     },
     "metadata": {},
     "output_type": "display_data"
    },
    {
     "data": {
      "text/plain": [
       "mean    6.886364\n",
       "50%     5.360000\n",
       "Name: unemploymentrate, dtype: float64"
      ]
     },
     "metadata": {},
     "output_type": "display_data"
    },
    {
     "data": {
      "text/plain": [
       "'urban_population'"
      ]
     },
     "metadata": {},
     "output_type": "display_data"
    },
    {
     "data": {
      "text/plain": [
       "mean    2.230454e+07\n",
       "50%     4.678104e+06\n",
       "Name: urban_population, dtype: float64"
      ]
     },
     "metadata": {},
     "output_type": "display_data"
    },
    {
     "data": {
      "text/plain": [
       "'lattitude'"
      ]
     },
     "metadata": {},
     "output_type": "display_data"
    },
    {
     "data": {
      "text/plain": [
       "mean    19.092351\n",
       "50%     17.273849\n",
       "Name: lattitude, dtype: float64"
      ]
     },
     "metadata": {},
     "output_type": "display_data"
    },
    {
     "data": {
      "text/plain": [
       "'longitude'"
      ]
     },
     "metadata": {},
     "output_type": "display_data"
    },
    {
     "data": {
      "text/plain": [
       "mean    20.232434\n",
       "50%     20.972652\n",
       "Name: longitude, dtype: float64"
      ]
     },
     "metadata": {},
     "output_type": "display_data"
    }
   ],
   "source": [
    "for col in columnas_a_tratar:\n",
    "    if col in df.columns:  \n",
    "        media = df[col].describe()[[\"mean\", \"50%\"]]\n",
    "        display(col,media)"
   ]
  },
  {
   "cell_type": "code",
   "execution_count": 31,
   "metadata": {},
   "outputs": [],
   "source": [
    "#Sustituimos los nulos inferiores a 5% de las columnas numericas con la mediana.\n",
    "\n",
    "columnas = ['agriculturalland', 'landarea', 'birthrate',\n",
    "       'callingcode', 'co2-emissions', 'fertilityrate',\n",
    "       'forestedarea', 'gdp',\n",
    "       'grossprimaryeducationenrollment', \n",
    "       'infantmortality', 'lifeexpectancy',\n",
    "        'outofpockethealthexpenditure', 'physiciansperthousand',\n",
    "       'population', 'urban_population', 'lattitude',\n",
    "       'longitude']\n",
    "\n",
    "\n",
    "for col in columnas:\n",
    "\n",
    "    mediana = df[col].median()\n",
    "    df[col] = df[col].fillna(mediana)\n"
   ]
  }
 ],
 "metadata": {
  "kernelspec": {
   "display_name": "base",
   "language": "python",
   "name": "python3"
  },
  "language_info": {
   "codemirror_mode": {
    "name": "ipython",
    "version": 3
   },
   "file_extension": ".py",
   "mimetype": "text/x-python",
   "name": "python",
   "nbconvert_exporter": "python",
   "pygments_lexer": "ipython3",
   "version": "3.9.7"
  }
 },
 "nbformat": 4,
 "nbformat_minor": 2
}
