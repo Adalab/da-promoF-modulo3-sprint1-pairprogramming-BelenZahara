{
 "cells": [
  {
   "cell_type": "markdown",
   "metadata": {},
   "source": [
    "                                Ejercicios apply"
   ]
  },
  {
   "cell_type": "code",
   "execution_count": null,
   "metadata": {},
   "outputs": [],
   "source": [
    "import pandas as pd\n",
    "import numpy as np"
   ]
  },
  {
   "cell_type": "code",
   "execution_count": null,
   "metadata": {},
   "outputs": [],
   "source": [
    "pd.set_option('display.max_columns', None) # para poder visualizar todas las columnas de los DataFrames\n"
   ]
  },
  {
   "cell_type": "markdown",
   "metadata": {},
   "source": [
    "1. Las columnas land_area, armed_forces_size, co2-emissions, gdp, population, urban_population, latitude, longitude, density, cpi son de tipo object pero en realidad deberían ser numéricas. Crea una función que nos permita cambiar el tipo de dato de estas columnas al que le corresponde."
   ]
  },
  {
   "cell_type": "code",
   "execution_count": null,
   "metadata": {},
   "outputs": [],
   "source": [
    "df = pd.read_csv('world-data-2023-full.csv')\n",
    "df.columns"
   ]
  },
  {
   "cell_type": "code",
   "execution_count": null,
   "metadata": {},
   "outputs": [],
   "source": [
    "lista_columnas = ['Land Area(Km2)','Armed Forces size','Co2-Emissions','GDP','Population','Urban_population','latitud','longitud','CPI','Density\\n(P/Km2)']\n",
    "\n",
    "def cambiar_comas(columna):\n",
    "   \n",
    "    try:\n",
    "        return float(columna.replace(\",\", \".\"))\n",
    "    \n",
    "    except:\n",
    "       \n",
    "        return np.nan\n",
    "for columna in lista_columnas:\n",
    "    df[columna] = df[columna].apply(cambiar_comas)"
   ]
  },
  {
   "cell_type": "code",
   "execution_count": 23,
   "metadata": {},
   "outputs": [
    {
     "data": {
      "text/html": [
       "<div>\n",
       "<style scoped>\n",
       "    .dataframe tbody tr th:only-of-type {\n",
       "        vertical-align: middle;\n",
       "    }\n",
       "\n",
       "    .dataframe tbody tr th {\n",
       "        vertical-align: top;\n",
       "    }\n",
       "\n",
       "    .dataframe thead th {\n",
       "        text-align: right;\n",
       "    }\n",
       "</style>\n",
       "<table border=\"1\" class=\"dataframe\">\n",
       "  <thead>\n",
       "    <tr style=\"text-align: right;\">\n",
       "      <th></th>\n",
       "      <th>Unnamed: 0</th>\n",
       "      <th>Country</th>\n",
       "      <th>Density\\n(P/Km2)</th>\n",
       "      <th>Abbreviation</th>\n",
       "      <th>Agricultural Land( %)</th>\n",
       "      <th>Land Area(Km2)</th>\n",
       "      <th>Armed Forces size</th>\n",
       "      <th>Birth Rate</th>\n",
       "      <th>Calling Code</th>\n",
       "      <th>Capital/Major City</th>\n",
       "      <th>Co2-Emissions</th>\n",
       "      <th>CPI</th>\n",
       "      <th>CPI Change (%)</th>\n",
       "      <th>Currency-Code</th>\n",
       "      <th>Fertility Rate</th>\n",
       "      <th>Forested Area (%)</th>\n",
       "      <th>Gasoline Price</th>\n",
       "      <th>GDP</th>\n",
       "      <th>Gross primary education enrollment (%)</th>\n",
       "      <th>Gross tertiary education enrollment (%)</th>\n",
       "      <th>Infant mortality</th>\n",
       "      <th>Largest city</th>\n",
       "      <th>Life expectancy</th>\n",
       "      <th>Maternal mortality ratio</th>\n",
       "      <th>Minimum wage</th>\n",
       "      <th>Official language</th>\n",
       "      <th>Out of pocket health expenditure</th>\n",
       "      <th>Physicians per thousand</th>\n",
       "      <th>Population</th>\n",
       "      <th>Population: Labor force participation (%)</th>\n",
       "      <th>Tax revenue (%)</th>\n",
       "      <th>Total tax rate</th>\n",
       "      <th>Unemployment rate</th>\n",
       "      <th>Urban_population</th>\n",
       "      <th>coordinates</th>\n",
       "      <th>latitud</th>\n",
       "      <th>longitud</th>\n",
       "    </tr>\n",
       "  </thead>\n",
       "  <tbody>\n",
       "    <tr>\n",
       "      <th>0</th>\n",
       "      <td>0</td>\n",
       "      <td>Afghanistan</td>\n",
       "      <td>60.0</td>\n",
       "      <td>AF</td>\n",
       "      <td>58.10%</td>\n",
       "      <td>652.230</td>\n",
       "      <td>323.0</td>\n",
       "      <td>32.49</td>\n",
       "      <td>93.0</td>\n",
       "      <td>Kabul</td>\n",
       "      <td>NaN</td>\n",
       "      <td>149.90</td>\n",
       "      <td>2.30%</td>\n",
       "      <td>AFN</td>\n",
       "      <td>4.47</td>\n",
       "      <td>2.10%</td>\n",
       "      <td>0.70</td>\n",
       "      <td>NaN</td>\n",
       "      <td>104.00%</td>\n",
       "      <td>9.70%</td>\n",
       "      <td>47.9</td>\n",
       "      <td>Kabul</td>\n",
       "      <td>64.5</td>\n",
       "      <td>638.0</td>\n",
       "      <td>0.43</td>\n",
       "      <td>Pashto</td>\n",
       "      <td>78.40%</td>\n",
       "      <td>0.28</td>\n",
       "      <td>NaN</td>\n",
       "      <td>48.90%</td>\n",
       "      <td>9.30%</td>\n",
       "      <td>71.40%</td>\n",
       "      <td>11.12%</td>\n",
       "      <td>NaN</td>\n",
       "      <td>('33.93911 ', '67.709953')</td>\n",
       "      <td>NaN</td>\n",
       "      <td>NaN</td>\n",
       "    </tr>\n",
       "    <tr>\n",
       "      <th>1</th>\n",
       "      <td>1</td>\n",
       "      <td>Albania</td>\n",
       "      <td>105.0</td>\n",
       "      <td>AL</td>\n",
       "      <td>43.10%</td>\n",
       "      <td>28.748</td>\n",
       "      <td>9.0</td>\n",
       "      <td>11.78</td>\n",
       "      <td>355.0</td>\n",
       "      <td>Tirana</td>\n",
       "      <td>NaN</td>\n",
       "      <td>119.05</td>\n",
       "      <td>1.40%</td>\n",
       "      <td>ALL</td>\n",
       "      <td>1.62</td>\n",
       "      <td>28.10%</td>\n",
       "      <td>1.36</td>\n",
       "      <td>NaN</td>\n",
       "      <td>107.00%</td>\n",
       "      <td>55.00%</td>\n",
       "      <td>7.8</td>\n",
       "      <td>Tirana</td>\n",
       "      <td>78.5</td>\n",
       "      <td>15.0</td>\n",
       "      <td>1.12</td>\n",
       "      <td>Albanian</td>\n",
       "      <td>56.90%</td>\n",
       "      <td>1.20</td>\n",
       "      <td>NaN</td>\n",
       "      <td>55.70%</td>\n",
       "      <td>18.60%</td>\n",
       "      <td>36.60%</td>\n",
       "      <td>12.33%</td>\n",
       "      <td>NaN</td>\n",
       "      <td>('41.153332 ', '20.168331')</td>\n",
       "      <td>NaN</td>\n",
       "      <td>NaN</td>\n",
       "    </tr>\n",
       "    <tr>\n",
       "      <th>2</th>\n",
       "      <td>2</td>\n",
       "      <td>Algeria</td>\n",
       "      <td>18.0</td>\n",
       "      <td>DZ</td>\n",
       "      <td>17.40%</td>\n",
       "      <td>NaN</td>\n",
       "      <td>317.0</td>\n",
       "      <td>24.28</td>\n",
       "      <td>213.0</td>\n",
       "      <td>Algiers</td>\n",
       "      <td>NaN</td>\n",
       "      <td>151.36</td>\n",
       "      <td>2.00%</td>\n",
       "      <td>DZD</td>\n",
       "      <td>3.02</td>\n",
       "      <td>0.80%</td>\n",
       "      <td>0.28</td>\n",
       "      <td>NaN</td>\n",
       "      <td>109.90%</td>\n",
       "      <td>51.40%</td>\n",
       "      <td>20.1</td>\n",
       "      <td>Algiers</td>\n",
       "      <td>76.7</td>\n",
       "      <td>112.0</td>\n",
       "      <td>0.95</td>\n",
       "      <td>Arabic</td>\n",
       "      <td>28.10%</td>\n",
       "      <td>1.72</td>\n",
       "      <td>NaN</td>\n",
       "      <td>41.20%</td>\n",
       "      <td>37.20%</td>\n",
       "      <td>66.10%</td>\n",
       "      <td>11.70%</td>\n",
       "      <td>NaN</td>\n",
       "      <td>('28.033886 ', '1.659626')</td>\n",
       "      <td>NaN</td>\n",
       "      <td>NaN</td>\n",
       "    </tr>\n",
       "    <tr>\n",
       "      <th>3</th>\n",
       "      <td>3</td>\n",
       "      <td>Andorra</td>\n",
       "      <td>164.0</td>\n",
       "      <td>AD</td>\n",
       "      <td>40.00%</td>\n",
       "      <td>468.000</td>\n",
       "      <td>NaN</td>\n",
       "      <td>7.20</td>\n",
       "      <td>376.0</td>\n",
       "      <td>Andorra la Vella</td>\n",
       "      <td>NaN</td>\n",
       "      <td>NaN</td>\n",
       "      <td>NaN</td>\n",
       "      <td>EUR</td>\n",
       "      <td>1.27</td>\n",
       "      <td>34.00%</td>\n",
       "      <td>1.51</td>\n",
       "      <td>NaN</td>\n",
       "      <td>106.40%</td>\n",
       "      <td>NaN</td>\n",
       "      <td>2.7</td>\n",
       "      <td>Andorra la Vella</td>\n",
       "      <td>NaN</td>\n",
       "      <td>NaN</td>\n",
       "      <td>6.63</td>\n",
       "      <td>Catalan</td>\n",
       "      <td>36.40%</td>\n",
       "      <td>3.33</td>\n",
       "      <td>77.142</td>\n",
       "      <td>NaN</td>\n",
       "      <td>NaN</td>\n",
       "      <td>NaN</td>\n",
       "      <td>NaN</td>\n",
       "      <td>67.873</td>\n",
       "      <td>('42.506285 ', '1.521801')</td>\n",
       "      <td>NaN</td>\n",
       "      <td>NaN</td>\n",
       "    </tr>\n",
       "  </tbody>\n",
       "</table>\n",
       "</div>"
      ],
      "text/plain": [
       "   Unnamed: 0      Country  Density\\n(P/Km2) Abbreviation  \\\n",
       "0           0  Afghanistan              60.0           AF   \n",
       "1           1      Albania             105.0           AL   \n",
       "2           2      Algeria              18.0           DZ   \n",
       "3           3      Andorra             164.0           AD   \n",
       "\n",
       "  Agricultural Land( %)  Land Area(Km2)  Armed Forces size  Birth Rate  \\\n",
       "0                58.10%         652.230              323.0       32.49   \n",
       "1                43.10%          28.748                9.0       11.78   \n",
       "2                17.40%             NaN              317.0       24.28   \n",
       "3                40.00%         468.000                NaN        7.20   \n",
       "\n",
       "   Calling Code Capital/Major City  Co2-Emissions     CPI CPI Change (%)  \\\n",
       "0          93.0              Kabul            NaN  149.90          2.30%   \n",
       "1         355.0             Tirana            NaN  119.05          1.40%   \n",
       "2         213.0            Algiers            NaN  151.36          2.00%   \n",
       "3         376.0   Andorra la Vella            NaN     NaN            NaN   \n",
       "\n",
       "  Currency-Code  Fertility Rate Forested Area (%)  Gasoline Price  GDP  \\\n",
       "0           AFN            4.47             2.10%            0.70  NaN   \n",
       "1           ALL            1.62            28.10%            1.36  NaN   \n",
       "2           DZD            3.02             0.80%            0.28  NaN   \n",
       "3           EUR            1.27            34.00%            1.51  NaN   \n",
       "\n",
       "  Gross primary education enrollment (%)  \\\n",
       "0                                104.00%   \n",
       "1                                107.00%   \n",
       "2                                109.90%   \n",
       "3                                106.40%   \n",
       "\n",
       "  Gross tertiary education enrollment (%)  Infant mortality      Largest city  \\\n",
       "0                                   9.70%              47.9             Kabul   \n",
       "1                                  55.00%               7.8            Tirana   \n",
       "2                                  51.40%              20.1           Algiers   \n",
       "3                                     NaN               2.7  Andorra la Vella   \n",
       "\n",
       "   Life expectancy  Maternal mortality ratio  Minimum wage Official language  \\\n",
       "0             64.5                     638.0          0.43            Pashto   \n",
       "1             78.5                      15.0          1.12          Albanian   \n",
       "2             76.7                     112.0          0.95            Arabic   \n",
       "3              NaN                       NaN          6.63           Catalan   \n",
       "\n",
       "  Out of pocket health expenditure  Physicians per thousand  Population  \\\n",
       "0                           78.40%                     0.28         NaN   \n",
       "1                           56.90%                     1.20         NaN   \n",
       "2                           28.10%                     1.72         NaN   \n",
       "3                           36.40%                     3.33      77.142   \n",
       "\n",
       "  Population: Labor force participation (%) Tax revenue (%) Total tax rate  \\\n",
       "0                                    48.90%           9.30%         71.40%   \n",
       "1                                    55.70%          18.60%         36.60%   \n",
       "2                                    41.20%          37.20%         66.10%   \n",
       "3                                       NaN             NaN            NaN   \n",
       "\n",
       "  Unemployment rate  Urban_population                  coordinates  latitud  \\\n",
       "0            11.12%               NaN   ('33.93911 ', '67.709953')      NaN   \n",
       "1            12.33%               NaN  ('41.153332 ', '20.168331')      NaN   \n",
       "2            11.70%               NaN   ('28.033886 ', '1.659626')      NaN   \n",
       "3               NaN            67.873   ('42.506285 ', '1.521801')      NaN   \n",
       "\n",
       "   longitud  \n",
       "0       NaN  \n",
       "1       NaN  \n",
       "2       NaN  \n",
       "3       NaN  "
      ]
     },
     "execution_count": 23,
     "metadata": {},
     "output_type": "execute_result"
    }
   ],
   "source": [
    "df.dtypes\n",
    "df.head(4)\n"
   ]
  },
  {
   "cell_type": "code",
   "execution_count": null,
   "metadata": {},
   "outputs": [],
   "source": [
    "lista_columnas = ['Land Area(Km2)','Armed Forces size','Co2-Emissions','GDP','Population','Urban_population','latitud','longitud','CPI','Density\\n(P/Km2)']\n",
    "\n",
    "def convertir_numerico(df,lista_columnas):\n",
    "    \"\"\"\n",
    "    Convierte una columna en numerica \n",
    "\n",
    "    Args:\n",
    "        columna (str): Una columna en string q\n",
    "\n",
    "    Returns:\n",
    "        float: El número decimal equivalente en formato de número flotante.\n",
    "    \"\"\"\n",
    "    for columna in lista_columnas:\n",
    "        df[columna] = pd.to_numeric(df[columna], errors='coerce')\n",
    "\n",
    "    return df\n",
    "\n",
    "df[lista_columnas].apply(convertir_numerico)\n",
    "\n",
    "\n",
    "\n"
   ]
  },
  {
   "cell_type": "markdown",
   "metadata": {},
   "source": [
    "2. Crea una función para añadir una nueva columna llamada 'Continent' al DataFrame para indicar a qué continente pertenece cada país."
   ]
  },
  {
   "cell_type": "code",
   "execution_count": null,
   "metadata": {},
   "outputs": [],
   "source": []
  },
  {
   "cell_type": "markdown",
   "metadata": {},
   "source": [
    "3. Guarda el DataFrame después de los cambios creados después de los dos ejercicios anteriores para usarlo en el pairprogramming de mañana."
   ]
  },
  {
   "cell_type": "code",
   "execution_count": null,
   "metadata": {},
   "outputs": [],
   "source": []
  },
  {
   "cell_type": "markdown",
   "metadata": {},
   "source": [
    "                                Ejercicios groupby"
   ]
  },
  {
   "cell_type": "markdown",
   "metadata": {},
   "source": [
    "1. ¿Cuál es la densidad de población promedio por continente?"
   ]
  },
  {
   "cell_type": "code",
   "execution_count": null,
   "metadata": {},
   "outputs": [],
   "source": []
  },
  {
   "cell_type": "markdown",
   "metadata": {},
   "source": [
    "2. ¿Cuál es la esperanza de vida promedio por idioma oficial? Agrupa los países por idioma oficial y calcula la esperanza de vida promedio."
   ]
  },
  {
   "cell_type": "code",
   "execution_count": null,
   "metadata": {},
   "outputs": [],
   "source": []
  },
  {
   "cell_type": "markdown",
   "metadata": {},
   "source": [
    "3. ¿Cuál es la tasa de mortalidad infantil promedio por moneda?"
   ]
  },
  {
   "cell_type": "code",
   "execution_count": null,
   "metadata": {},
   "outputs": [],
   "source": []
  },
  {
   "cell_type": "markdown",
   "metadata": {},
   "source": [
    "4. ¿Cuál es el salario mínimo por continente?"
   ]
  },
  {
   "cell_type": "code",
   "execution_count": null,
   "metadata": {},
   "outputs": [],
   "source": []
  },
  {
   "cell_type": "markdown",
   "metadata": {},
   "source": [
    "5. ¿Cuál es la tasa de impuestos total máxima por densidad de población por continente? Para solucionar este ejercicio puedes:\n",
    "Primero, necesitas calcular la tasa de impuestos total para cada continente. La tasa de impuestos total se encuentra en la columna \"total_tax_rate\".\n",
    "Luego, calcula la densidad de población para cada continente. La densidad de población se encuentra en la columna \"density\".\n",
    "Ahora, divide la tasa de impuestos total entre la densidad de población para obtener la tasa de impuestos total por persona por kilómetro cuadrado.\n",
    "Encuentra el país que tiene el valor más alto en esta nueva columna calculada."
   ]
  },
  {
   "cell_type": "code",
   "execution_count": null,
   "metadata": {},
   "outputs": [],
   "source": []
  },
  {
   "cell_type": "markdown",
   "metadata": {},
   "source": [
    "6. ¿Cuál es el porcentaje de población urbana promedio por continente?"
   ]
  },
  {
   "cell_type": "code",
   "execution_count": null,
   "metadata": {},
   "outputs": [],
   "source": []
  },
  {
   "cell_type": "markdown",
   "metadata": {},
   "source": [
    "7. ¿Cuál es la diferencia entre el PIB promedio y el gasto en salud de bolsillo promedio por idioma oficial? Para contestar esta pregunta dabes seguir los siguientes pasos:\n",
    "\n",
    "Agrupa el DataFrame por idioma oficial y calcula la media del Gasto de Bolsillo en salud (out_of_pocket_health_expenditure) y del GPD.\n",
    "\n",
    "Calcula la diferencia entre el PIB promedio y el gasto en salud de bolsillo promedio"
   ]
  },
  {
   "cell_type": "code",
   "execution_count": null,
   "metadata": {},
   "outputs": [],
   "source": []
  },
  {
   "cell_type": "markdown",
   "metadata": {},
   "source": [
    "8. ¿Cuál es la tasa de maternidad promedio por tasa de impuestos total? Para resolver el ejercicio deberás:\n",
    "\n",
    "Primero, calcula la tasa de maternidad promedio para cada continente. Puedes usar la columna \"maternal_mortality_ratio\" que representa la tasa de mortalidad materna.\n",
    "\n",
    "Calcula la tasa de impuestos total promedio para cada continente. Puedes usar la columna \"total_tax_rate\" que representa la tasa de impuestos total en cada continente.\n",
    "\n",
    "Luego, divide la tasa de maternidad promedio por la tasa de impuestos total promedio para obtener la relación entre ambas tasas.\n",
    "\n",
    "Encuentra el país con la tasa de maternidad más alta por punto porcentual de tasa de impuestos total."
   ]
  },
  {
   "cell_type": "code",
   "execution_count": null,
   "metadata": {},
   "outputs": [],
   "source": []
  },
  {
   "cell_type": "markdown",
   "metadata": {},
   "source": [
    "9. Ejercicios bonus groupby:\n",
    "¿Cuál es la tasa de natalidad máxima por área forestal por continente? Encuentra el país con la tasa de natalidad más alta por cada punto porcentual de área forestal.\n",
    "\n",
    "¿Cuál es la diferencia entre la tasa de impuestos total y la tasa de desempleo promedio por continente?"
   ]
  }
 ],
 "metadata": {
  "kernelspec": {
   "display_name": "base",
   "language": "python",
   "name": "python3"
  },
  "language_info": {
   "codemirror_mode": {
    "name": "ipython",
    "version": 3
   },
   "file_extension": ".py",
   "mimetype": "text/x-python",
   "name": "python",
   "nbconvert_exporter": "python",
   "pygments_lexer": "ipython3",
   "version": "3.9.7"
  }
 },
 "nbformat": 4,
 "nbformat_minor": 2
}
