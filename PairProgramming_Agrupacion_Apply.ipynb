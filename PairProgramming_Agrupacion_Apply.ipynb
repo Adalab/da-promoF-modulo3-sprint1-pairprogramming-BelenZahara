{
 "cells": [
  {
   "cell_type": "markdown",
   "metadata": {},
   "source": [
    "                                Ejercicios apply"
   ]
  },
  {
   "cell_type": "code",
   "execution_count": null,
   "metadata": {},
   "outputs": [],
   "source": [
    "import pandas as pd\n",
    "import numpy as np"
   ]
  },
  {
   "cell_type": "code",
   "execution_count": null,
   "metadata": {},
   "outputs": [],
   "source": [
    "pd.set_option('display.max_columns', None) # para poder visualizar todas las columnas de los DataFrames\n",
    "pd.set_option('display.max_rows', None)\n"
   ]
  },
  {
   "cell_type": "markdown",
   "metadata": {},
   "source": [
    "1. Las columnas land_area, armed_forces_size, co2-emissions, gdp, population, urban_population, latitude, longitude, density, cpi son de tipo object pero en realidad deberían ser numéricas. Crea una función que nos permita cambiar el tipo de dato de estas columnas al que le corresponde."
   ]
  },
  {
   "cell_type": "code",
   "execution_count": null,
   "metadata": {},
   "outputs": [],
   "source": [
    "df = pd.read_csv('Data_frame_listo_para_usar.csv', index_col=0)\n",
    "df.columns"
   ]
  },
  {
   "cell_type": "code",
   "execution_count": null,
   "metadata": {},
   "outputs": [],
   "source": [
    "lista_columnas = ['Land Area(Km2)','Armed Forces size','Co2-Emissions','GDP','Population','Urban_population','latitud','longitud','CPI','Density\\n(P/Km2)']\n",
    "\n",
    "def cambiar_comas(columna):\n",
    "   \n",
    "    try:\n",
    "        return float(columna.replace(\",\", \".\"))\n",
    "    \n",
    "    except:\n",
    "       \n",
    "        return np.nan\n",
    "for columna in lista_columnas:\n",
    "    df[columna] = df[columna].apply(cambiar_comas)"
   ]
  },
  {
   "cell_type": "code",
   "execution_count": null,
   "metadata": {},
   "outputs": [],
   "source": [
    "df.dtypes\n",
    "df.head(4)\n"
   ]
  },
  {
   "cell_type": "code",
   "execution_count": null,
   "metadata": {},
   "outputs": [],
   "source": [
    "lista_columnas = ['Land Area(Km2)','Armed Forces size','Co2-Emissions','GDP','Population','Urban_population','latitud','longitud','CPI','Density\\n(P/Km2)']\n",
    "\n",
    "def convertir_numerico(df,lista_columnas):\n",
    "    \"\"\"\n",
    "    Convierte una columna en numerica \n",
    "\n",
    "    Args:\n",
    "        columna (str): Una columna en string q\n",
    "\n",
    "    Returns:\n",
    "        float: El número decimal equivalente en formato de número flotante.\n",
    "    \"\"\"\n",
    "    for columna in lista_columnas:\n",
    "        df[columna] = pd.to_numeric(df[columna], errors='coerce')\n",
    "\n",
    "    return df\n",
    "\n",
    "df[lista_columnas].apply(convertir_numerico)\n",
    "\n",
    "\n",
    "\n"
   ]
  },
  {
   "cell_type": "markdown",
   "metadata": {},
   "source": [
    "2. Crea una función para añadir una nueva columna llamada 'Continent' al DataFrame para indicar a qué continente pertenece cada país."
   ]
  },
  {
   "cell_type": "code",
   "execution_count": null,
   "metadata": {},
   "outputs": [],
   "source": [
    "def asignar_continente(pais):\n",
    "\n",
    "    continentes_paises = {\n",
    "    'Asia': ['Afghanistan', 'Armenia', 'Azerbaijan', 'Bahrain', 'Bangladesh', 'Bhutan', 'Brunei', 'Cambodia', 'China', 'Georgia', 'India', 'Indonesia', 'Iran', 'Iraq', 'Israel', 'Japan', 'Jordan', 'Kazakhstan', 'Kuwait', 'Kyrgyzstan', 'Laos', 'Lebanon', 'Malaysia', 'Maldives', 'Mongolia', 'Myanmar', 'Nepal', 'North Korea', 'Oman', 'Pakistan', 'Palau', 'Palestinian National Authority', 'Philippines', 'Qatar', 'Saudi Arabia', 'Singapore', 'South Korea', 'Sri Lanka', 'Syria', 'Tajikistan', 'Thailand', 'East Timor', 'Turkey', 'Turkmenistan', 'United Arab Emirates', 'Uzbekistan', 'Vietnam', 'Yemen'],\n",
    "    'Europe': ['Albania', 'Andorra', 'Austria', 'Belarus', 'Belgium', 'Bosnia and Herzegovina', 'Bulgaria', 'Croatia', 'Cyprus', 'Czech Republic', 'Denmark', 'Estonia', 'Finland', 'France', 'Georgia', 'Germany', 'Greece', 'Hungary', 'Iceland', 'Republic of Ireland', 'Italy', 'Latvia', 'Liechtenstein', 'Lithuania', 'Luxembourg', 'Malta', 'Moldova', 'Monaco', 'Montenegro', 'Netherlands', 'North Macedonia', 'Norway', 'Poland', 'Portugal', 'Romania', 'Russia', 'San Marino', 'Serbia', 'Slovakia', 'Slovenia', 'Spain', 'Sweden', 'Switzerland', 'Ukraine', 'United Kingdom'],\n",
    "    'Africa': ['Algeria', 'Angola', 'Benin', 'Botswana', 'Burkina Faso', 'Burundi', 'Ivory Coast', 'Cape Verde', 'Cameroon', 'Central African Republic', 'Chad', 'Comoros', 'Republic of the Congo', 'Costa Rica', 'Democratic Republic of the Congo', 'Djibouti', 'Egypt', 'Equatorial Guinea', 'Eritrea', 'Eswatini', 'Ethiopia', 'Gabon', 'The Gambia', 'Ghana', 'Guinea', 'Guinea-Bissau', 'Kenya', 'Lesotho', 'Liberia', 'Libya', 'Madagascar', 'Malawi', 'Mauritania', 'Mauritius', 'Morocco', 'Mozambique', 'Namibia', 'Niger', 'Nigeria', 'Rwanda', 'Saint Kitts and Nevis', 'Saint Lucia', 'Saint Vincent and the Grenadines', 'Seychelles', 'Sierra Leone', 'Somalia', 'South Africa', 'South Sudan', 'Sudan', 'Tanzania', 'Togo', 'Tunisia', 'Uganda', 'Zambia', 'Zimbabwe'],\n",
    "    'North America': ['Antigua and Barbuda', 'The Bahamas', 'Barbados', 'Belize', 'Canada', 'Dominica', 'Dominican Republic', 'El Salvador', 'Grenada', 'Guatemala', 'Haiti', 'Honduras', 'Jamaica', 'Mexico', 'Nicaragua', 'Panama', 'Saint Kitts and Nevis', 'Saint Lucia', 'Saint Vincent and the Grenadines', 'Trinidad and Tobago', 'United States'],\n",
    "    'South America': ['Argentina', 'Bolivia', 'Brazil', 'Chile', 'Colombia', 'Ecuador', 'Guyana', 'Paraguay', 'Peru', 'Suriname', 'Uruguay', 'Venezuela'],\n",
    "    'Oceania': ['Australia', 'Fiji', 'Kiribati', 'Marshall Islands', 'Nauru', 'New Zealand', 'Palau', 'Papua New Guinea', 'Samoa', 'Solomon Islands', 'Tonga', 'Tuvalu', 'Vanuatu']\n",
    "}\n",
    "\n",
    "    for continente, paises in continentes_paises.items():\n",
    "        if pais in paises:\n",
    "            return continente\n",
    "        \n",
    "df['Continent'] = df['Country'].apply(asignar_continente)\n",
    "\n"
   ]
  },
  {
   "cell_type": "code",
   "execution_count": null,
   "metadata": {},
   "outputs": [],
   "source": [
    "df.columns"
   ]
  },
  {
   "cell_type": "markdown",
   "metadata": {},
   "source": [
    "3. Guarda el DataFrame después de los cambios creados después de los dos ejercicios anteriores para usarlo en el pairprogramming de mañana."
   ]
  },
  {
   "cell_type": "code",
   "execution_count": null,
   "metadata": {},
   "outputs": [],
   "source": [
    "df.to_csv('df_GroupApply.csv', index=False)\n"
   ]
  },
  {
   "cell_type": "markdown",
   "metadata": {},
   "source": [
    "                                Ejercicios groupby"
   ]
  },
  {
   "cell_type": "markdown",
   "metadata": {},
   "source": [
    "1. ¿Cuál es la densidad de población promedio por continente?"
   ]
  },
  {
   "cell_type": "code",
   "execution_count": null,
   "metadata": {},
   "outputs": [],
   "source": []
  },
  {
   "cell_type": "markdown",
   "metadata": {},
   "source": [
    "2. ¿Cuál es la esperanza de vida promedio por idioma oficial? Agrupa los países por idioma oficial y calcula la esperanza de vida promedio."
   ]
  },
  {
   "cell_type": "code",
   "execution_count": null,
   "metadata": {},
   "outputs": [],
   "source": [
    "esperanza_idioma = df.groupby('Official language')['Life expectancy'].mean()\n",
    "esperanza_idioma"
   ]
  },
  {
   "cell_type": "markdown",
   "metadata": {},
   "source": [
    "3. ¿Cuál es la tasa de mortalidad infantil promedio por moneda?"
   ]
  },
  {
   "cell_type": "code",
   "execution_count": null,
   "metadata": {},
   "outputs": [],
   "source": [
    "infantil_moneda = df.groupby('Currency-Code')['Infant mortality'].mean()\n",
    "infantil_moneda"
   ]
  },
  {
   "cell_type": "markdown",
   "metadata": {},
   "source": [
    "4. ¿Cuál es el salario mínimo por continente?"
   ]
  },
  {
   "cell_type": "code",
   "execution_count": null,
   "metadata": {},
   "outputs": [],
   "source": [
    "salario_continente = df.groupby('Continent')['Minimum wage'].mean()\n",
    "salario_continente"
   ]
  },
  {
   "cell_type": "markdown",
   "metadata": {},
   "source": [
    "5. ¿Cuál es la tasa de impuestos total máxima por densidad de población por continente? Para solucionar este ejercicio puedes:\n",
    "Primero, necesitas calcular la tasa de impuestos total para cada continente. La tasa de impuestos total se encuentra en la columna \"total_tax_rate\".\n",
    "Luego, calcula la densidad de población para cada continente. La densidad de población se encuentra en la columna \"density\".\n",
    "Ahora, divide la tasa de impuestos total entre la densidad de población para obtener la tasa de impuestos total por persona por kilómetro cuadrado.\n",
    "Encuentra el país que tiene el valor más alto en esta nueva columna calculada."
   ]
  },
  {
   "cell_type": "code",
   "execution_count": null,
   "metadata": {},
   "outputs": [],
   "source": []
  },
  {
   "cell_type": "markdown",
   "metadata": {},
   "source": [
    "6. ¿Cuál es el porcentaje de población urbana promedio por continente?"
   ]
  },
  {
   "cell_type": "code",
   "execution_count": null,
   "metadata": {},
   "outputs": [],
   "source": [
    "df['Urban_population'] = pd.to_numeric(df['Urban_population'], errors='coerce') #Esto es de la Chati, porque yo incapaz, vaya\n",
    "\n",
    "urbana_continente = df.groupby('Continent')['Urban_population'].mean()\n",
    "urbana_continente"
   ]
  },
  {
   "cell_type": "markdown",
   "metadata": {},
   "source": [
    "7. ¿Cuál es la diferencia entre el PIB promedio y el gasto en salud de bolsillo promedio por idioma oficial? Para contestar esta pregunta dabes seguir los siguientes pasos:\n",
    "\n",
    "Agrupa el DataFrame por idioma oficial y calcula la media del Gasto de Bolsillo en salud (out_of_pocket_health_expenditure) y del GPD.\n",
    "\n",
    "Calcula la diferencia entre el PIB promedio y el gasto en salud de bolsillo promedio"
   ]
  },
  {
   "cell_type": "code",
   "execution_count": null,
   "metadata": {},
   "outputs": [],
   "source": []
  },
  {
   "cell_type": "markdown",
   "metadata": {},
   "source": [
    "8. ¿Cuál es la tasa de maternidad promedio por tasa de impuestos total? Para resolver el ejercicio deberás:\n",
    "\n",
    "Primero, calcula la tasa de maternidad promedio para cada continente. Puedes usar la columna \"maternal_mortality_ratio\" que representa la tasa de mortalidad materna.\n",
    "\n",
    "Calcula la tasa de impuestos total promedio para cada continente. Puedes usar la columna \"total_tax_rate\" que representa la tasa de impuestos total en cada continente.\n",
    "\n",
    "Luego, divide la tasa de maternidad promedio por la tasa de impuestos total promedio para obtener la relación entre ambas tasas.\n",
    "\n",
    "Encuentra el país con la tasa de maternidad más alta por punto porcentual de tasa de impuestos total."
   ]
  },
  {
   "cell_type": "code",
   "execution_count": null,
   "metadata": {},
   "outputs": [],
   "source": [
    "# Primero, calcula la tasa de maternidad promedio para cada continente. \n",
    "#Puedes usar la columna \"maternal_mortality_ratio\" que representa la tasa de mortalidad materna.\n",
    "\n",
    "maternidad_continente = df.groupby('Continent')['Maternal mortality ratio'].mean()\n",
    "maternidad_continente"
   ]
  },
  {
   "cell_type": "code",
   "execution_count": null,
   "metadata": {},
   "outputs": [],
   "source": [
    "# Calcula la tasa de impuestos total promedio para cada continente.\n",
    "# Puedes usar la columna \"total_tax_rate\" que representa la tasa de impuestos total en cada continente.\n",
    "\n",
    "impuestos_continente = df.groupby('Continent')['Total tax rate'].mean()\n",
    "impuestos_continente"
   ]
  },
  {
   "cell_type": "code",
   "execution_count": null,
   "metadata": {},
   "outputs": [],
   "source": [
    "# Luego, divide la tasa de maternidad promedio por la tasa de impuestos total promedio para obtener la relación entre ambas tasas.\n",
    "\n",
    "medias_continente = df.groupby('Continent')[['Maternal mortality ratio', 'Total tax rate']].mean()\n",
    "medias_continente"
   ]
  },
  {
   "cell_type": "code",
   "execution_count": null,
   "metadata": {},
   "outputs": [],
   "source": [
    "# Encuentra el país con la tasa de maternidad más alta por punto porcentual de tasa de impuestos total.\n",
    "\n",
    "#No entiendo eso de la tasa más alta por punto porcentual por más que busco en internet"
   ]
  },
  {
   "cell_type": "markdown",
   "metadata": {},
   "source": [
    "9. Ejercicios bonus groupby:\n",
    "¿Cuál es la tasa de natalidad máxima por área forestal por continente? Encuentra el país con la tasa de natalidad más alta por cada punto porcentual de área forestal.\n",
    "\n",
    "¿Cuál es la diferencia entre la tasa de impuestos total y la tasa de desempleo promedio por continente?"
   ]
  }
 ],
 "metadata": {
  "kernelspec": {
   "display_name": "base",
   "language": "python",
   "name": "python3"
  },
  "language_info": {
   "codemirror_mode": {
    "name": "ipython",
    "version": 3
   },
   "file_extension": ".py",
   "mimetype": "text/x-python",
   "name": "python",
   "nbconvert_exporter": "python",
   "pygments_lexer": "ipython3",
   "version": "3.9.7"
  }
 },
 "nbformat": 4,
 "nbformat_minor": 2
}
